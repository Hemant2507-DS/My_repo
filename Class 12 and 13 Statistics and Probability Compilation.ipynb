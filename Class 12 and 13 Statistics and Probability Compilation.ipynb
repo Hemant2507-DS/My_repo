{
 "cells": [
  {
   "cell_type": "code",
   "execution_count": null,
   "id": "25d756e5",
   "metadata": {},
   "outputs": [],
   "source": []
  },
  {
   "cell_type": "code",
   "execution_count": null,
   "id": "1d96af43",
   "metadata": {},
   "outputs": [],
   "source": []
  },
  {
   "cell_type": "code",
   "execution_count": null,
   "id": "0a72e758",
   "metadata": {},
   "outputs": [],
   "source": []
  },
  {
   "cell_type": "code",
   "execution_count": null,
   "id": "d50e526e",
   "metadata": {},
   "outputs": [],
   "source": []
  },
  {
   "cell_type": "markdown",
   "id": "b9686400",
   "metadata": {},
   "source": [
    "### Three persons A, B and C have applied for a job in a private company. The chance of their selections is in the ratio 1 : 2 : 4. The probabilities that A, B and C can introduce changes to improve the profits of the company are 0.8, 0.5 and 0.3, respectively. If the change does not take place, find the probability that it is due to the appointment of C."
   ]
  },
  {
   "cell_type": "code",
   "execution_count": null,
   "id": "f7a5679f",
   "metadata": {},
   "outputs": [],
   "source": [
    "selected\n",
    "selected\n",
    "selected\n",
    "\n",
    "I = changes introduced but profit not happened\n",
    "\n",
    "1+2+4 = 7\n",
    "P(E1) = 1/7\n",
    "P(E2) = 2/7\n",
    "P(E3) = 4/7\n",
    "\n",
    "P(I E1) = profit not happend by the changes introduces by I = 1- P(happened by E1) = 1-0.8 = 0.2\n",
    "P(I E2) = profit not happend by the changes introduces by I = 1- P(happened by E2) = 1-0.5 = 0.5\n",
    "P(I E3) = profit not happend by the changes introduces by I = 1- P(happened by E3) = 1-0.3 = 0.7\n",
    "\n",
    "prob. of not happened pofit due to selection of C\n",
    "\n",
    "P(I|E1)*P(E1)+P(I|E2)*P(E2) +P(I|E3)*P(E3) -> total outcome\n",
    "\n",
    "P(E3|I)= P(I|E3)*P(E3)/P(I|E1)*P(E1)+P(I|E2)*P(E2) +P(I|E3)*P(E3)\n",
    "          (0.7* 4/7) / (0.2*1/7 + 0.5*2/7 + 0.7*4/7)"
   ]
  },
  {
   "cell_type": "markdown",
   "id": "f0e16322",
   "metadata": {},
   "source": [
    "### In a group of students, 60% are girls and 40% are boys. Among the girls, 30% play basketball, while among the boys, 20% play basketball. If a student is randomly selected and found to play basketball, what is the probability that the student is a girl?"
   ]
  },
  {
   "cell_type": "code",
   "execution_count": null,
   "id": "3d268911",
   "metadata": {},
   "outputs": [],
   "source": [
    "P(G|Gb) = ?\n",
    "\n",
    "P(Gb) = P(Gb|G)*P(G) + P(Bb|B)+P(B)\n",
    "= 0.3*0.6 + 0.2*0.4\n",
    "\n",
    "p(GGb) = (0.3*0.6)/(0.3*0.6+0.2*0.4)\n",
    "\n",
    "P(G) -- > prob. of selecting a girl -- > 0.6\n",
    "P(B) -- > prob. of selecting a boy -- > 0.4\n",
    "\n",
    "P(Gb|G) -- >prob. of girls who is playing basketball = 0.3\n",
    "P(Bb|B) -- >prob. of boys who is playing basketball = 0.2\n",
    "\n",
    "I"
   ]
  },
  {
   "cell_type": "code",
   "execution_count": 3,
   "id": "b1e91bb9",
   "metadata": {},
   "outputs": [],
   "source": [
    "import statistics\n",
    "import numpy as np"
   ]
  },
  {
   "cell_type": "code",
   "execution_count": 2,
   "id": "aa2c8cdd",
   "metadata": {},
   "outputs": [
    {
     "data": {
      "text/plain": [
       "[1, 2, 3, 4, 1, 2, 1]"
      ]
     },
     "execution_count": 2,
     "metadata": {},
     "output_type": "execute_result"
    }
   ],
   "source": [
    "# Central Tendency\n",
    "list1 = [1,2,3,4,1,2,1]\n",
    "list1"
   ]
  },
  {
   "cell_type": "code",
   "execution_count": 6,
   "id": "e5ce47fb",
   "metadata": {},
   "outputs": [],
   "source": [
    "mean = statistics.mean(list1)\n",
    "median = statistics.median(list1)\n",
    "mode = statistics.mode(list1)"
   ]
  },
  {
   "cell_type": "code",
   "execution_count": 8,
   "id": "710e4e76",
   "metadata": {},
   "outputs": [
    {
     "name": "stdout",
     "output_type": "stream",
     "text": [
      "mean : 2\n",
      "median: 2\n",
      "mode: 1\n"
     ]
    }
   ],
   "source": [
    "print(f\"mean : {mean}\")\n",
    "print(f\"median: {median}\")\n",
    "print(f\"mode: {mode}\")"
   ]
  },
  {
   "cell_type": "code",
   "execution_count": 9,
   "id": "1eb007d6",
   "metadata": {},
   "outputs": [
    {
     "name": "stdout",
     "output_type": "stream",
     "text": [
      "range: 3\n"
     ]
    }
   ],
   "source": [
    "# Range\n",
    "range = max(list1)-min(list1)\n",
    "print(f\"range: {range}\")"
   ]
  },
  {
   "cell_type": "code",
   "execution_count": 11,
   "id": "80af0e8f",
   "metadata": {},
   "outputs": [
    {
     "name": "stdout",
     "output_type": "stream",
     "text": [
      "Standard Deviation: 1.1547005383792515\n"
     ]
    }
   ],
   "source": [
    "# Standard Deviation\n",
    "std = statistics.stdev(list1)\n",
    "print(f\"Standard Deviation: {std}\")"
   ]
  },
  {
   "cell_type": "markdown",
   "id": "b27e55e0",
   "metadata": {},
   "source": [
    "### Interquartile Range"
   ]
  },
  {
   "cell_type": "code",
   "execution_count": 15,
   "id": "9a949e91",
   "metadata": {},
   "outputs": [
    {
     "name": "stdout",
     "output_type": "stream",
     "text": [
      "IQR: 1.5\n"
     ]
    }
   ],
   "source": [
    "# IQR = Q3-Q1\n",
    "# Finding IQR is important to remove the outliers in the data. For that we need to find the 'lower' and 'upper' values, \n",
    "# given by the formula:-->\n",
    "# lower_level = Q1 -(IQR*1.5)\n",
    "# Upper_level = Q3 + (IQR*1.5) \n",
    "\n",
    "\n",
    "Q1 = np.percentile(list1,25)\n",
    "Q3 = np.percentile(list1,75)\n",
    "IQR = Q3-Q1\n",
    "print(f'IQR: {IQR}')"
   ]
  },
  {
   "cell_type": "code",
   "execution_count": 16,
   "id": "5a6f2a0c",
   "metadata": {},
   "outputs": [
    {
     "name": "stdout",
     "output_type": "stream",
     "text": [
      "lower_level:-1.25\n",
      "upper_level: 4.75\n"
     ]
    }
   ],
   "source": [
    "lower_level = Q1 -(IQR*1.5)\n",
    "Upper_level = Q3 + (IQR*1.5)\n",
    "print(f\"lower_level:{lower_level}\")\n",
    "print(f\"upper_level: {Upper_level}\")"
   ]
  },
  {
   "cell_type": "code",
   "execution_count": null,
   "id": "5fc16eeb",
   "metadata": {},
   "outputs": [],
   "source": [
    "# (df['col']>=-1.25) & (df[col']<=4.75)"
   ]
  },
  {
   "cell_type": "code",
   "execution_count": null,
   "id": "4369b6cd",
   "metadata": {},
   "outputs": [],
   "source": [
    "## PART 2"
   ]
  },
  {
   "cell_type": "markdown",
   "id": "2f5119c9",
   "metadata": {},
   "source": [
    "### Q. If a coin is tossed 5 times, find the probability of exactly 2 heads"
   ]
  },
  {
   "cell_type": "code",
   "execution_count": null,
   "id": "5e9bc1c7",
   "metadata": {},
   "outputs": [],
   "source": [
    "n = 5\n",
    "P = 1/2 (head)\n",
    "q= 1-P = 1- 1/2= 1/2 (tail)"
   ]
  }
 ],
 "metadata": {
  "kernelspec": {
   "display_name": "Python 3 (ipykernel)",
   "language": "python",
   "name": "python3"
  },
  "language_info": {
   "codemirror_mode": {
    "name": "ipython",
    "version": 3
   },
   "file_extension": ".py",
   "mimetype": "text/x-python",
   "name": "python",
   "nbconvert_exporter": "python",
   "pygments_lexer": "ipython3",
   "version": "3.11.5"
  }
 },
 "nbformat": 4,
 "nbformat_minor": 5
}
