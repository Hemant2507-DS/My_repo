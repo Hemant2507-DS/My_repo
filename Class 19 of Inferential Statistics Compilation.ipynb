{
 "cells": [
  {
   "cell_type": "code",
   "execution_count": 5,
   "id": "a34d4f0e",
   "metadata": {},
   "outputs": [],
   "source": [
    "import numpy as np\n",
    "from scipy import stats\n",
    "import pandas as pd"
   ]
  },
  {
   "cell_type": "code",
   "execution_count": null,
   "id": "fc006c81",
   "metadata": {},
   "outputs": [],
   "source": [
    "# Note: All the tests we do is to validate the population parameters\n",
    "# way to add images:\n",
    "# from IPython.display import Image\n",
    "# image_url = \"./d94266793cf8cb2220810979e0ae926f.jpg\"\n",
    "# Whenever you perform an 'f' test the variation is given to you or 'sum of square deviation' is given to you.\n"
   ]
  },
  {
   "cell_type": "code",
   "execution_count": 2,
   "id": "c9d51ae7",
   "metadata": {},
   "outputs": [],
   "source": [
    "from IPython.display import Image"
   ]
  },
  {
   "cell_type": "code",
   "execution_count": 7,
   "id": "5e77e2db",
   "metadata": {},
   "outputs": [],
   "source": [
    "from scipy.stats import f"
   ]
  },
  {
   "cell_type": "code",
   "execution_count": 13,
   "id": "7492222f",
   "metadata": {},
   "outputs": [
    {
     "name": "stdout",
     "output_type": "stream",
     "text": [
      "Variance of lays is: 10.0\n",
      "Variance of KurKure is: 9.0\n",
      "f_statistic: 1.11\n",
      "p_value is: 0.5774577638888669\n",
      "Fail to accept Ho: Lays and KurKure do not have significant variance\n"
     ]
    }
   ],
   "source": [
    "n1 = 10\n",
    "n2 = 13\n",
    "x1 = 15\n",
    "x2 = 14\n",
    "SSD1 = 90\n",
    "SSD2 = 108\n",
    "dof1 = n1-1\n",
    "dof2 = n2-1\n",
    "\n",
    "variance_lays = SSD1/(n1-1)\n",
    "variance_kurkure = SSD2/(n2-1)\n",
    "print(f\"Variance of lays is: {variance_lays}\")\n",
    "print(f\"Variance of KurKure is: {variance_kurkure}\")\n",
    "\n",
    "f_statistic = variance_lays/variance_kurkure\n",
    "print(f\"f_statistic: {f_statistic:.2f}\")\n",
    "alpha = 0.05\n",
    "\n",
    "p_value = f.cdf(f_statistic, dof1, dof2)\n",
    "print(f'p_value is: {p_value}')\n",
    "\n",
    "if p_value < alpha:\n",
    "    print(f'Reject Ho: Lays and KurKure have significant variance')\n",
    "else:\n",
    "    print(f'Fail to accept Ho: Lays and KurKure do not have significant variance')"
   ]
  },
  {
   "cell_type": "code",
   "execution_count": 14,
   "id": "a5fb081c",
   "metadata": {},
   "outputs": [
    {
     "name": "stdout",
     "output_type": "stream",
     "text": [
      "f_critical is: 3.435845641861058\n"
     ]
    }
   ],
   "source": [
    "f_critical = f.ppf(1-alpha/2, dof1, dof2)\n",
    "print(f'f_critical is: {f_critical}')"
   ]
  },
  {
   "cell_type": "markdown",
   "id": "d5b00d03",
   "metadata": {},
   "source": [
    "### Chi-Square or Goodness-of-fit test"
   ]
  },
  {
   "cell_type": "code",
   "execution_count": 25,
   "id": "d3436c89",
   "metadata": {},
   "outputs": [
    {
     "data": {
      "text/plain": [
       "3.2"
      ]
     },
     "execution_count": 25,
     "metadata": {},
     "output_type": "execute_result"
    }
   ],
   "source": [
    "observed = [23,16,14,19,28]\n",
    "expected = [20,20,20,20,20]\n",
    "chi2_statistic = 0\n",
    "for observed_val, expected_val in zip(observed, expected):\n",
    "    chi2_statistic = (observed_val-expected_val)**2/expected_val\n",
    "chi2_statistic\n"
   ]
  },
  {
   "cell_type": "code",
   "execution_count": 30,
   "id": "f61601eb",
   "metadata": {},
   "outputs": [
    {
     "name": "stdout",
     "output_type": "stream",
     "text": [
      "15\n"
     ]
    }
   ],
   "source": [
    "# The above code is similar to creating a loop for addition or sum of an array\n",
    "arr = [1, 2, 3, 4, 5]\n",
    "count = 0\n",
    "for i in arr:\n",
    "    count = count+i  # Corrected line\n",
    "print(count)"
   ]
  },
  {
   "cell_type": "code",
   "execution_count": 31,
   "id": "4cb174d9",
   "metadata": {},
   "outputs": [
    {
     "name": "stdout",
     "output_type": "stream",
     "text": [
      "15\n"
     ]
    }
   ],
   "source": [
    "arr = [1, 2, 3, 4, 5]\n",
    "sum = 0\n",
    "for i in arr:\n",
    "    sum = sum+i  # Corrected line\n",
    "print(sum)"
   ]
  },
  {
   "cell_type": "code",
   "execution_count": 32,
   "id": "898705f6",
   "metadata": {},
   "outputs": [],
   "source": [
    "from scipy.stats import chi2"
   ]
  },
  {
   "cell_type": "code",
   "execution_count": 36,
   "id": "eb32a4cd",
   "metadata": {},
   "outputs": [
    {
     "name": "stdout",
     "output_type": "stream",
     "text": [
      "p_value is: 0.47506905321389586\n",
      "Fail to accept Ho: Observed value aligns with expected value\n"
     ]
    }
   ],
   "source": [
    "dof = 4\n",
    "alpha = 0.05\n",
    "p_value = chi2.cdf(chi2_statistic, dof)\n",
    "print(f'p_value is: {p_value}')\n",
    "\n",
    "if p_value < alpha:\n",
    "    print(f'Reject Ho: Observed value does not align with expected value')\n",
    "else:\n",
    "    print(f'Fail to accept Ho: Observed value aligns with expected value')"
   ]
  },
  {
   "cell_type": "markdown",
   "id": "a76a6e6d",
   "metadata": {},
   "source": [
    "### Analysis of Variance Test (ANNOVA)"
   ]
  },
  {
   "cell_type": "code",
   "execution_count": 47,
   "id": "a73ee4eb",
   "metadata": {},
   "outputs": [],
   "source": [
    "from scipy.stats import f_oneway"
   ]
  },
  {
   "cell_type": "code",
   "execution_count": 48,
   "id": "c78a47bf",
   "metadata": {},
   "outputs": [
    {
     "name": "stdout",
     "output_type": "stream",
     "text": [
      "fertilizer_A: [9 4 9 9 1 6 4]\n",
      "fertilizer_B: [11 12 10 10 11  6  8]\n",
      "fertilizer_C: [1 5 5 1 3 2 3]\n"
     ]
    }
   ],
   "source": [
    "# Very important question from Interview perspective\n",
    "\n",
    "# Suppose you are studying the effectiveness of three different fertilizers (Fertilizer A, B, and C) on the growth of plants.\n",
    "# You have randomly selected 20 plants and divided them into three groups, each treated with one of the fertilizers. \n",
    "# After a month, you measure the height of each plant.(one way annova)\n",
    "np.random.seed(3)\n",
    "alpha = 0.05\n",
    "fertilizer_A = np.random.randint(1, 10, size=7)\n",
    "print(f'fertilizer_A: {fertilizer_A}')\n",
    "fertilizer_B = np.random.randint(1,14, size = 7)\n",
    "print(f'fertilizer_B: {fertilizer_B}')\n",
    "fertilizer_C = np.random.randint(1,6, size = 7)\n",
    "print(f'fertilizer_C: {fertilizer_C}')"
   ]
  },
  {
   "cell_type": "code",
   "execution_count": 51,
   "id": "e80b998f",
   "metadata": {},
   "outputs": [
    {
     "name": "stdout",
     "output_type": "stream",
     "text": [
      "One-way Annova Demo\n",
      "Reject Ho: There was significant differences in mean height\n"
     ]
    }
   ],
   "source": [
    "f_statistic, p_value = f_oneway(fertilizer_A, fertilizer_B, fertilizer_C)\n",
    "print('One-way Annova Demo')\n",
    "      \n",
    "if p_value < alpha:\n",
    "      print(f'Reject Ho: There was significant differences in mean height')\n",
    "else:\n",
    "      print(f'Fail to reject Ho: There was no significant difference in mean height')"
   ]
  },
  {
   "cell_type": "code",
   "execution_count": null,
   "id": "413906cd",
   "metadata": {},
   "outputs": [],
   "source": [
    "# Two way annova is based on 'INTERACTION' effect. For example 'Age', 'Salary' are independent variables and 'Loan' variable\n",
    "# is dependent on 'Age', 'Salary' as well as on 'Age' and 'Salary' combined. This is called Interaction effect."
   ]
  },
  {
   "cell_type": "code",
   "execution_count": null,
   "id": "9b28e13b",
   "metadata": {},
   "outputs": [],
   "source": [
    "# Interview Question\n",
    "# Suppose you're studying the effects of both gender and education level on income. You collect data from a sample of\n",
    "# individuals, recording thetr gender (male/female) and education level (high school, bachelor's degree, master's degree). \n",
    "# Then you measure their annual income."
   ]
  },
  {
   "cell_type": "code",
   "execution_count": 9,
   "id": "ab9f1288",
   "metadata": {},
   "outputs": [
    {
     "data": {
      "text/html": [
       "<div>\n",
       "<style scoped>\n",
       "    .dataframe tbody tr th:only-of-type {\n",
       "        vertical-align: middle;\n",
       "    }\n",
       "\n",
       "    .dataframe tbody tr th {\n",
       "        vertical-align: top;\n",
       "    }\n",
       "\n",
       "    .dataframe thead th {\n",
       "        text-align: right;\n",
       "    }\n",
       "</style>\n",
       "<table border=\"1\" class=\"dataframe\">\n",
       "  <thead>\n",
       "    <tr style=\"text-align: right;\">\n",
       "      <th></th>\n",
       "      <th>df</th>\n",
       "      <th>sum_sq</th>\n",
       "      <th>mean_sq</th>\n",
       "      <th>F</th>\n",
       "      <th>PR(&gt;F)</th>\n",
       "    </tr>\n",
       "  </thead>\n",
       "  <tbody>\n",
       "    <tr>\n",
       "      <th>Gender</th>\n",
       "      <td>1.0</td>\n",
       "      <td>6.666667e+07</td>\n",
       "      <td>6.666667e+07</td>\n",
       "      <td>0.122436</td>\n",
       "      <td>0.785718</td>\n",
       "    </tr>\n",
       "    <tr>\n",
       "      <th>Edu_lev</th>\n",
       "      <td>2.0</td>\n",
       "      <td>1.153524e+09</td>\n",
       "      <td>5.767619e+08</td>\n",
       "      <td>1.059251</td>\n",
       "      <td>0.566275</td>\n",
       "    </tr>\n",
       "    <tr>\n",
       "      <th>Gender:Edu_lev</th>\n",
       "      <td>2.0</td>\n",
       "      <td>6.131429e+08</td>\n",
       "      <td>3.065714e+08</td>\n",
       "      <td>0.563033</td>\n",
       "      <td>0.685822</td>\n",
       "    </tr>\n",
       "    <tr>\n",
       "      <th>Residual</th>\n",
       "      <td>1.0</td>\n",
       "      <td>5.445000e+08</td>\n",
       "      <td>5.445000e+08</td>\n",
       "      <td>NaN</td>\n",
       "      <td>NaN</td>\n",
       "    </tr>\n",
       "  </tbody>\n",
       "</table>\n",
       "</div>"
      ],
      "text/plain": [
       "                 df        sum_sq       mean_sq         F    PR(>F)\n",
       "Gender          1.0  6.666667e+07  6.666667e+07  0.122436  0.785718\n",
       "Edu_lev         2.0  1.153524e+09  5.767619e+08  1.059251  0.566275\n",
       "Gender:Edu_lev  2.0  6.131429e+08  3.065714e+08  0.563033  0.685822\n",
       "Residual        1.0  5.445000e+08  5.445000e+08       NaN       NaN"
      ]
     },
     "execution_count": 9,
     "metadata": {},
     "output_type": "execute_result"
    }
   ],
   "source": [
    "from statsmodels.formula.api import ols \n",
    "from statsmodels.stats.anova import anova_lm\n",
    "alpha = 0.05\n",
    "df = pd.DataFrame({'Gender': ['Male','Female','Female', 'Male','Female','Male'],\n",
    "                  'Income': [77000, 55000,88000,49000,59000,96000],\n",
    "                  'Edu_lev': ['Bachelors','Bachelors', 'Bachelors','Masters','Masters','Phd']})\n",
    "model = ols('Income ~ Gender + Edu_lev + Gender:Edu_lev', data = df).fit() # dependent variable separated from ind using '~'\n",
    "anova_result = anova_lm(model)                                             # ':'--> 'Interaction effect'\n",
    "                                                                           # lm = Linear Model, OLs = Ordinary Least Squares\n",
    "anova_result"
   ]
  },
  {
   "cell_type": "code",
   "execution_count": 10,
   "id": "6e400faa",
   "metadata": {},
   "outputs": [
    {
     "data": {
      "text/html": [
       "<div>\n",
       "<style scoped>\n",
       "    .dataframe tbody tr th:only-of-type {\n",
       "        vertical-align: middle;\n",
       "    }\n",
       "\n",
       "    .dataframe tbody tr th {\n",
       "        vertical-align: top;\n",
       "    }\n",
       "\n",
       "    .dataframe thead th {\n",
       "        text-align: right;\n",
       "    }\n",
       "</style>\n",
       "<table border=\"1\" class=\"dataframe\">\n",
       "  <thead>\n",
       "    <tr style=\"text-align: right;\">\n",
       "      <th></th>\n",
       "      <th>Gender</th>\n",
       "      <th>Income</th>\n",
       "      <th>Edu_lev</th>\n",
       "    </tr>\n",
       "  </thead>\n",
       "  <tbody>\n",
       "    <tr>\n",
       "      <th>0</th>\n",
       "      <td>Male</td>\n",
       "      <td>77000</td>\n",
       "      <td>Bachelors</td>\n",
       "    </tr>\n",
       "    <tr>\n",
       "      <th>1</th>\n",
       "      <td>Female</td>\n",
       "      <td>55000</td>\n",
       "      <td>Bachelors</td>\n",
       "    </tr>\n",
       "    <tr>\n",
       "      <th>2</th>\n",
       "      <td>Female</td>\n",
       "      <td>88000</td>\n",
       "      <td>Bachelors</td>\n",
       "    </tr>\n",
       "    <tr>\n",
       "      <th>3</th>\n",
       "      <td>Male</td>\n",
       "      <td>49000</td>\n",
       "      <td>Masters</td>\n",
       "    </tr>\n",
       "    <tr>\n",
       "      <th>4</th>\n",
       "      <td>Female</td>\n",
       "      <td>59000</td>\n",
       "      <td>Masters</td>\n",
       "    </tr>\n",
       "    <tr>\n",
       "      <th>5</th>\n",
       "      <td>Male</td>\n",
       "      <td>96000</td>\n",
       "      <td>Phd</td>\n",
       "    </tr>\n",
       "  </tbody>\n",
       "</table>\n",
       "</div>"
      ],
      "text/plain": [
       "   Gender  Income    Edu_lev\n",
       "0    Male   77000  Bachelors\n",
       "1  Female   55000  Bachelors\n",
       "2  Female   88000  Bachelors\n",
       "3    Male   49000    Masters\n",
       "4  Female   59000    Masters\n",
       "5    Male   96000        Phd"
      ]
     },
     "execution_count": 10,
     "metadata": {},
     "output_type": "execute_result"
    }
   ],
   "source": [
    "df"
   ]
  },
  {
   "cell_type": "code",
   "execution_count": null,
   "id": "180d2b27",
   "metadata": {},
   "outputs": [],
   "source": []
  }
 ],
 "metadata": {
  "kernelspec": {
   "display_name": "Python 3 (ipykernel)",
   "language": "python",
   "name": "python3"
  },
  "language_info": {
   "codemirror_mode": {
    "name": "ipython",
    "version": 3
   },
   "file_extension": ".py",
   "mimetype": "text/x-python",
   "name": "python",
   "nbconvert_exporter": "python",
   "pygments_lexer": "ipython3",
   "version": "3.11.5"
  }
 },
 "nbformat": 4,
 "nbformat_minor": 5
}
