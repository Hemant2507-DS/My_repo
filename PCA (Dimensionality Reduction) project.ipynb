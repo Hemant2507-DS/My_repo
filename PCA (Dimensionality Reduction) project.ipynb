{
 "cells": [
  {
   "cell_type": "code",
   "execution_count": 2,
   "id": "ee74e7df-54ff-409e-8ae8-b0259f6fdc23",
   "metadata": {},
   "outputs": [],
   "source": [
    "import pandas as pd\n",
    "import numpy as np\n",
    "import matplotlib.pyplot as plt\n",
    "import seaborn as sns"
   ]
  },
  {
   "cell_type": "code",
   "execution_count": 3,
   "id": "960037a9-e462-4a5e-ba58-9c38a14d1118",
   "metadata": {},
   "outputs": [
    {
     "data": {
      "text/plain": [
       "4.142857142857143"
      ]
     },
     "execution_count": 3,
     "metadata": {},
     "output_type": "execute_result"
    }
   ],
   "source": [
    "a = np.array([1,2,3,4,5,5,9])\n",
    "np.mean(a)"
   ]
  },
  {
   "cell_type": "code",
   "execution_count": 4,
   "id": "2ddd72ff-a808-4fce-b9c1-2dc27467a6b8",
   "metadata": {},
   "outputs": [],
   "source": [
    "from scipy import stats"
   ]
  },
  {
   "cell_type": "code",
   "execution_count": 5,
   "id": "507e9451-6498-46b0-ae23-e8ab3f5bad5e",
   "metadata": {},
   "outputs": [
    {
     "data": {
      "text/plain": [
       "4.142857142857143"
      ]
     },
     "execution_count": 5,
     "metadata": {},
     "output_type": "execute_result"
    }
   ],
   "source": [
    "b = [1,2,3,4,5,5,9]\n",
    "mean = stats.trim_mean(b,0.1)\n",
    "mean"
   ]
  },
  {
   "cell_type": "markdown",
   "id": "55609353-e6b2-403d-8b6c-749f0db8713f",
   "metadata": {},
   "source": [
    "#### Dimensionality Reduction Algorithms include PCA and LDA"
   ]
  },
  {
   "cell_type": "markdown",
   "id": "b7250eee-e624-444e-98b4-5295366112fb",
   "metadata": {},
   "source": [
    "Dimensionality Reduction (DR) is an unsupervised learning technique that transforms a dataset into a smaller set of features while retaining as much variability as possible. It leverages feature extraction to address the \"curse of dimensionality,\" a common problem where too many features can lead to overfitting and reduced model performance. In PCA, you take the original data and for that data, calculate covariance matrix. This covariance matrix will help you determie 'Eigen vectors' for the given data and drop all your data points on Eigen vectors."
   ]
  },
  {
   "cell_type": "code",
   "execution_count": 6,
   "id": "85109e47-7b9b-4d09-a4c0-1295f58d9703",
   "metadata": {},
   "outputs": [],
   "source": [
    "url = \"https://archive.ics.uci.edu/ml/machine-learning-databases/iris/iris.data\""
   ]
  },
  {
   "cell_type": "code",
   "execution_count": 41,
   "id": "12a6dbb0-34fe-4819-abb1-5fda5ef623ea",
   "metadata": {},
   "outputs": [
    {
     "data": {
      "text/html": [
       "<div>\n",
       "<style scoped>\n",
       "    .dataframe tbody tr th:only-of-type {\n",
       "        vertical-align: middle;\n",
       "    }\n",
       "\n",
       "    .dataframe tbody tr th {\n",
       "        vertical-align: top;\n",
       "    }\n",
       "\n",
       "    .dataframe thead th {\n",
       "        text-align: right;\n",
       "    }\n",
       "</style>\n",
       "<table border=\"1\" class=\"dataframe\">\n",
       "  <thead>\n",
       "    <tr style=\"text-align: right;\">\n",
       "      <th></th>\n",
       "      <th>sepal length</th>\n",
       "      <th>sepal width</th>\n",
       "      <th>petal length</th>\n",
       "      <th>petal width</th>\n",
       "      <th>target</th>\n",
       "    </tr>\n",
       "  </thead>\n",
       "  <tbody>\n",
       "    <tr>\n",
       "      <th>0</th>\n",
       "      <td>5.1</td>\n",
       "      <td>3.5</td>\n",
       "      <td>1.4</td>\n",
       "      <td>0.2</td>\n",
       "      <td>Iris-setosa</td>\n",
       "    </tr>\n",
       "    <tr>\n",
       "      <th>1</th>\n",
       "      <td>4.9</td>\n",
       "      <td>3.0</td>\n",
       "      <td>1.4</td>\n",
       "      <td>0.2</td>\n",
       "      <td>Iris-setosa</td>\n",
       "    </tr>\n",
       "    <tr>\n",
       "      <th>2</th>\n",
       "      <td>4.7</td>\n",
       "      <td>3.2</td>\n",
       "      <td>1.3</td>\n",
       "      <td>0.2</td>\n",
       "      <td>Iris-setosa</td>\n",
       "    </tr>\n",
       "    <tr>\n",
       "      <th>3</th>\n",
       "      <td>4.6</td>\n",
       "      <td>3.1</td>\n",
       "      <td>1.5</td>\n",
       "      <td>0.2</td>\n",
       "      <td>Iris-setosa</td>\n",
       "    </tr>\n",
       "    <tr>\n",
       "      <th>4</th>\n",
       "      <td>5.0</td>\n",
       "      <td>3.6</td>\n",
       "      <td>1.4</td>\n",
       "      <td>0.2</td>\n",
       "      <td>Iris-setosa</td>\n",
       "    </tr>\n",
       "  </tbody>\n",
       "</table>\n",
       "</div>"
      ],
      "text/plain": [
       "   sepal length  sepal width  petal length  petal width       target\n",
       "0           5.1          3.5           1.4          0.2  Iris-setosa\n",
       "1           4.9          3.0           1.4          0.2  Iris-setosa\n",
       "2           4.7          3.2           1.3          0.2  Iris-setosa\n",
       "3           4.6          3.1           1.5          0.2  Iris-setosa\n",
       "4           5.0          3.6           1.4          0.2  Iris-setosa"
      ]
     },
     "execution_count": 41,
     "metadata": {},
     "output_type": "execute_result"
    }
   ],
   "source": [
    "df = pd.read_csv(url,names = ['sepal length', 'sepal width', 'petal length', 'petal width', 'target'])\n",
    "df.head(5)"
   ]
  },
  {
   "cell_type": "code",
   "execution_count": 42,
   "id": "8ae3e6b2-087e-4f40-a1e3-4ee59a000bc1",
   "metadata": {},
   "outputs": [],
   "source": [
    "X = df.drop(columns = ['target'], axis = 1)"
   ]
  },
  {
   "cell_type": "code",
   "execution_count": 43,
   "id": "237041f0-9df4-45c8-a78e-5f893edf9676",
   "metadata": {},
   "outputs": [
    {
     "data": {
      "text/html": [
       "<div>\n",
       "<style scoped>\n",
       "    .dataframe tbody tr th:only-of-type {\n",
       "        vertical-align: middle;\n",
       "    }\n",
       "\n",
       "    .dataframe tbody tr th {\n",
       "        vertical-align: top;\n",
       "    }\n",
       "\n",
       "    .dataframe thead th {\n",
       "        text-align: right;\n",
       "    }\n",
       "</style>\n",
       "<table border=\"1\" class=\"dataframe\">\n",
       "  <thead>\n",
       "    <tr style=\"text-align: right;\">\n",
       "      <th></th>\n",
       "      <th>sepal length</th>\n",
       "      <th>sepal width</th>\n",
       "      <th>petal length</th>\n",
       "      <th>petal width</th>\n",
       "    </tr>\n",
       "  </thead>\n",
       "  <tbody>\n",
       "    <tr>\n",
       "      <th>0</th>\n",
       "      <td>5.1</td>\n",
       "      <td>3.5</td>\n",
       "      <td>1.4</td>\n",
       "      <td>0.2</td>\n",
       "    </tr>\n",
       "    <tr>\n",
       "      <th>1</th>\n",
       "      <td>4.9</td>\n",
       "      <td>3.0</td>\n",
       "      <td>1.4</td>\n",
       "      <td>0.2</td>\n",
       "    </tr>\n",
       "    <tr>\n",
       "      <th>2</th>\n",
       "      <td>4.7</td>\n",
       "      <td>3.2</td>\n",
       "      <td>1.3</td>\n",
       "      <td>0.2</td>\n",
       "    </tr>\n",
       "    <tr>\n",
       "      <th>3</th>\n",
       "      <td>4.6</td>\n",
       "      <td>3.1</td>\n",
       "      <td>1.5</td>\n",
       "      <td>0.2</td>\n",
       "    </tr>\n",
       "    <tr>\n",
       "      <th>4</th>\n",
       "      <td>5.0</td>\n",
       "      <td>3.6</td>\n",
       "      <td>1.4</td>\n",
       "      <td>0.2</td>\n",
       "    </tr>\n",
       "  </tbody>\n",
       "</table>\n",
       "</div>"
      ],
      "text/plain": [
       "   sepal length  sepal width  petal length  petal width\n",
       "0           5.1          3.5           1.4          0.2\n",
       "1           4.9          3.0           1.4          0.2\n",
       "2           4.7          3.2           1.3          0.2\n",
       "3           4.6          3.1           1.5          0.2\n",
       "4           5.0          3.6           1.4          0.2"
      ]
     },
     "execution_count": 43,
     "metadata": {},
     "output_type": "execute_result"
    }
   ],
   "source": [
    "X.head(5)"
   ]
  },
  {
   "cell_type": "code",
   "execution_count": 44,
   "id": "2210aad6-252b-4a54-a468-ba3299923756",
   "metadata": {},
   "outputs": [],
   "source": [
    "y = df['target']"
   ]
  },
  {
   "cell_type": "code",
   "execution_count": 45,
   "id": "10734585-a0c1-4a1a-9f67-3c0b9dd73c17",
   "metadata": {},
   "outputs": [
    {
     "data": {
      "text/plain": [
       "0    Iris-setosa\n",
       "1    Iris-setosa\n",
       "2    Iris-setosa\n",
       "3    Iris-setosa\n",
       "4    Iris-setosa\n",
       "Name: target, dtype: object"
      ]
     },
     "execution_count": 45,
     "metadata": {},
     "output_type": "execute_result"
    }
   ],
   "source": [
    "y.head(5)"
   ]
  },
  {
   "cell_type": "code",
   "execution_count": 46,
   "id": "5a1a5656-e01a-4042-8b04-0a4a81100c07",
   "metadata": {},
   "outputs": [],
   "source": [
    "from sklearn.pipeline import Pipeline\n",
    "from sklearn.preprocessing import StandardScaler\n",
    "from sklearn.decomposition import PCA\n",
    "# Pipeline is a sub-routine or sub-procedure call. it requires you to pass the data in a tuple format for it to pack and unpack later."
   ]
  },
  {
   "cell_type": "code",
   "execution_count": 47,
   "id": "3156adc1-b510-4ad0-a3f6-18ce817684d2",
   "metadata": {},
   "outputs": [],
   "source": [
    "pca_pipeline = Pipeline([('scaler', StandardScaler()),('pca', PCA(n_components=2))])"
   ]
  },
  {
   "cell_type": "code",
   "execution_count": 48,
   "id": "3397a59c-7530-40de-8c44-f7741481203b",
   "metadata": {},
   "outputs": [],
   "source": [
    "x_pca = pca_pipeline.fit_transform(X)"
   ]
  },
  {
   "cell_type": "code",
   "execution_count": 49,
   "id": "7d5d0034-edfc-4d0e-81c8-4e5de99427d3",
   "metadata": {},
   "outputs": [
    {
     "data": {
      "text/html": [
       "<div>\n",
       "<style scoped>\n",
       "    .dataframe tbody tr th:only-of-type {\n",
       "        vertical-align: middle;\n",
       "    }\n",
       "\n",
       "    .dataframe tbody tr th {\n",
       "        vertical-align: top;\n",
       "    }\n",
       "\n",
       "    .dataframe thead th {\n",
       "        text-align: right;\n",
       "    }\n",
       "</style>\n",
       "<table border=\"1\" class=\"dataframe\">\n",
       "  <thead>\n",
       "    <tr style=\"text-align: right;\">\n",
       "      <th></th>\n",
       "      <th>PC1</th>\n",
       "      <th>PC2</th>\n",
       "      <th>target</th>\n",
       "    </tr>\n",
       "  </thead>\n",
       "  <tbody>\n",
       "    <tr>\n",
       "      <th>0</th>\n",
       "      <td>-2.264542</td>\n",
       "      <td>0.505704</td>\n",
       "      <td>Iris-setosa</td>\n",
       "    </tr>\n",
       "    <tr>\n",
       "      <th>1</th>\n",
       "      <td>-2.086426</td>\n",
       "      <td>-0.655405</td>\n",
       "      <td>Iris-setosa</td>\n",
       "    </tr>\n",
       "    <tr>\n",
       "      <th>2</th>\n",
       "      <td>-2.367950</td>\n",
       "      <td>-0.318477</td>\n",
       "      <td>Iris-setosa</td>\n",
       "    </tr>\n",
       "    <tr>\n",
       "      <th>3</th>\n",
       "      <td>-2.304197</td>\n",
       "      <td>-0.575368</td>\n",
       "      <td>Iris-setosa</td>\n",
       "    </tr>\n",
       "    <tr>\n",
       "      <th>4</th>\n",
       "      <td>-2.388777</td>\n",
       "      <td>0.674767</td>\n",
       "      <td>Iris-setosa</td>\n",
       "    </tr>\n",
       "    <tr>\n",
       "      <th>...</th>\n",
       "      <td>...</td>\n",
       "      <td>...</td>\n",
       "      <td>...</td>\n",
       "    </tr>\n",
       "    <tr>\n",
       "      <th>145</th>\n",
       "      <td>1.870522</td>\n",
       "      <td>0.382822</td>\n",
       "      <td>Iris-virginica</td>\n",
       "    </tr>\n",
       "    <tr>\n",
       "      <th>146</th>\n",
       "      <td>1.558492</td>\n",
       "      <td>-0.905314</td>\n",
       "      <td>Iris-virginica</td>\n",
       "    </tr>\n",
       "    <tr>\n",
       "      <th>147</th>\n",
       "      <td>1.520845</td>\n",
       "      <td>0.266795</td>\n",
       "      <td>Iris-virginica</td>\n",
       "    </tr>\n",
       "    <tr>\n",
       "      <th>148</th>\n",
       "      <td>1.376391</td>\n",
       "      <td>1.016362</td>\n",
       "      <td>Iris-virginica</td>\n",
       "    </tr>\n",
       "    <tr>\n",
       "      <th>149</th>\n",
       "      <td>0.959299</td>\n",
       "      <td>-0.022284</td>\n",
       "      <td>Iris-virginica</td>\n",
       "    </tr>\n",
       "  </tbody>\n",
       "</table>\n",
       "<p>150 rows × 3 columns</p>\n",
       "</div>"
      ],
      "text/plain": [
       "          PC1       PC2          target\n",
       "0   -2.264542  0.505704     Iris-setosa\n",
       "1   -2.086426 -0.655405     Iris-setosa\n",
       "2   -2.367950 -0.318477     Iris-setosa\n",
       "3   -2.304197 -0.575368     Iris-setosa\n",
       "4   -2.388777  0.674767     Iris-setosa\n",
       "..        ...       ...             ...\n",
       "145  1.870522  0.382822  Iris-virginica\n",
       "146  1.558492 -0.905314  Iris-virginica\n",
       "147  1.520845  0.266795  Iris-virginica\n",
       "148  1.376391  1.016362  Iris-virginica\n",
       "149  0.959299 -0.022284  Iris-virginica\n",
       "\n",
       "[150 rows x 3 columns]"
      ]
     },
     "execution_count": 49,
     "metadata": {},
     "output_type": "execute_result"
    }
   ],
   "source": [
    "scaled_x = pd.DataFrame(data = x_pca, columns = ['PC1', 'PC2'])\n",
    "scaled_x = pd.concat([scaled_x, df[['target']]], axis =1) # In pandas 'merge' and 'join' is used for columns and 'concat' for rows.\n",
    "scaled_x"
   ]
  },
  {
   "cell_type": "code",
   "execution_count": 50,
   "id": "bdee1c70-8a90-4f5a-b07b-7c75e4474e96",
   "metadata": {},
   "outputs": [],
   "source": [
    "# Headsup: PCA is rarely used in production  because companies have high compute resource and power. As such, rather than\n",
    "# Doing away with some features they spend more on other resources to keep the features intact and retain as much information as possible.\n",
    "# If feature numbers are more, it may lead to overfitting but the same problem can be solved with the help of the neural networks.\n",
    "# Neural Networks has an upper hand over PCA technique as it is dynamic in nature. In PCA you need to do feature engineering but in \n",
    "# Neural networks just pass the number of hidden layers, Weights and Biases in NN will automatically train parameters.\n",
    "# PCA and other Machine Learning algorithms are used for handling smaller data. For larger Data we switch to Deep Learning.\n",
    "# records > 15,00,000 go with Deep Learning.\n"
   ]
  },
  {
   "cell_type": "code",
   "execution_count": 51,
   "id": "2b59fb04-c6ab-4509-9c38-85534a507790",
   "metadata": {},
   "outputs": [
    {
     "data": {
      "text/plain": [
       "target\n",
       "Iris-setosa        50\n",
       "Iris-versicolor    50\n",
       "Iris-virginica     50\n",
       "Name: count, dtype: int64"
      ]
     },
     "execution_count": 51,
     "metadata": {},
     "output_type": "execute_result"
    }
   ],
   "source": [
    "df['target'].value_counts()"
   ]
  },
  {
   "cell_type": "code",
   "execution_count": 52,
   "id": "6d117396-0e56-476b-9c70-1a2475b3c141",
   "metadata": {},
   "outputs": [
    {
     "data": {
      "text/plain": [
       "array(['Iris-setosa', 'Iris-versicolor', 'Iris-virginica'], dtype=object)"
      ]
     },
     "execution_count": 52,
     "metadata": {},
     "output_type": "execute_result"
    }
   ],
   "source": [
    "df['target'].unique()"
   ]
  },
  {
   "cell_type": "code",
   "execution_count": 53,
   "id": "c8b0fd7a-cee8-4fac-9d12-ce80e66f9ec6",
   "metadata": {},
   "outputs": [
    {
     "data": {
      "text/plain": [
       "<Figure size 600x400 with 0 Axes>"
      ]
     },
     "metadata": {},
     "output_type": "display_data"
    }
   ],
   "source": [
    "plt.figure(figsize = (6,4))\n",
    "targets = ['Iris-setosa', 'Iris-versicolor', 'Iris-virginica']\n",
    "colors = ['red', 'green', 'blue']"
   ]
  },
  {
   "cell_type": "code",
   "execution_count": 62,
   "id": "3376e408-1317-482c-9d9c-b4bf668b51e7",
   "metadata": {},
   "outputs": [
    {
     "data": {
      "image/png": "[encoded data removed]",
      "text/plain": [
       "<Figure size 640x480 with 1 Axes>"
      ]
     },
     "metadata": {},
     "output_type": "display_data"
    }
   ],
   "source": [
    "for target, color in zip(targets, colors):\n",
    "    indices = scaled_x['target']== target\n",
    "    plt.scatter(scaled_x.loc[indices, 'PC1'], scaled_x.loc[indices, 'PC2'], s=50, edgecolor = 'black')\n",
    "\n",
    "plt.xlabel('PC1 - Principal Component 1')\n",
    "plt.ylabel('PC2 - Principal Component 2')\n",
    "plt.title('Principal Component Analysis - Iris Data')\n",
    "plt.grid(alpha = 0.4)\n",
    "plt.show()"
   ]
  },
  {
   "cell_type": "code",
   "execution_count": 64,
   "id": "b956c6b9-3781-409a-89e3-fac4e6d0ef64",
   "metadata": {},
   "outputs": [
    {
     "name": "stdout",
     "output_type": "stream",
     "text": [
      "Explained Variance Ratio: [0.72770452 0.23030523]\n"
     ]
    }
   ],
   "source": [
    "print(f'Explained Variance Ratio:', pca_pipeline.named_steps['pca'].explained_variance_ratio_)"
   ]
  },
  {
   "cell_type": "code",
   "execution_count": 68,
   "id": "d52ce1aa-79a4-4543-8139-ad18896224b9",
   "metadata": {},
   "outputs": [],
   "source": [
    "arr = [0.72770452, 0.23030523]"
   ]
  },
  {
   "cell_type": "code",
   "execution_count": 70,
   "id": "0af1608b-67f9-4f1f-bb26-4df59c6e791d",
   "metadata": {},
   "outputs": [
    {
     "data": {
      "text/plain": [
       "0.95800975"
      ]
     },
     "execution_count": 70,
     "metadata": {},
     "output_type": "execute_result"
    }
   ],
   "source": [
    "sum(arr)"
   ]
  },
  {
   "cell_type": "code",
   "execution_count": 71,
   "id": "0235f8bc-6d1a-42cb-8fe9-5948d6ae2e34",
   "metadata": {},
   "outputs": [],
   "source": [
    "## Very Important question from interview perspective--> Explained Variance Ratio\n",
    "# the number 0.95800975 indicates that following dimensionality reduction approx. 96 percent of the data's variability \n",
    "# is captured by 2 principal components combined. \n",
    "# PC1 independently retains 72.770452% and PC2 - approx 24% of the data variability. This also helps us find max variability \n",
    "# on an axis\n",
    "# Explained Variance Ratio also helps us understand 'Feature Partitioning' in a way.\n",
    "\n",
    "# Why Data variability is important? \n",
    "# Ans--> If the data exhibits the same repeating characteristics, the ML algorithm won't be capable of predicting anything new \n",
    "# in real-world scenarios. For effective learning, \n",
    "# the data must contain sufficient patterns and variations to capture diverse possibilities.\n",
    "\n",
    "# Consider a scenario where a model is trained on data following a specific trend. \n",
    "# Suddenly, the trend shifts, causing the model's performance to decline. \n",
    "# To evaluate this, we calculate a metric called 'Data Drift,' which incorporates a concept known as the 'Population Stability Index.' \n",
    "# This metric helps identify whether a drift has occurred in your data. \n",
    "# If a drift is detected, it’s essential to retrain the model using the latest dataset to achieve accurate and reliable results."
   ]
  },
  {
   "cell_type": "code",
   "execution_count": 80,
   "id": "894d5766-14fa-4bc3-9f08-d981e5c03566",
   "metadata": {},
   "outputs": [],
   "source": [
    "from sklearn.model_selection import train_test_split, cross_val_score\n",
    "from sklearn.linear_model import LogisticRegression\n",
    "from sklearn.ensemble import RandomForestClassifier\n",
    "from sklearn.metrics import classification_report"
   ]
  },
  {
   "cell_type": "code",
   "execution_count": 92,
   "id": "7b4b5a2d-66b1-43e9-ad7b-c2213c69cc5b",
   "metadata": {},
   "outputs": [],
   "source": [
    "x_train, x_test, y_train, y_test = train_test_split(X,y, test_size = 0.3, random_state = 42) # Random_state prevents random shuffling"
   ]
  },
  {
   "cell_type": "markdown",
   "id": "141bdf00-645a-4baf-b65f-91fe8b027c0b",
   "metadata": {},
   "source": [
    "#### Trying with Logistic Regression"
   ]
  },
  {
   "cell_type": "code",
   "execution_count": 95,
   "id": "9b5da12c-c06f-4cba-9ede-c706b1d25588",
   "metadata": {},
   "outputs": [
    {
     "name": "stdout",
     "output_type": "stream",
     "text": [
      "LR Cross Validation Score: [1.         0.9047619  0.80952381 1.         0.80952381]\n",
      "LR Cross Validation Score Mean: 0.9047619047619048\n",
      " LR Classification Report:                  precision    recall  f1-score   support\n",
      "\n",
      "    Iris-setosa       1.00      1.00      1.00        19\n",
      "Iris-versicolor       0.91      0.77      0.83        13\n",
      " Iris-virginica       0.80      0.92      0.86        13\n",
      "\n",
      "       accuracy                           0.91        45\n",
      "      macro avg       0.90      0.90      0.90        45\n",
      "   weighted avg       0.92      0.91      0.91        45\n",
      "\n"
     ]
    }
   ],
   "source": [
    "lr_pipeline = Pipeline([\n",
    "    ('scaler', StandardScaler()),\n",
    "    ('pca', PCA(n_components = 2)),\n",
    "    ('lr', LogisticRegression(max_iter = 100, C=1.0))])\n",
    "\n",
    "lr_scores = cross_val_score(lr_pipeline, x_train, y_train, cv = 5)\n",
    "print(f\"LR Cross Validation Score: {lr_scores}\")\n",
    "print(f\"LR Cross Validation Score Mean: {np.mean(lr_scores)}\")\n",
    "\n",
    "lr_pipeline.fit(x_train, y_train)\n",
    "lr_pred = lr_pipeline.predict(x_test)\n",
    "print(f\" LR Classification Report: {classification_report(y_test, lr_pred)}\")\n",
    "         "
   ]
  },
  {
   "cell_type": "code",
   "execution_count": null,
   "id": "7cfa9bb1-a726-4c46-becd-a7d23c41fa56",
   "metadata": {},
   "outputs": [],
   "source": [
    "# Note Akaike Information Criteria and Bayesian Infrmation Criteria are useful during Class Imbalance(Remember SMOTE)\n",
    "# To evaluate the performance of your Random Forest (RF) model, ensure one part outweighs the other. For instance, by default, \n",
    "# A Random Forest typically uses 100 trees. If 50 trees output 0 and 50 output 1, it results in a tie. \n",
    "# In such cases, an additional tree is introduced to break the tie and tip the scale in favor of one outcome. \n",
    "# This process is known as a 'Tie Breaker."
   ]
  },
  {
   "cell_type": "markdown",
   "id": "d97290ea-fcca-40b9-8fcb-b8946eeb4d55",
   "metadata": {},
   "source": [
    "#### Trying with Random Forest"
   ]
  },
  {
   "cell_type": "code",
   "execution_count": 102,
   "id": "1f69d3c3-99c4-4932-8b82-494204b0a0e4",
   "metadata": {},
   "outputs": [
    {
     "name": "stdout",
     "output_type": "stream",
     "text": [
      " Random Forest Cross Val Score: [0.95238095 0.9047619  0.80952381 0.95238095 0.80952381]\n",
      "Random Forest Cross Val Score Mean: 0.8857142857142858\n",
      " Random Forest Classification Report:                 precision    recall  f1-score   support\n",
      "\n",
      "    Iris-setosa       1.00      1.00      1.00        19\n",
      "Iris-versicolor       1.00      0.85      0.92        13\n",
      " Iris-virginica       0.87      1.00      0.93        13\n",
      "\n",
      "       accuracy                           0.96        45\n",
      "      macro avg       0.96      0.95      0.95        45\n",
      "   weighted avg       0.96      0.96      0.96        45\n",
      "\n"
     ]
    }
   ],
   "source": [
    "rf_pipeline = Pipeline([\n",
    "    ('scaler', StandardScaler()),\n",
    "    ('pca', PCA(n_components=2)),\n",
    "    ('rf', RandomForestClassifier(n_estimators = 120, random_state = 42))])\n",
    "\n",
    "rf_scores = cross_val_score(rf_pipeline, x_train, y_train, cv = 5)\n",
    "print(f\" Random Forest Cross Val Score: {rf_scores}\")\n",
    "print(f\"Random Forest Cross Val Score Mean: {np.mean(rf_scores)}\")\n",
    "\n",
    "rf_pipeline.fit(x_train, y_train)\n",
    "rf_pred = rf_pipeline.predict(x_test)\n",
    "print(f\" Random Forest Classification Report:{classification_report(y_test, rf_pred)}\")"
   ]
  },
  {
   "cell_type": "code",
   "execution_count": null,
   "id": "32e7d165-d124-4e37-9873-29cede18ed83",
   "metadata": {},
   "outputs": [],
   "source": [
    "# Logistic Regression models come under a class called Generalized Linear Models hence "
   ]
  }
 ],
 "metadata": {
  "kernelspec": {
   "display_name": "Python 3 (ipykernel)",
   "language": "python",
   "name": "python3"
  },
  "language_info": {
   "codemirror_mode": {
    "name": "ipython",
    "version": 3
   },
   "file_extension": ".py",
   "mimetype": "text/x-python",
   "name": "python",
   "nbconvert_exporter": "python",
   "pygments_lexer": "ipython3",
   "version": "3.11.11"
  }
 },
 "nbformat": 4,
 "nbformat_minor": 5
}
