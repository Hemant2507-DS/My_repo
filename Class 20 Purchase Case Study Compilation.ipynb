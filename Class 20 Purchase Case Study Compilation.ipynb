{
 "cells": [
  {
   "cell_type": "code",
   "execution_count": 1,
   "id": "d825da33",
   "metadata": {},
   "outputs": [],
   "source": [
    "import pandas as pd\n",
    "import numpy as np\n",
    "import matplotlib.pyplot as plt\n",
    "import seaborn as sns"
   ]
  },
  {
   "cell_type": "code",
   "execution_count": 3,
   "id": "a3a01e32",
   "metadata": {},
   "outputs": [
    {
     "data": {
      "text/html": [
       "<div>\n",
       "<style scoped>\n",
       "    .dataframe tbody tr th:only-of-type {\n",
       "        vertical-align: middle;\n",
       "    }\n",
       "\n",
       "    .dataframe tbody tr th {\n",
       "        vertical-align: top;\n",
       "    }\n",
       "\n",
       "    .dataframe thead th {\n",
       "        text-align: right;\n",
       "    }\n",
       "</style>\n",
       "<table border=\"1\" class=\"dataframe\">\n",
       "  <thead>\n",
       "    <tr style=\"text-align: right;\">\n",
       "      <th></th>\n",
       "      <th>User_ID</th>\n",
       "      <th>Product_ID</th>\n",
       "      <th>Gender</th>\n",
       "      <th>Age</th>\n",
       "      <th>Occupation</th>\n",
       "      <th>City_Category</th>\n",
       "      <th>Stay_In_Current_City_Years</th>\n",
       "      <th>Marital_Status</th>\n",
       "      <th>Product_Category_1</th>\n",
       "      <th>Product_Category_2</th>\n",
       "      <th>Product_Category_3</th>\n",
       "      <th>Purchase</th>\n",
       "    </tr>\n",
       "  </thead>\n",
       "  <tbody>\n",
       "    <tr>\n",
       "      <th>0</th>\n",
       "      <td>1000001</td>\n",
       "      <td>P00069042</td>\n",
       "      <td>F</td>\n",
       "      <td>0-17</td>\n",
       "      <td>10.0</td>\n",
       "      <td>A</td>\n",
       "      <td>2</td>\n",
       "      <td>0.0</td>\n",
       "      <td>3.0</td>\n",
       "      <td>NaN</td>\n",
       "      <td>NaN</td>\n",
       "      <td>8370.0</td>\n",
       "    </tr>\n",
       "    <tr>\n",
       "      <th>1</th>\n",
       "      <td>1000001</td>\n",
       "      <td>P00248942</td>\n",
       "      <td>F</td>\n",
       "      <td>0-17</td>\n",
       "      <td>10.0</td>\n",
       "      <td>A</td>\n",
       "      <td>2</td>\n",
       "      <td>0.0</td>\n",
       "      <td>1.0</td>\n",
       "      <td>6.0</td>\n",
       "      <td>14.0</td>\n",
       "      <td>15200.0</td>\n",
       "    </tr>\n",
       "    <tr>\n",
       "      <th>2</th>\n",
       "      <td>1000001</td>\n",
       "      <td>P00087842</td>\n",
       "      <td>F</td>\n",
       "      <td>0-17</td>\n",
       "      <td>10.0</td>\n",
       "      <td>A</td>\n",
       "      <td>2</td>\n",
       "      <td>0.0</td>\n",
       "      <td>12.0</td>\n",
       "      <td>NaN</td>\n",
       "      <td>NaN</td>\n",
       "      <td>1422.0</td>\n",
       "    </tr>\n",
       "    <tr>\n",
       "      <th>3</th>\n",
       "      <td>1000001</td>\n",
       "      <td>P00085442</td>\n",
       "      <td>F</td>\n",
       "      <td>0-17</td>\n",
       "      <td>10.0</td>\n",
       "      <td>A</td>\n",
       "      <td>2</td>\n",
       "      <td>0.0</td>\n",
       "      <td>12.0</td>\n",
       "      <td>14.0</td>\n",
       "      <td>NaN</td>\n",
       "      <td>1057.0</td>\n",
       "    </tr>\n",
       "    <tr>\n",
       "      <th>4</th>\n",
       "      <td>1000002</td>\n",
       "      <td>P00285442</td>\n",
       "      <td>M</td>\n",
       "      <td>55+</td>\n",
       "      <td>16.0</td>\n",
       "      <td>C</td>\n",
       "      <td>4+</td>\n",
       "      <td>0.0</td>\n",
       "      <td>8.0</td>\n",
       "      <td>NaN</td>\n",
       "      <td>NaN</td>\n",
       "      <td>7969.0</td>\n",
       "    </tr>\n",
       "    <tr>\n",
       "      <th>...</th>\n",
       "      <td>...</td>\n",
       "      <td>...</td>\n",
       "      <td>...</td>\n",
       "      <td>...</td>\n",
       "      <td>...</td>\n",
       "      <td>...</td>\n",
       "      <td>...</td>\n",
       "      <td>...</td>\n",
       "      <td>...</td>\n",
       "      <td>...</td>\n",
       "      <td>...</td>\n",
       "      <td>...</td>\n",
       "    </tr>\n",
       "    <tr>\n",
       "      <th>263010</th>\n",
       "      <td>1004473</td>\n",
       "      <td>P00041942</td>\n",
       "      <td>M</td>\n",
       "      <td>36-45</td>\n",
       "      <td>1.0</td>\n",
       "      <td>B</td>\n",
       "      <td>3</td>\n",
       "      <td>0.0</td>\n",
       "      <td>5.0</td>\n",
       "      <td>18.0</td>\n",
       "      <td>NaN</td>\n",
       "      <td>3722.0</td>\n",
       "    </tr>\n",
       "    <tr>\n",
       "      <th>263011</th>\n",
       "      <td>1004473</td>\n",
       "      <td>P00115142</td>\n",
       "      <td>M</td>\n",
       "      <td>36-45</td>\n",
       "      <td>1.0</td>\n",
       "      <td>B</td>\n",
       "      <td>3</td>\n",
       "      <td>0.0</td>\n",
       "      <td>1.0</td>\n",
       "      <td>8.0</td>\n",
       "      <td>17.0</td>\n",
       "      <td>19253.0</td>\n",
       "    </tr>\n",
       "    <tr>\n",
       "      <th>263012</th>\n",
       "      <td>1004473</td>\n",
       "      <td>P00188442</td>\n",
       "      <td>M</td>\n",
       "      <td>36-45</td>\n",
       "      <td>1.0</td>\n",
       "      <td>B</td>\n",
       "      <td>3</td>\n",
       "      <td>0.0</td>\n",
       "      <td>5.0</td>\n",
       "      <td>7.0</td>\n",
       "      <td>NaN</td>\n",
       "      <td>3608.0</td>\n",
       "    </tr>\n",
       "    <tr>\n",
       "      <th>263013</th>\n",
       "      <td>1004473</td>\n",
       "      <td>P00119442</td>\n",
       "      <td>M</td>\n",
       "      <td>36-45</td>\n",
       "      <td>1.0</td>\n",
       "      <td>B</td>\n",
       "      <td>3</td>\n",
       "      <td>0.0</td>\n",
       "      <td>5.0</td>\n",
       "      <td>NaN</td>\n",
       "      <td>NaN</td>\n",
       "      <td>3604.0</td>\n",
       "    </tr>\n",
       "    <tr>\n",
       "      <th>263014</th>\n",
       "      <td>10</td>\n",
       "      <td>NaN</td>\n",
       "      <td>NaN</td>\n",
       "      <td>NaN</td>\n",
       "      <td>NaN</td>\n",
       "      <td>NaN</td>\n",
       "      <td>NaN</td>\n",
       "      <td>NaN</td>\n",
       "      <td>NaN</td>\n",
       "      <td>NaN</td>\n",
       "      <td>NaN</td>\n",
       "      <td>NaN</td>\n",
       "    </tr>\n",
       "  </tbody>\n",
       "</table>\n",
       "<p>263015 rows × 12 columns</p>\n",
       "</div>"
      ],
      "text/plain": [
       "        User_ID Product_ID Gender    Age  Occupation City_Category  \\\n",
       "0       1000001  P00069042      F   0-17        10.0             A   \n",
       "1       1000001  P00248942      F   0-17        10.0             A   \n",
       "2       1000001  P00087842      F   0-17        10.0             A   \n",
       "3       1000001  P00085442      F   0-17        10.0             A   \n",
       "4       1000002  P00285442      M    55+        16.0             C   \n",
       "...         ...        ...    ...    ...         ...           ...   \n",
       "263010  1004473  P00041942      M  36-45         1.0             B   \n",
       "263011  1004473  P00115142      M  36-45         1.0             B   \n",
       "263012  1004473  P00188442      M  36-45         1.0             B   \n",
       "263013  1004473  P00119442      M  36-45         1.0             B   \n",
       "263014       10        NaN    NaN    NaN         NaN           NaN   \n",
       "\n",
       "       Stay_In_Current_City_Years  Marital_Status  Product_Category_1  \\\n",
       "0                               2             0.0                 3.0   \n",
       "1                               2             0.0                 1.0   \n",
       "2                               2             0.0                12.0   \n",
       "3                               2             0.0                12.0   \n",
       "4                              4+             0.0                 8.0   \n",
       "...                           ...             ...                 ...   \n",
       "263010                          3             0.0                 5.0   \n",
       "263011                          3             0.0                 1.0   \n",
       "263012                          3             0.0                 5.0   \n",
       "263013                          3             0.0                 5.0   \n",
       "263014                        NaN             NaN                 NaN   \n",
       "\n",
       "        Product_Category_2  Product_Category_3  Purchase  \n",
       "0                      NaN                 NaN    8370.0  \n",
       "1                      6.0                14.0   15200.0  \n",
       "2                      NaN                 NaN    1422.0  \n",
       "3                     14.0                 NaN    1057.0  \n",
       "4                      NaN                 NaN    7969.0  \n",
       "...                    ...                 ...       ...  \n",
       "263010                18.0                 NaN    3722.0  \n",
       "263011                 8.0                17.0   19253.0  \n",
       "263012                 7.0                 NaN    3608.0  \n",
       "263013                 NaN                 NaN    3604.0  \n",
       "263014                 NaN                 NaN       NaN  \n",
       "\n",
       "[263015 rows x 12 columns]"
      ]
     },
     "execution_count": 3,
     "metadata": {},
     "output_type": "execute_result"
    }
   ],
   "source": [
    "data = pd.read_csv('purchase_data.csv')\n",
    "data"
   ]
  },
  {
   "cell_type": "code",
   "execution_count": 4,
   "id": "a37f5737",
   "metadata": {},
   "outputs": [
    {
     "name": "stdout",
     "output_type": "stream",
     "text": [
      "<class 'pandas.core.frame.DataFrame'>\n",
      "RangeIndex: 263015 entries, 0 to 263014\n",
      "Data columns (total 12 columns):\n",
      " #   Column                      Non-Null Count   Dtype  \n",
      "---  ------                      --------------   -----  \n",
      " 0   User_ID                     263015 non-null  int64  \n",
      " 1   Product_ID                  263014 non-null  object \n",
      " 2   Gender                      263014 non-null  object \n",
      " 3   Age                         263014 non-null  object \n",
      " 4   Occupation                  263014 non-null  float64\n",
      " 5   City_Category               263014 non-null  object \n",
      " 6   Stay_In_Current_City_Years  263014 non-null  object \n",
      " 7   Marital_Status              263014 non-null  float64\n",
      " 8   Product_Category_1          263014 non-null  float64\n",
      " 9   Product_Category_2          181501 non-null  float64\n",
      " 10  Product_Category_3          80582 non-null   float64\n",
      " 11  Purchase                    263014 non-null  float64\n",
      "dtypes: float64(6), int64(1), object(5)\n",
      "memory usage: 24.1+ MB\n"
     ]
    }
   ],
   "source": [
    "data.info()"
   ]
  },
  {
   "cell_type": "code",
   "execution_count": 5,
   "id": "04ab6e82",
   "metadata": {},
   "outputs": [
    {
     "data": {
      "text/html": [
       "<div>\n",
       "<style scoped>\n",
       "    .dataframe tbody tr th:only-of-type {\n",
       "        vertical-align: middle;\n",
       "    }\n",
       "\n",
       "    .dataframe tbody tr th {\n",
       "        vertical-align: top;\n",
       "    }\n",
       "\n",
       "    .dataframe thead th {\n",
       "        text-align: right;\n",
       "    }\n",
       "</style>\n",
       "<table border=\"1\" class=\"dataframe\">\n",
       "  <thead>\n",
       "    <tr style=\"text-align: right;\">\n",
       "      <th></th>\n",
       "      <th>User_ID</th>\n",
       "      <th>Occupation</th>\n",
       "      <th>Marital_Status</th>\n",
       "      <th>Product_Category_1</th>\n",
       "      <th>Product_Category_2</th>\n",
       "      <th>Product_Category_3</th>\n",
       "      <th>Purchase</th>\n",
       "    </tr>\n",
       "  </thead>\n",
       "  <tbody>\n",
       "    <tr>\n",
       "      <th>count</th>\n",
       "      <td>2.630150e+05</td>\n",
       "      <td>263014.000000</td>\n",
       "      <td>263014.000000</td>\n",
       "      <td>263014.000000</td>\n",
       "      <td>181501.000000</td>\n",
       "      <td>80582.000000</td>\n",
       "      <td>263014.000000</td>\n",
       "    </tr>\n",
       "    <tr>\n",
       "      <th>mean</th>\n",
       "      <td>1.002941e+06</td>\n",
       "      <td>8.083558</td>\n",
       "      <td>0.408685</td>\n",
       "      <td>5.291099</td>\n",
       "      <td>9.844756</td>\n",
       "      <td>12.658298</td>\n",
       "      <td>9319.305269</td>\n",
       "    </tr>\n",
       "    <tr>\n",
       "      <th>std</th>\n",
       "      <td>2.593126e+03</td>\n",
       "      <td>6.524052</td>\n",
       "      <td>0.491592</td>\n",
       "      <td>3.745722</td>\n",
       "      <td>5.086696</td>\n",
       "      <td>4.129156</td>\n",
       "      <td>4970.152966</td>\n",
       "    </tr>\n",
       "    <tr>\n",
       "      <th>min</th>\n",
       "      <td>1.000000e+01</td>\n",
       "      <td>0.000000</td>\n",
       "      <td>0.000000</td>\n",
       "      <td>1.000000</td>\n",
       "      <td>2.000000</td>\n",
       "      <td>3.000000</td>\n",
       "      <td>185.000000</td>\n",
       "    </tr>\n",
       "    <tr>\n",
       "      <th>25%</th>\n",
       "      <td>1.001457e+06</td>\n",
       "      <td>2.000000</td>\n",
       "      <td>0.000000</td>\n",
       "      <td>1.000000</td>\n",
       "      <td>5.000000</td>\n",
       "      <td>9.000000</td>\n",
       "      <td>5863.000000</td>\n",
       "    </tr>\n",
       "    <tr>\n",
       "      <th>50%</th>\n",
       "      <td>1.002972e+06</td>\n",
       "      <td>7.000000</td>\n",
       "      <td>0.000000</td>\n",
       "      <td>5.000000</td>\n",
       "      <td>9.000000</td>\n",
       "      <td>14.000000</td>\n",
       "      <td>8060.000000</td>\n",
       "    </tr>\n",
       "    <tr>\n",
       "      <th>75%</th>\n",
       "      <td>1.004335e+06</td>\n",
       "      <td>14.000000</td>\n",
       "      <td>1.000000</td>\n",
       "      <td>8.000000</td>\n",
       "      <td>15.000000</td>\n",
       "      <td>16.000000</td>\n",
       "      <td>12059.000000</td>\n",
       "    </tr>\n",
       "    <tr>\n",
       "      <th>max</th>\n",
       "      <td>1.006040e+06</td>\n",
       "      <td>20.000000</td>\n",
       "      <td>1.000000</td>\n",
       "      <td>18.000000</td>\n",
       "      <td>18.000000</td>\n",
       "      <td>18.000000</td>\n",
       "      <td>23961.000000</td>\n",
       "    </tr>\n",
       "  </tbody>\n",
       "</table>\n",
       "</div>"
      ],
      "text/plain": [
       "            User_ID     Occupation  Marital_Status  Product_Category_1  \\\n",
       "count  2.630150e+05  263014.000000   263014.000000       263014.000000   \n",
       "mean   1.002941e+06       8.083558        0.408685            5.291099   \n",
       "std    2.593126e+03       6.524052        0.491592            3.745722   \n",
       "min    1.000000e+01       0.000000        0.000000            1.000000   \n",
       "25%    1.001457e+06       2.000000        0.000000            1.000000   \n",
       "50%    1.002972e+06       7.000000        0.000000            5.000000   \n",
       "75%    1.004335e+06      14.000000        1.000000            8.000000   \n",
       "max    1.006040e+06      20.000000        1.000000           18.000000   \n",
       "\n",
       "       Product_Category_2  Product_Category_3       Purchase  \n",
       "count       181501.000000        80582.000000  263014.000000  \n",
       "mean             9.844756           12.658298    9319.305269  \n",
       "std              5.086696            4.129156    4970.152966  \n",
       "min              2.000000            3.000000     185.000000  \n",
       "25%              5.000000            9.000000    5863.000000  \n",
       "50%              9.000000           14.000000    8060.000000  \n",
       "75%             15.000000           16.000000   12059.000000  \n",
       "max             18.000000           18.000000   23961.000000  "
      ]
     },
     "execution_count": 5,
     "metadata": {},
     "output_type": "execute_result"
    }
   ],
   "source": [
    "data.describe()"
   ]
  },
  {
   "cell_type": "code",
   "execution_count": 7,
   "id": "b08a68f6",
   "metadata": {},
   "outputs": [
    {
     "data": {
      "text/plain": [
       "array(['2', '4+', '3', '1', '0', nan], dtype=object)"
      ]
     },
     "execution_count": 7,
     "metadata": {},
     "output_type": "execute_result"
    }
   ],
   "source": [
    "# Checking unique values in the 'Stay_In_Current_City_Years' column will help us understand why its data type is\n",
    "# 'Object'. Ideally, it should have been in 'float' or 'Int' type.\n",
    "data.Stay_In_Current_City_Years.unique()\n",
    "data['Stay_In_Current_City_Years'].unique()\n",
    "# As seen below, the 'Nan', '+' entry causes the datatype to be displayed as 'object' type."
   ]
  },
  {
   "cell_type": "code",
   "execution_count": 8,
   "id": "38ecbd23",
   "metadata": {},
   "outputs": [],
   "source": [
    "# Changing all the values of 4+ to 4\n",
    "data['Stay_In_Current_City_Years'] = data['Stay_In_Current_City_Years'].replace('4+', '4')"
   ]
  },
  {
   "cell_type": "code",
   "execution_count": 9,
   "id": "d07adf64",
   "metadata": {},
   "outputs": [],
   "source": [
    "# Converting entries in the given column from string type to numeric type. You can also use the .astype function\n",
    "# If there are spaces inside string values, eg ( ) or (@), (''), coerce--> changes it to 'Nan' values.\n",
    "# Nan values can be removed using the 'isna' function later during data cleaning process.\n",
    "data['Stay_In_Current_City_Years'] = pd.to_numeric(data['Stay_In_Current_City_Years'], errors = 'coerce')"
   ]
  },
  {
   "cell_type": "code",
   "execution_count": 10,
   "id": "d05abd90",
   "metadata": {},
   "outputs": [
    {
     "name": "stdout",
     "output_type": "stream",
     "text": [
      "<class 'pandas.core.frame.DataFrame'>\n",
      "RangeIndex: 263015 entries, 0 to 263014\n",
      "Data columns (total 12 columns):\n",
      " #   Column                      Non-Null Count   Dtype  \n",
      "---  ------                      --------------   -----  \n",
      " 0   User_ID                     263015 non-null  int64  \n",
      " 1   Product_ID                  263014 non-null  object \n",
      " 2   Gender                      263014 non-null  object \n",
      " 3   Age                         263014 non-null  object \n",
      " 4   Occupation                  263014 non-null  float64\n",
      " 5   City_Category               263014 non-null  object \n",
      " 6   Stay_In_Current_City_Years  263014 non-null  float64\n",
      " 7   Marital_Status              263014 non-null  float64\n",
      " 8   Product_Category_1          263014 non-null  float64\n",
      " 9   Product_Category_2          181501 non-null  float64\n",
      " 10  Product_Category_3          80582 non-null   float64\n",
      " 11  Purchase                    263014 non-null  float64\n",
      "dtypes: float64(7), int64(1), object(4)\n",
      "memory usage: 24.1+ MB\n"
     ]
    }
   ],
   "source": [
    "data.info()"
   ]
  },
  {
   "cell_type": "code",
   "execution_count": 11,
   "id": "6675181f",
   "metadata": {},
   "outputs": [
    {
     "data": {
      "text/plain": [
       "array(['A', 'C', 'B', nan], dtype=object)"
      ]
     },
     "execution_count": 11,
     "metadata": {},
     "output_type": "execute_result"
    }
   ],
   "source": [
    "data.City_Category.unique()"
   ]
  },
  {
   "cell_type": "code",
   "execution_count": 12,
   "id": "f51363a7",
   "metadata": {},
   "outputs": [
    {
     "data": {
      "text/plain": [
       "array(['0-17', '55+', '26-35', '46-50', '51-55', '36-45', '18-25', nan],\n",
       "      dtype=object)"
      ]
     },
     "execution_count": 12,
     "metadata": {},
     "output_type": "execute_result"
    }
   ],
   "source": [
    "data.Age.unique()"
   ]
  },
  {
   "cell_type": "code",
   "execution_count": 14,
   "id": "54d7bff1",
   "metadata": {},
   "outputs": [
    {
     "data": {
      "text/plain": [
       "Age\n",
       "26-35    104912\n",
       "36-45     52396\n",
       "18-25     48193\n",
       "46-50     21619\n",
       "51-55     18509\n",
       "55+       10321\n",
       "0-17       7064\n",
       "Name: count, dtype: int64"
      ]
     },
     "execution_count": 14,
     "metadata": {},
     "output_type": "execute_result"
    }
   ],
   "source": [
    "data.Age.value_counts()"
   ]
  },
  {
   "cell_type": "code",
   "execution_count": 16,
   "id": "ce186c14",
   "metadata": {},
   "outputs": [
    {
     "data": {
      "text/plain": [
       "User_ID                            0\n",
       "Product_ID                         1\n",
       "Gender                             1\n",
       "Age                                1\n",
       "Occupation                         1\n",
       "City_Category                      1\n",
       "Stay_In_Current_City_Years         1\n",
       "Marital_Status                     1\n",
       "Product_Category_1                 1\n",
       "Product_Category_2             81514\n",
       "Product_Category_3            182433\n",
       "Purchase                           1\n",
       "dtype: int64"
      ]
     },
     "execution_count": 16,
     "metadata": {},
     "output_type": "execute_result"
    }
   ],
   "source": [
    "data.isnull().sum()"
   ]
  },
  {
   "cell_type": "code",
   "execution_count": 17,
   "id": "742cf789",
   "metadata": {},
   "outputs": [
    {
     "data": {
      "text/plain": [
       "263956"
      ]
     },
     "execution_count": 17,
     "metadata": {},
     "output_type": "execute_result"
    }
   ],
   "source": [
    "data.isnull().sum().sum()\n",
    "# In Machine Learning, you should have as much data as possible. So, the best option, then would be to retain the data and \n",
    "# Fill the null values with 'Mean' or 'Median' if its 'Numerical' type and with Mode, if the data type is 'Object'"
   ]
  },
  {
   "cell_type": "code",
   "execution_count": 18,
   "id": "35aea86c",
   "metadata": {},
   "outputs": [],
   "source": [
    "# Dropping the null values from the entire data\n",
    "data.dropna(inplace = True)"
   ]
  },
  {
   "cell_type": "code",
   "execution_count": 19,
   "id": "de5b60fe",
   "metadata": {},
   "outputs": [
    {
     "data": {
      "text/plain": [
       "0"
      ]
     },
     "execution_count": 19,
     "metadata": {},
     "output_type": "execute_result"
    }
   ],
   "source": [
    "data.isnull().sum().sum()"
   ]
  },
  {
   "cell_type": "code",
   "execution_count": 20,
   "id": "95b2043f",
   "metadata": {},
   "outputs": [
    {
     "data": {
      "text/plain": [
       "(80582, 12)"
      ]
     },
     "execution_count": 20,
     "metadata": {},
     "output_type": "execute_result"
    }
   ],
   "source": [
    "data.shape"
   ]
  },
  {
   "cell_type": "code",
   "execution_count": 22,
   "id": "9008cff5",
   "metadata": {},
   "outputs": [],
   "source": [
    "from sklearn.preprocessing import LabelEncoder"
   ]
  },
  {
   "cell_type": "code",
   "execution_count": 23,
   "id": "10737b74",
   "metadata": {},
   "outputs": [],
   "source": [
    "le = LabelEncoder()"
   ]
  },
  {
   "cell_type": "code",
   "execution_count": 24,
   "id": "c11f1081",
   "metadata": {},
   "outputs": [],
   "source": [
    "data['Product_ID'] = le.fit_transform(data['Product_ID'])\n",
    "data['Gender'] = le.fit_transform(data['Gender'])\n",
    "data['Age'] = le.fit_transform(data['Age'])\n",
    "data['City_Category'] = le.fit_transform(data['City_Category'])"
   ]
  },
  {
   "cell_type": "code",
   "execution_count": 25,
   "id": "b8abd70e",
   "metadata": {},
   "outputs": [
    {
     "name": "stdout",
     "output_type": "stream",
     "text": [
      "<class 'pandas.core.frame.DataFrame'>\n",
      "Index: 80582 entries, 1 to 263011\n",
      "Data columns (total 12 columns):\n",
      " #   Column                      Non-Null Count  Dtype  \n",
      "---  ------                      --------------  -----  \n",
      " 0   User_ID                     80582 non-null  int64  \n",
      " 1   Product_ID                  80582 non-null  int32  \n",
      " 2   Gender                      80582 non-null  int32  \n",
      " 3   Age                         80582 non-null  int32  \n",
      " 4   Occupation                  80582 non-null  float64\n",
      " 5   City_Category               80582 non-null  int32  \n",
      " 6   Stay_In_Current_City_Years  80582 non-null  float64\n",
      " 7   Marital_Status              80582 non-null  float64\n",
      " 8   Product_Category_1          80582 non-null  float64\n",
      " 9   Product_Category_2          80582 non-null  float64\n",
      " 10  Product_Category_3          80582 non-null  float64\n",
      " 11  Purchase                    80582 non-null  float64\n",
      "dtypes: float64(7), int32(4), int64(1)\n",
      "memory usage: 6.8 MB\n"
     ]
    }
   ],
   "source": [
    "data.info()"
   ]
  },
  {
   "cell_type": "markdown",
   "id": "fa76cdd0",
   "metadata": {},
   "source": [
    "### Performing Statistical Analysis"
   ]
  },
  {
   "cell_type": "code",
   "execution_count": null,
   "id": "7670e841",
   "metadata": {},
   "outputs": [],
   "source": [
    "# Steps involved in Statistical Analysis\n",
    "# 1. Collection of Data\n",
    "# 2. Preparing Samples\n",
    "# 3. Creating Hypothesis( Null and Alternate)\n",
    "# 4. Applying Appropriate test\n",
    "# 5. Results (Whether p_value '<' or '>' alpha)"
   ]
  },
  {
   "cell_type": "markdown",
   "id": "d5e4417a",
   "metadata": {},
   "source": [
    "### Q1. It was observed that the average purchase made by the Men of the age 18-25 was 10000. Is it still the same?"
   ]
  },
  {
   "cell_type": "code",
   "execution_count": 27,
   "id": "0186ef93",
   "metadata": {},
   "outputs": [
    {
     "data": {
      "text/html": [
       "<div>\n",
       "<style scoped>\n",
       "    .dataframe tbody tr th:only-of-type {\n",
       "        vertical-align: middle;\n",
       "    }\n",
       "\n",
       "    .dataframe tbody tr th {\n",
       "        vertical-align: top;\n",
       "    }\n",
       "\n",
       "    .dataframe thead th {\n",
       "        text-align: right;\n",
       "    }\n",
       "</style>\n",
       "<table border=\"1\" class=\"dataframe\">\n",
       "  <thead>\n",
       "    <tr style=\"text-align: right;\">\n",
       "      <th></th>\n",
       "      <th>User_ID</th>\n",
       "      <th>Product_ID</th>\n",
       "      <th>Gender</th>\n",
       "      <th>Age</th>\n",
       "      <th>Occupation</th>\n",
       "      <th>City_Category</th>\n",
       "      <th>Stay_In_Current_City_Years</th>\n",
       "      <th>Marital_Status</th>\n",
       "      <th>Product_Category_1</th>\n",
       "      <th>Product_Category_2</th>\n",
       "      <th>Product_Category_3</th>\n",
       "      <th>Purchase</th>\n",
       "    </tr>\n",
       "  </thead>\n",
       "  <tbody>\n",
       "    <tr>\n",
       "      <th>98</th>\n",
       "      <td>1000022</td>\n",
       "      <td>487</td>\n",
       "      <td>1</td>\n",
       "      <td>1</td>\n",
       "      <td>15.0</td>\n",
       "      <td>0</td>\n",
       "      <td>4.0</td>\n",
       "      <td>0.0</td>\n",
       "      <td>1.0</td>\n",
       "      <td>8.0</td>\n",
       "      <td>17.0</td>\n",
       "      <td>12099.0</td>\n",
       "    </tr>\n",
       "    <tr>\n",
       "      <th>103</th>\n",
       "      <td>1000022</td>\n",
       "      <td>402</td>\n",
       "      <td>1</td>\n",
       "      <td>1</td>\n",
       "      <td>15.0</td>\n",
       "      <td>0</td>\n",
       "      <td>4.0</td>\n",
       "      <td>0.0</td>\n",
       "      <td>1.0</td>\n",
       "      <td>11.0</td>\n",
       "      <td>16.0</td>\n",
       "      <td>12098.0</td>\n",
       "    </tr>\n",
       "    <tr>\n",
       "      <th>111</th>\n",
       "      <td>1000022</td>\n",
       "      <td>358</td>\n",
       "      <td>1</td>\n",
       "      <td>1</td>\n",
       "      <td>15.0</td>\n",
       "      <td>0</td>\n",
       "      <td>4.0</td>\n",
       "      <td>0.0</td>\n",
       "      <td>2.0</td>\n",
       "      <td>4.0</td>\n",
       "      <td>15.0</td>\n",
       "      <td>9564.0</td>\n",
       "    </tr>\n",
       "    <tr>\n",
       "      <th>127</th>\n",
       "      <td>1000025</td>\n",
       "      <td>332</td>\n",
       "      <td>1</td>\n",
       "      <td>1</td>\n",
       "      <td>4.0</td>\n",
       "      <td>2</td>\n",
       "      <td>4.0</td>\n",
       "      <td>0.0</td>\n",
       "      <td>1.0</td>\n",
       "      <td>5.0</td>\n",
       "      <td>9.0</td>\n",
       "      <td>15361.0</td>\n",
       "    </tr>\n",
       "    <tr>\n",
       "      <th>128</th>\n",
       "      <td>1000025</td>\n",
       "      <td>71</td>\n",
       "      <td>1</td>\n",
       "      <td>1</td>\n",
       "      <td>4.0</td>\n",
       "      <td>2</td>\n",
       "      <td>4.0</td>\n",
       "      <td>0.0</td>\n",
       "      <td>1.0</td>\n",
       "      <td>2.0</td>\n",
       "      <td>15.0</td>\n",
       "      <td>15770.0</td>\n",
       "    </tr>\n",
       "    <tr>\n",
       "      <th>...</th>\n",
       "      <td>...</td>\n",
       "      <td>...</td>\n",
       "      <td>...</td>\n",
       "      <td>...</td>\n",
       "      <td>...</td>\n",
       "      <td>...</td>\n",
       "      <td>...</td>\n",
       "      <td>...</td>\n",
       "      <td>...</td>\n",
       "      <td>...</td>\n",
       "      <td>...</td>\n",
       "      <td>...</td>\n",
       "    </tr>\n",
       "    <tr>\n",
       "      <th>262758</th>\n",
       "      <td>1004446</td>\n",
       "      <td>180</td>\n",
       "      <td>1</td>\n",
       "      <td>1</td>\n",
       "      <td>18.0</td>\n",
       "      <td>1</td>\n",
       "      <td>1.0</td>\n",
       "      <td>1.0</td>\n",
       "      <td>1.0</td>\n",
       "      <td>2.0</td>\n",
       "      <td>15.0</td>\n",
       "      <td>11512.0</td>\n",
       "    </tr>\n",
       "    <tr>\n",
       "      <th>262759</th>\n",
       "      <td>1004446</td>\n",
       "      <td>394</td>\n",
       "      <td>1</td>\n",
       "      <td>1</td>\n",
       "      <td>18.0</td>\n",
       "      <td>1</td>\n",
       "      <td>1.0</td>\n",
       "      <td>1.0</td>\n",
       "      <td>1.0</td>\n",
       "      <td>15.0</td>\n",
       "      <td>18.0</td>\n",
       "      <td>11521.0</td>\n",
       "    </tr>\n",
       "    <tr>\n",
       "      <th>262760</th>\n",
       "      <td>1004446</td>\n",
       "      <td>23</td>\n",
       "      <td>1</td>\n",
       "      <td>1</td>\n",
       "      <td>18.0</td>\n",
       "      <td>1</td>\n",
       "      <td>1.0</td>\n",
       "      <td>1.0</td>\n",
       "      <td>1.0</td>\n",
       "      <td>2.0</td>\n",
       "      <td>13.0</td>\n",
       "      <td>3988.0</td>\n",
       "    </tr>\n",
       "    <tr>\n",
       "      <th>262764</th>\n",
       "      <td>1004446</td>\n",
       "      <td>75</td>\n",
       "      <td>1</td>\n",
       "      <td>1</td>\n",
       "      <td>18.0</td>\n",
       "      <td>1</td>\n",
       "      <td>1.0</td>\n",
       "      <td>1.0</td>\n",
       "      <td>5.0</td>\n",
       "      <td>8.0</td>\n",
       "      <td>17.0</td>\n",
       "      <td>5444.0</td>\n",
       "    </tr>\n",
       "    <tr>\n",
       "      <th>262952</th>\n",
       "      <td>1004465</td>\n",
       "      <td>209</td>\n",
       "      <td>1</td>\n",
       "      <td>1</td>\n",
       "      <td>4.0</td>\n",
       "      <td>0</td>\n",
       "      <td>1.0</td>\n",
       "      <td>1.0</td>\n",
       "      <td>2.0</td>\n",
       "      <td>3.0</td>\n",
       "      <td>4.0</td>\n",
       "      <td>3240.0</td>\n",
       "    </tr>\n",
       "  </tbody>\n",
       "</table>\n",
       "<p>11904 rows × 12 columns</p>\n",
       "</div>"
      ],
      "text/plain": [
       "        User_ID  Product_ID  Gender  Age  Occupation  City_Category  \\\n",
       "98      1000022         487       1    1        15.0              0   \n",
       "103     1000022         402       1    1        15.0              0   \n",
       "111     1000022         358       1    1        15.0              0   \n",
       "127     1000025         332       1    1         4.0              2   \n",
       "128     1000025          71       1    1         4.0              2   \n",
       "...         ...         ...     ...  ...         ...            ...   \n",
       "262758  1004446         180       1    1        18.0              1   \n",
       "262759  1004446         394       1    1        18.0              1   \n",
       "262760  1004446          23       1    1        18.0              1   \n",
       "262764  1004446          75       1    1        18.0              1   \n",
       "262952  1004465         209       1    1         4.0              0   \n",
       "\n",
       "        Stay_In_Current_City_Years  Marital_Status  Product_Category_1  \\\n",
       "98                             4.0             0.0                 1.0   \n",
       "103                            4.0             0.0                 1.0   \n",
       "111                            4.0             0.0                 2.0   \n",
       "127                            4.0             0.0                 1.0   \n",
       "128                            4.0             0.0                 1.0   \n",
       "...                            ...             ...                 ...   \n",
       "262758                         1.0             1.0                 1.0   \n",
       "262759                         1.0             1.0                 1.0   \n",
       "262760                         1.0             1.0                 1.0   \n",
       "262764                         1.0             1.0                 5.0   \n",
       "262952                         1.0             1.0                 2.0   \n",
       "\n",
       "        Product_Category_2  Product_Category_3  Purchase  \n",
       "98                     8.0                17.0   12099.0  \n",
       "103                   11.0                16.0   12098.0  \n",
       "111                    4.0                15.0    9564.0  \n",
       "127                    5.0                 9.0   15361.0  \n",
       "128                    2.0                15.0   15770.0  \n",
       "...                    ...                 ...       ...  \n",
       "262758                 2.0                15.0   11512.0  \n",
       "262759                15.0                18.0   11521.0  \n",
       "262760                 2.0                13.0    3988.0  \n",
       "262764                 8.0                17.0    5444.0  \n",
       "262952                 3.0                 4.0    3240.0  \n",
       "\n",
       "[11904 rows x 12 columns]"
      ]
     },
     "execution_count": 27,
     "metadata": {},
     "output_type": "execute_result"
    }
   ],
   "source": [
    "# We have encode 'Gender' of 'Male' as 1 and Age group of 18-25 as '1'. So, filter the data accordingly.\n",
    "new_data = data[(data['Age']==1) & (data['Gender']==1)]\n",
    "new_data"
   ]
  },
  {
   "cell_type": "code",
   "execution_count": 29,
   "id": "650d1984",
   "metadata": {},
   "outputs": [
    {
     "data": {
      "text/html": [
       "<div>\n",
       "<style scoped>\n",
       "    .dataframe tbody tr th:only-of-type {\n",
       "        vertical-align: middle;\n",
       "    }\n",
       "\n",
       "    .dataframe tbody tr th {\n",
       "        vertical-align: top;\n",
       "    }\n",
       "\n",
       "    .dataframe thead th {\n",
       "        text-align: right;\n",
       "    }\n",
       "</style>\n",
       "<table border=\"1\" class=\"dataframe\">\n",
       "  <thead>\n",
       "    <tr style=\"text-align: right;\">\n",
       "      <th></th>\n",
       "      <th>User_ID</th>\n",
       "      <th>Product_ID</th>\n",
       "      <th>Gender</th>\n",
       "      <th>Age</th>\n",
       "      <th>Occupation</th>\n",
       "      <th>City_Category</th>\n",
       "      <th>Stay_In_Current_City_Years</th>\n",
       "      <th>Marital_Status</th>\n",
       "      <th>Product_Category_1</th>\n",
       "      <th>Product_Category_2</th>\n",
       "      <th>Product_Category_3</th>\n",
       "      <th>Purchase</th>\n",
       "    </tr>\n",
       "  </thead>\n",
       "  <tbody>\n",
       "    <tr>\n",
       "      <th>240694</th>\n",
       "      <td>1001132</td>\n",
       "      <td>31</td>\n",
       "      <td>1</td>\n",
       "      <td>1</td>\n",
       "      <td>12.0</td>\n",
       "      <td>0</td>\n",
       "      <td>1.0</td>\n",
       "      <td>1.0</td>\n",
       "      <td>1.0</td>\n",
       "      <td>2.0</td>\n",
       "      <td>15.0</td>\n",
       "      <td>4082.0</td>\n",
       "    </tr>\n",
       "    <tr>\n",
       "      <th>123394</th>\n",
       "      <td>1001086</td>\n",
       "      <td>326</td>\n",
       "      <td>1</td>\n",
       "      <td>1</td>\n",
       "      <td>4.0</td>\n",
       "      <td>0</td>\n",
       "      <td>2.0</td>\n",
       "      <td>0.0</td>\n",
       "      <td>1.0</td>\n",
       "      <td>2.0</td>\n",
       "      <td>9.0</td>\n",
       "      <td>15478.0</td>\n",
       "    </tr>\n",
       "    <tr>\n",
       "      <th>17981</th>\n",
       "      <td>1002837</td>\n",
       "      <td>56</td>\n",
       "      <td>1</td>\n",
       "      <td>1</td>\n",
       "      <td>0.0</td>\n",
       "      <td>1</td>\n",
       "      <td>1.0</td>\n",
       "      <td>0.0</td>\n",
       "      <td>5.0</td>\n",
       "      <td>6.0</td>\n",
       "      <td>9.0</td>\n",
       "      <td>3522.0</td>\n",
       "    </tr>\n",
       "    <tr>\n",
       "      <th>177200</th>\n",
       "      <td>1003439</td>\n",
       "      <td>316</td>\n",
       "      <td>1</td>\n",
       "      <td>1</td>\n",
       "      <td>17.0</td>\n",
       "      <td>2</td>\n",
       "      <td>3.0</td>\n",
       "      <td>0.0</td>\n",
       "      <td>3.0</td>\n",
       "      <td>4.0</td>\n",
       "      <td>5.0</td>\n",
       "      <td>10893.0</td>\n",
       "    </tr>\n",
       "    <tr>\n",
       "      <th>25073</th>\n",
       "      <td>1003850</td>\n",
       "      <td>88</td>\n",
       "      <td>1</td>\n",
       "      <td>1</td>\n",
       "      <td>3.0</td>\n",
       "      <td>1</td>\n",
       "      <td>0.0</td>\n",
       "      <td>0.0</td>\n",
       "      <td>2.0</td>\n",
       "      <td>8.0</td>\n",
       "      <td>18.0</td>\n",
       "      <td>9535.0</td>\n",
       "    </tr>\n",
       "    <tr>\n",
       "      <th>...</th>\n",
       "      <td>...</td>\n",
       "      <td>...</td>\n",
       "      <td>...</td>\n",
       "      <td>...</td>\n",
       "      <td>...</td>\n",
       "      <td>...</td>\n",
       "      <td>...</td>\n",
       "      <td>...</td>\n",
       "      <td>...</td>\n",
       "      <td>...</td>\n",
       "      <td>...</td>\n",
       "      <td>...</td>\n",
       "    </tr>\n",
       "    <tr>\n",
       "      <th>159745</th>\n",
       "      <td>1000718</td>\n",
       "      <td>59</td>\n",
       "      <td>1</td>\n",
       "      <td>1</td>\n",
       "      <td>2.0</td>\n",
       "      <td>2</td>\n",
       "      <td>2.0</td>\n",
       "      <td>0.0</td>\n",
       "      <td>1.0</td>\n",
       "      <td>2.0</td>\n",
       "      <td>5.0</td>\n",
       "      <td>19085.0</td>\n",
       "    </tr>\n",
       "    <tr>\n",
       "      <th>182743</th>\n",
       "      <td>1004194</td>\n",
       "      <td>434</td>\n",
       "      <td>1</td>\n",
       "      <td>1</td>\n",
       "      <td>4.0</td>\n",
       "      <td>2</td>\n",
       "      <td>1.0</td>\n",
       "      <td>1.0</td>\n",
       "      <td>2.0</td>\n",
       "      <td>5.0</td>\n",
       "      <td>15.0</td>\n",
       "      <td>13027.0</td>\n",
       "    </tr>\n",
       "    <tr>\n",
       "      <th>22333</th>\n",
       "      <td>1003508</td>\n",
       "      <td>459</td>\n",
       "      <td>1</td>\n",
       "      <td>1</td>\n",
       "      <td>4.0</td>\n",
       "      <td>2</td>\n",
       "      <td>0.0</td>\n",
       "      <td>1.0</td>\n",
       "      <td>1.0</td>\n",
       "      <td>15.0</td>\n",
       "      <td>16.0</td>\n",
       "      <td>19453.0</td>\n",
       "    </tr>\n",
       "    <tr>\n",
       "      <th>155962</th>\n",
       "      <td>1000068</td>\n",
       "      <td>146</td>\n",
       "      <td>1</td>\n",
       "      <td>1</td>\n",
       "      <td>4.0</td>\n",
       "      <td>0</td>\n",
       "      <td>0.0</td>\n",
       "      <td>0.0</td>\n",
       "      <td>1.0</td>\n",
       "      <td>2.0</td>\n",
       "      <td>5.0</td>\n",
       "      <td>19084.0</td>\n",
       "    </tr>\n",
       "    <tr>\n",
       "      <th>47046</th>\n",
       "      <td>1001237</td>\n",
       "      <td>226</td>\n",
       "      <td>1</td>\n",
       "      <td>1</td>\n",
       "      <td>4.0</td>\n",
       "      <td>2</td>\n",
       "      <td>1.0</td>\n",
       "      <td>1.0</td>\n",
       "      <td>6.0</td>\n",
       "      <td>11.0</td>\n",
       "      <td>13.0</td>\n",
       "      <td>16619.0</td>\n",
       "    </tr>\n",
       "  </tbody>\n",
       "</table>\n",
       "<p>1000 rows × 12 columns</p>\n",
       "</div>"
      ],
      "text/plain": [
       "        User_ID  Product_ID  Gender  Age  Occupation  City_Category  \\\n",
       "240694  1001132          31       1    1        12.0              0   \n",
       "123394  1001086         326       1    1         4.0              0   \n",
       "17981   1002837          56       1    1         0.0              1   \n",
       "177200  1003439         316       1    1        17.0              2   \n",
       "25073   1003850          88       1    1         3.0              1   \n",
       "...         ...         ...     ...  ...         ...            ...   \n",
       "159745  1000718          59       1    1         2.0              2   \n",
       "182743  1004194         434       1    1         4.0              2   \n",
       "22333   1003508         459       1    1         4.0              2   \n",
       "155962  1000068         146       1    1         4.0              0   \n",
       "47046   1001237         226       1    1         4.0              2   \n",
       "\n",
       "        Stay_In_Current_City_Years  Marital_Status  Product_Category_1  \\\n",
       "240694                         1.0             1.0                 1.0   \n",
       "123394                         2.0             0.0                 1.0   \n",
       "17981                          1.0             0.0                 5.0   \n",
       "177200                         3.0             0.0                 3.0   \n",
       "25073                          0.0             0.0                 2.0   \n",
       "...                            ...             ...                 ...   \n",
       "159745                         2.0             0.0                 1.0   \n",
       "182743                         1.0             1.0                 2.0   \n",
       "22333                          0.0             1.0                 1.0   \n",
       "155962                         0.0             0.0                 1.0   \n",
       "47046                          1.0             1.0                 6.0   \n",
       "\n",
       "        Product_Category_2  Product_Category_3  Purchase  \n",
       "240694                 2.0                15.0    4082.0  \n",
       "123394                 2.0                 9.0   15478.0  \n",
       "17981                  6.0                 9.0    3522.0  \n",
       "177200                 4.0                 5.0   10893.0  \n",
       "25073                  8.0                18.0    9535.0  \n",
       "...                    ...                 ...       ...  \n",
       "159745                 2.0                 5.0   19085.0  \n",
       "182743                 5.0                15.0   13027.0  \n",
       "22333                 15.0                16.0   19453.0  \n",
       "155962                 2.0                 5.0   19084.0  \n",
       "47046                 11.0                13.0   16619.0  \n",
       "\n",
       "[1000 rows x 12 columns]"
      ]
     },
     "execution_count": 29,
     "metadata": {},
     "output_type": "execute_result"
    }
   ],
   "source": [
    "# Preparing sample\n",
    "Random_sample = new_data.sample(1000, random_state = 5) # random_state fixes the value and prevents it from changing \n",
    "Random_sample"
   ]
  },
  {
   "cell_type": "code",
   "execution_count": 30,
   "id": "e7ddb7a1",
   "metadata": {},
   "outputs": [],
   "source": [
    "population_mean = 10000"
   ]
  },
  {
   "cell_type": "code",
   "execution_count": 33,
   "id": "7fb65709",
   "metadata": {},
   "outputs": [
    {
     "data": {
      "text/plain": [
       "11686.459"
      ]
     },
     "execution_count": 33,
     "metadata": {},
     "output_type": "execute_result"
    }
   ],
   "source": [
    "Random_sample['Purchase'].mean()"
   ]
  },
  {
   "cell_type": "code",
   "execution_count": 35,
   "id": "8aa6ce5b",
   "metadata": {},
   "outputs": [],
   "source": [
    "from scipy.stats import ttest_1samp"
   ]
  },
  {
   "cell_type": "code",
   "execution_count": 37,
   "id": "92477af1",
   "metadata": {},
   "outputs": [
    {
     "name": "stdout",
     "output_type": "stream",
     "text": [
      "10.652344649997922 3.593214362507284e-25\n"
     ]
    }
   ],
   "source": [
    "t_statistic, p_value = ttest_1samp(Random_sample['Purchase'],population_mean) # Comparing mean of 2 groups 'sample' and 'popul'\n",
    "print(t_statistic, p_value)"
   ]
  },
  {
   "cell_type": "code",
   "execution_count": null,
   "id": "f9df53e1",
   "metadata": {},
   "outputs": [],
   "source": [
    "# Since p_value < alpha, we reject the null hypothesis ans accept the alternate hypothesis."
   ]
  },
  {
   "cell_type": "markdown",
   "id": "082fc56d",
   "metadata": {},
   "source": [
    "### Q2. It was observed that the percentage of women who spend more than 10000 was 35%. Is it still the same?"
   ]
  },
  {
   "cell_type": "code",
   "execution_count": 38,
   "id": "127f89fa",
   "metadata": {},
   "outputs": [
    {
     "data": {
      "text/html": [
       "<div>\n",
       "<style scoped>\n",
       "    .dataframe tbody tr th:only-of-type {\n",
       "        vertical-align: middle;\n",
       "    }\n",
       "\n",
       "    .dataframe tbody tr th {\n",
       "        vertical-align: top;\n",
       "    }\n",
       "\n",
       "    .dataframe thead th {\n",
       "        text-align: right;\n",
       "    }\n",
       "</style>\n",
       "<table border=\"1\" class=\"dataframe\">\n",
       "  <thead>\n",
       "    <tr style=\"text-align: right;\">\n",
       "      <th></th>\n",
       "      <th>User_ID</th>\n",
       "      <th>Product_ID</th>\n",
       "      <th>Gender</th>\n",
       "      <th>Age</th>\n",
       "      <th>Occupation</th>\n",
       "      <th>City_Category</th>\n",
       "      <th>Stay_In_Current_City_Years</th>\n",
       "      <th>Marital_Status</th>\n",
       "      <th>Product_Category_1</th>\n",
       "      <th>Product_Category_2</th>\n",
       "      <th>Product_Category_3</th>\n",
       "      <th>Purchase</th>\n",
       "    </tr>\n",
       "  </thead>\n",
       "  <tbody>\n",
       "    <tr>\n",
       "      <th>1</th>\n",
       "      <td>1000001</td>\n",
       "      <td>391</td>\n",
       "      <td>0</td>\n",
       "      <td>0</td>\n",
       "      <td>10.0</td>\n",
       "      <td>0</td>\n",
       "      <td>2.0</td>\n",
       "      <td>0.0</td>\n",
       "      <td>1.0</td>\n",
       "      <td>6.0</td>\n",
       "      <td>14.0</td>\n",
       "      <td>15200.0</td>\n",
       "    </tr>\n",
       "    <tr>\n",
       "      <th>6</th>\n",
       "      <td>1000004</td>\n",
       "      <td>284</td>\n",
       "      <td>1</td>\n",
       "      <td>4</td>\n",
       "      <td>7.0</td>\n",
       "      <td>1</td>\n",
       "      <td>2.0</td>\n",
       "      <td>1.0</td>\n",
       "      <td>1.0</td>\n",
       "      <td>8.0</td>\n",
       "      <td>17.0</td>\n",
       "      <td>19215.0</td>\n",
       "    </tr>\n",
       "    <tr>\n",
       "      <th>13</th>\n",
       "      <td>1000005</td>\n",
       "      <td>211</td>\n",
       "      <td>1</td>\n",
       "      <td>2</td>\n",
       "      <td>20.0</td>\n",
       "      <td>0</td>\n",
       "      <td>1.0</td>\n",
       "      <td>1.0</td>\n",
       "      <td>1.0</td>\n",
       "      <td>2.0</td>\n",
       "      <td>5.0</td>\n",
       "      <td>15665.0</td>\n",
       "    </tr>\n",
       "    <tr>\n",
       "      <th>16</th>\n",
       "      <td>1000006</td>\n",
       "      <td>517</td>\n",
       "      <td>0</td>\n",
       "      <td>5</td>\n",
       "      <td>9.0</td>\n",
       "      <td>0</td>\n",
       "      <td>1.0</td>\n",
       "      <td>0.0</td>\n",
       "      <td>2.0</td>\n",
       "      <td>3.0</td>\n",
       "      <td>4.0</td>\n",
       "      <td>13055.0</td>\n",
       "    </tr>\n",
       "    <tr>\n",
       "      <th>18</th>\n",
       "      <td>1000007</td>\n",
       "      <td>58</td>\n",
       "      <td>1</td>\n",
       "      <td>3</td>\n",
       "      <td>1.0</td>\n",
       "      <td>1</td>\n",
       "      <td>1.0</td>\n",
       "      <td>1.0</td>\n",
       "      <td>1.0</td>\n",
       "      <td>14.0</td>\n",
       "      <td>16.0</td>\n",
       "      <td>11788.0</td>\n",
       "    </tr>\n",
       "    <tr>\n",
       "      <th>...</th>\n",
       "      <td>...</td>\n",
       "      <td>...</td>\n",
       "      <td>...</td>\n",
       "      <td>...</td>\n",
       "      <td>...</td>\n",
       "      <td>...</td>\n",
       "      <td>...</td>\n",
       "      <td>...</td>\n",
       "      <td>...</td>\n",
       "      <td>...</td>\n",
       "      <td>...</td>\n",
       "      <td>...</td>\n",
       "    </tr>\n",
       "    <tr>\n",
       "      <th>262995</th>\n",
       "      <td>1004472</td>\n",
       "      <td>175</td>\n",
       "      <td>0</td>\n",
       "      <td>4</td>\n",
       "      <td>16.0</td>\n",
       "      <td>1</td>\n",
       "      <td>0.0</td>\n",
       "      <td>1.0</td>\n",
       "      <td>1.0</td>\n",
       "      <td>11.0</td>\n",
       "      <td>15.0</td>\n",
       "      <td>11661.0</td>\n",
       "    </tr>\n",
       "    <tr>\n",
       "      <th>262997</th>\n",
       "      <td>1004472</td>\n",
       "      <td>402</td>\n",
       "      <td>0</td>\n",
       "      <td>4</td>\n",
       "      <td>16.0</td>\n",
       "      <td>1</td>\n",
       "      <td>0.0</td>\n",
       "      <td>1.0</td>\n",
       "      <td>1.0</td>\n",
       "      <td>11.0</td>\n",
       "      <td>16.0</td>\n",
       "      <td>15175.0</td>\n",
       "    </tr>\n",
       "    <tr>\n",
       "      <th>263001</th>\n",
       "      <td>1004472</td>\n",
       "      <td>337</td>\n",
       "      <td>0</td>\n",
       "      <td>4</td>\n",
       "      <td>16.0</td>\n",
       "      <td>1</td>\n",
       "      <td>0.0</td>\n",
       "      <td>1.0</td>\n",
       "      <td>1.0</td>\n",
       "      <td>11.0</td>\n",
       "      <td>15.0</td>\n",
       "      <td>15430.0</td>\n",
       "    </tr>\n",
       "    <tr>\n",
       "      <th>263003</th>\n",
       "      <td>1004472</td>\n",
       "      <td>480</td>\n",
       "      <td>0</td>\n",
       "      <td>4</td>\n",
       "      <td>16.0</td>\n",
       "      <td>1</td>\n",
       "      <td>0.0</td>\n",
       "      <td>1.0</td>\n",
       "      <td>1.0</td>\n",
       "      <td>2.0</td>\n",
       "      <td>15.0</td>\n",
       "      <td>15387.0</td>\n",
       "    </tr>\n",
       "    <tr>\n",
       "      <th>263011</th>\n",
       "      <td>1004473</td>\n",
       "      <td>159</td>\n",
       "      <td>1</td>\n",
       "      <td>3</td>\n",
       "      <td>1.0</td>\n",
       "      <td>1</td>\n",
       "      <td>3.0</td>\n",
       "      <td>0.0</td>\n",
       "      <td>1.0</td>\n",
       "      <td>8.0</td>\n",
       "      <td>17.0</td>\n",
       "      <td>19253.0</td>\n",
       "    </tr>\n",
       "  </tbody>\n",
       "</table>\n",
       "<p>49390 rows × 12 columns</p>\n",
       "</div>"
      ],
      "text/plain": [
       "        User_ID  Product_ID  Gender  Age  Occupation  City_Category  \\\n",
       "1       1000001         391       0    0        10.0              0   \n",
       "6       1000004         284       1    4         7.0              1   \n",
       "13      1000005         211       1    2        20.0              0   \n",
       "16      1000006         517       0    5         9.0              0   \n",
       "18      1000007          58       1    3         1.0              1   \n",
       "...         ...         ...     ...  ...         ...            ...   \n",
       "262995  1004472         175       0    4        16.0              1   \n",
       "262997  1004472         402       0    4        16.0              1   \n",
       "263001  1004472         337       0    4        16.0              1   \n",
       "263003  1004472         480       0    4        16.0              1   \n",
       "263011  1004473         159       1    3         1.0              1   \n",
       "\n",
       "        Stay_In_Current_City_Years  Marital_Status  Product_Category_1  \\\n",
       "1                              2.0             0.0                 1.0   \n",
       "6                              2.0             1.0                 1.0   \n",
       "13                             1.0             1.0                 1.0   \n",
       "16                             1.0             0.0                 2.0   \n",
       "18                             1.0             1.0                 1.0   \n",
       "...                            ...             ...                 ...   \n",
       "262995                         0.0             1.0                 1.0   \n",
       "262997                         0.0             1.0                 1.0   \n",
       "263001                         0.0             1.0                 1.0   \n",
       "263003                         0.0             1.0                 1.0   \n",
       "263011                         3.0             0.0                 1.0   \n",
       "\n",
       "        Product_Category_2  Product_Category_3  Purchase  \n",
       "1                      6.0                14.0   15200.0  \n",
       "6                      8.0                17.0   19215.0  \n",
       "13                     2.0                 5.0   15665.0  \n",
       "16                     3.0                 4.0   13055.0  \n",
       "18                    14.0                16.0   11788.0  \n",
       "...                    ...                 ...       ...  \n",
       "262995                11.0                15.0   11661.0  \n",
       "262997                11.0                16.0   15175.0  \n",
       "263001                11.0                15.0   15430.0  \n",
       "263003                 2.0                15.0   15387.0  \n",
       "263011                 8.0                17.0   19253.0  \n",
       "\n",
       "[49390 rows x 12 columns]"
      ]
     },
     "execution_count": 38,
     "metadata": {},
     "output_type": "execute_result"
    }
   ],
   "source": [
    "new_data1 = data.loc[(data['Purchase']>10000)]\n",
    "new_data1"
   ]
  },
  {
   "cell_type": "code",
   "execution_count": 39,
   "id": "7f5670f2",
   "metadata": {},
   "outputs": [
    {
     "data": {
      "text/plain": [
       "10175"
      ]
     },
     "execution_count": 39,
     "metadata": {},
     "output_type": "execute_result"
    }
   ],
   "source": [
    "# Find the number of women in the data\n",
    "c = new_data1['Gender'].value_counts()[0]\n",
    "c"
   ]
  },
  {
   "cell_type": "code",
   "execution_count": 41,
   "id": "69749f4d",
   "metadata": {},
   "outputs": [
    {
     "data": {
      "text/plain": [
       "49390"
      ]
     },
     "execution_count": 41,
     "metadata": {},
     "output_type": "execute_result"
    }
   ],
   "source": [
    "# Calculating the prcentage of women\n",
    "n = len(new_data1['Gender'])\n",
    "n"
   ]
  },
  {
   "cell_type": "code",
   "execution_count": 43,
   "id": "2cd9b9e5",
   "metadata": {},
   "outputs": [
    {
     "data": {
      "text/plain": [
       "20.601336302895323"
      ]
     },
     "execution_count": 43,
     "metadata": {},
     "output_type": "execute_result"
    }
   ],
   "source": [
    "perc_women = c/n*100\n",
    "perc_women"
   ]
  },
  {
   "cell_type": "code",
   "execution_count": 44,
   "id": "cb1be530",
   "metadata": {},
   "outputs": [],
   "source": [
    "from statsmodels.stats.proportion import proportions_ztest"
   ]
  },
  {
   "cell_type": "code",
   "execution_count": 48,
   "id": "222729b9",
   "metadata": {},
   "outputs": [],
   "source": [
    "p0 = 0.35"
   ]
  },
  {
   "cell_type": "code",
   "execution_count": 49,
   "id": "4cca57ec",
   "metadata": {},
   "outputs": [
    {
     "name": "stdout",
     "output_type": "stream",
     "text": [
      "-79.12020590883206 0.0\n"
     ]
    }
   ],
   "source": [
    "z_statistic, p_value = proportions_ztest(count = c, nobs = n, value = p0)\n",
    "print(z_statistic, p_value)"
   ]
  },
  {
   "cell_type": "markdown",
   "id": "8d152001",
   "metadata": {},
   "source": [
    "### Q3. Is the average purchase made by men and women of the age 18-25 same"
   ]
  },
  {
   "cell_type": "code",
   "execution_count": 60,
   "id": "34667bf0",
   "metadata": {},
   "outputs": [],
   "source": [
    "new_data_men = data.loc[(data['Age']==1) & (data['Gender']==1)]\n",
    "new_data_women = data.loc[(data['Age']==1) & data['Gender']==0]"
   ]
  },
  {
   "cell_type": "code",
   "execution_count": 63,
   "id": "2abe936c",
   "metadata": {},
   "outputs": [],
   "source": [
    "Men_data_sample = new_data_men.sample(500, random_state =8)"
   ]
  },
  {
   "cell_type": "code",
   "execution_count": 64,
   "id": "d793479b",
   "metadata": {},
   "outputs": [],
   "source": [
    "from scipy.stats import ttest_ind\n"
   ]
  },
  {
   "cell_type": "code",
   "execution_count": 65,
   "id": "c119ec3e",
   "metadata": {},
   "outputs": [
    {
     "name": "stdout",
     "output_type": "stream",
     "text": [
      "0.32810123360500915\n",
      "0.7429039429126174\n"
     ]
    }
   ],
   "source": [
    "p_value, t_statistic = ttest_ind(Men_data_sample['Purchase'], Women_data_sample['Purchase'])\n",
    "print(p_value)\n",
    "print(t_statistic)"
   ]
  },
  {
   "cell_type": "code",
   "execution_count": null,
   "id": "70013f04",
   "metadata": {},
   "outputs": [],
   "source": [
    "# Since p_value < alpha, we reject the null hypothesis ans accept the alternate hypothesis."
   ]
  },
  {
   "cell_type": "code",
   "execution_count": 67,
   "id": "5bd45799",
   "metadata": {},
   "outputs": [
    {
     "data": {
      "text/plain": [
       "11563.324"
      ]
     },
     "execution_count": 67,
     "metadata": {},
     "output_type": "execute_result"
    }
   ],
   "source": [
    "Men_data_sample['Purchase'].mean()"
   ]
  },
  {
   "cell_type": "code",
   "execution_count": 68,
   "id": "70bd6887",
   "metadata": {},
   "outputs": [
    {
     "data": {
      "text/plain": [
       "11458.802"
      ]
     },
     "execution_count": 68,
     "metadata": {},
     "output_type": "execute_result"
    }
   ],
   "source": [
    "Women_data_sample['Purchase'].mean()"
   ]
  },
  {
   "cell_type": "markdown",
   "id": "b90a20d7",
   "metadata": {},
   "source": [
    "### Q4.  Is the percentage of men who have spent more than 10000 the same for the ages 18-25 and 26-35?\n"
   ]
  },
  {
   "cell_type": "code",
   "execution_count": 105,
   "id": "f8f9e1e6",
   "metadata": {},
   "outputs": [],
   "source": [
    "Lower_agegroup_men = data.loc[(data['Age']==1) & (data['Purchase']>10000)]\n",
    "Upper_agegroup_men = data.loc[(data['Age']==2) & (data['Purchase']>10000)]"
   ]
  },
  {
   "cell_type": "code",
   "execution_count": 106,
   "id": "5eb59ac0",
   "metadata": {},
   "outputs": [],
   "source": [
    "Lower_agegroup_men_sample = Lower_agegroup_men.sample(1000, random_state=0)\n",
    "Upper_agegroup_men_sample = Upper_agegroup_men.sample(1000, random_state=0)"
   ]
  },
  {
   "cell_type": "code",
   "execution_count": 107,
   "id": "d69be34f",
   "metadata": {},
   "outputs": [],
   "source": [
    "#null hypothesis - Percentage of the men in the age groups is same\n",
    "#alternate hypothesis - Percentage of the men in the age groups is not same"
   ]
  },
  {
   "cell_type": "code",
   "execution_count": 108,
   "id": "7fc183c1",
   "metadata": {},
   "outputs": [
    {
     "data": {
      "text/plain": [
       "815"
      ]
     },
     "execution_count": 108,
     "metadata": {},
     "output_type": "execute_result"
    }
   ],
   "source": [
    "(Lower_agegroup_men_sample['Gender']==1).sum()"
   ]
  },
  {
   "cell_type": "code",
   "execution_count": 109,
   "id": "af6aacda",
   "metadata": {},
   "outputs": [
    {
     "data": {
      "text/plain": [
       "828"
      ]
     },
     "execution_count": 109,
     "metadata": {},
     "output_type": "execute_result"
    }
   ],
   "source": [
    "(Upper_agegroup_men_sample['Gender']==1).sum()"
   ]
  },
  {
   "cell_type": "code",
   "execution_count": 110,
   "id": "ea06534b",
   "metadata": {},
   "outputs": [],
   "source": [
    "count = [(Lower_agegroup_men_sample['Gender']==1).sum(), (Upper_agegroup_men_sample['Gender']==1).sum()]"
   ]
  },
  {
   "cell_type": "code",
   "execution_count": 111,
   "id": "ca09fcf7",
   "metadata": {},
   "outputs": [
    {
     "data": {
      "text/plain": [
       "[815, 828]"
      ]
     },
     "execution_count": 111,
     "metadata": {},
     "output_type": "execute_result"
    }
   ],
   "source": [
    "count"
   ]
  },
  {
   "cell_type": "code",
   "execution_count": 119,
   "id": "fe0de487",
   "metadata": {},
   "outputs": [
    {
     "data": {
      "text/plain": [
       "[1000, 1000]"
      ]
     },
     "execution_count": 119,
     "metadata": {},
     "output_type": "execute_result"
    }
   ],
   "source": [
    "nobs = [(len(Lower_agegroup_men_sample)), (len(Upper_agegroup_men_sample))]\n",
    "nobs"
   ]
  },
  {
   "cell_type": "code",
   "execution_count": 120,
   "id": "301443d8",
   "metadata": {},
   "outputs": [],
   "source": [
    "z_statistic, p_value = proportions_ztest(count = count, nobs = nobs, value = 0)"
   ]
  },
  {
   "cell_type": "code",
   "execution_count": 121,
   "id": "a8d5e83f",
   "metadata": {},
   "outputs": [
    {
     "name": "stdout",
     "output_type": "stream",
     "text": [
      "-0.759111307093946\n",
      "0.44778597581119517\n"
     ]
    }
   ],
   "source": [
    "print(z_statistic)\n",
    "print(p_value)"
   ]
  },
  {
   "cell_type": "code",
   "execution_count": null,
   "id": "f6f3d01b",
   "metadata": {},
   "outputs": [],
   "source": [
    "# Since p_value > alpha, we accept Null Hypo, "
   ]
  },
  {
   "cell_type": "markdown",
   "id": "ecee16d4",
   "metadata": {},
   "source": [
    "### Solve this by yourself: Is the percentage of women who have spent more than 13500 the same for the ages 18-25 and 36-50?"
   ]
  },
  {
   "cell_type": "code",
   "execution_count": null,
   "id": "51644cff",
   "metadata": {},
   "outputs": [],
   "source": []
  }
 ],
 "metadata": {
  "kernelspec": {
   "display_name": "Python 3 (ipykernel)",
   "language": "python",
   "name": "python3"
  },
  "language_info": {
   "codemirror_mode": {
    "name": "ipython",
    "version": 3
   },
   "file_extension": ".py",
   "mimetype": "text/x-python",
   "name": "python",
   "nbconvert_exporter": "python",
   "pygments_lexer": "ipython3",
   "version": "3.11.11"
  }
 },
 "nbformat": 4,
 "nbformat_minor": 5
}
