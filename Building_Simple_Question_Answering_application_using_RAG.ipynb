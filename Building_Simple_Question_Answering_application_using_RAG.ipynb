{
  "nbformat": 4,
  "nbformat_minor": 0,
  "metadata": {
    "colab": {
      "provenance": []
    },
    "kernelspec": {
      "name": "python3",
      "display_name": "Python 3"
    },
    "language_info": {
      "name": "python"
    }
  },
  "cells": [
    {
      "cell_type": "markdown",
      "source": [
        "#Why RAG??\n",
        "\n",
        "A trained LLM does not have knowledge of most recent information or knowledge that is available only in the proprietary documents it was not trained on. This issue is resolved by RAG or Retreival Augmented Generation"
      ],
      "metadata": {
        "id": "kL-h7bfV-mGK"
      }
    },
    {
      "cell_type": "code",
      "execution_count": 31,
      "metadata": {
        "id": "uAcP7CQJPXKy"
      },
      "outputs": [],
      "source": [
        "# Installing LangChain Dependencies\n",
        "%pip install --quiet --upgrade langchain-text-splitters langchain-community langgraph"
      ]
    },
    {
      "cell_type": "code",
      "source": [
        "import os\n",
        "\n",
        "# seting our environment variables to start logging traces\n",
        "os.environ[\"LANGSMITH_TRACING\"] = \"true\"\n",
        "os.environ[\"LANGSMITH_API_KEY\"] = \"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\""
      ],
      "metadata": {
        "id": "-0j32PzgzVIW"
      },
      "execution_count": 32,
      "outputs": []
    },
    {
      "cell_type": "markdown",
      "source": [
        "# Using LangChain's suite of integrations"
      ],
      "metadata": {
        "id": "T7TdjFT8GrCA"
      }
    },
    {
      "cell_type": "markdown",
      "source": [
        "Before proceeding further, we'll require 3 components from LangChain's suite of integrations namely,\n",
        "\n",
        "**1. Chat Model** - These are language models that use a sequence of messages as inputs and return messages as outputs. Langchain provides a wide variety of them like Anthropic, Google gemini, IBM watsonx.ai, OpenAI and many more\n",
        "\n",
        "**2. Embedding Model**-  Embeddings are used to measure the similarity between pairs of vectors and sift through extensive datasets, identifying most similar vectors. Various model providers allow you to use embeddings in LangChain (OpenAI, Google Gemini, NVIDIA, IBM Watsonx, Ollama, HuggingFace)\n",
        "\n",
        "**3. Vector Store**- A key component of RAG is the vector database. At its core a vector database relies on ‘Embeddings’."
      ],
      "metadata": {
        "id": "L6cbrSry2406"
      }
    },
    {
      "cell_type": "code",
      "source": [
        "pip install -U langchain-openai\n"
      ],
      "metadata": {
        "colab": {
          "base_uri": "https://localhost:8080/"
        },
        "collapsed": true,
        "id": "uG7elQje394N",
        "outputId": "02a2f63c-8598-41d1-8714-4c3ba3d238b2"
      },
      "execution_count": 33,
      "outputs": [
        {
          "output_type": "stream",
          "name": "stdout",
          "text": [
            "Requirement already satisfied: langchain-openai in /usr/local/lib/python3.11/dist-packages (0.3.28)\n",
            "Requirement already satisfied: langchain-core<1.0.0,>=0.3.68 in /usr/local/lib/python3.11/dist-packages (from langchain-openai) (0.3.69)\n",
            "Requirement already satisfied: openai<2.0.0,>=1.86.0 in /usr/local/lib/python3.11/dist-packages (from langchain-openai) (1.96.1)\n",
            "Requirement already satisfied: tiktoken<1,>=0.7 in /usr/local/lib/python3.11/dist-packages (from langchain-openai) (0.9.0)\n",
            "Requirement already satisfied: langsmith>=0.3.45 in /usr/local/lib/python3.11/dist-packages (from langchain-core<1.0.0,>=0.3.68->langchain-openai) (0.4.6)\n",
            "Requirement already satisfied: tenacity!=8.4.0,<10.0.0,>=8.1.0 in /usr/local/lib/python3.11/dist-packages (from langchain-core<1.0.0,>=0.3.68->langchain-openai) (8.5.0)\n",
            "Requirement already satisfied: jsonpatch<2.0,>=1.33 in /usr/local/lib/python3.11/dist-packages (from langchain-core<1.0.0,>=0.3.68->langchain-openai) (1.33)\n",
            "Requirement already satisfied: PyYAML>=5.3 in /usr/local/lib/python3.11/dist-packages (from langchain-core<1.0.0,>=0.3.68->langchain-openai) (6.0.2)\n",
            "Requirement already satisfied: typing-extensions>=4.7 in /usr/local/lib/python3.11/dist-packages (from langchain-core<1.0.0,>=0.3.68->langchain-openai) (4.14.1)\n",
            "Requirement already satisfied: packaging>=23.2 in /usr/local/lib/python3.11/dist-packages (from langchain-core<1.0.0,>=0.3.68->langchain-openai) (25.0)\n",
            "Requirement already satisfied: pydantic>=2.7.4 in /usr/local/lib/python3.11/dist-packages (from langchain-core<1.0.0,>=0.3.68->langchain-openai) (2.11.7)\n",
            "Requirement already satisfied: anyio<5,>=3.5.0 in /usr/local/lib/python3.11/dist-packages (from openai<2.0.0,>=1.86.0->langchain-openai) (4.9.0)\n",
            "Requirement already satisfied: distro<2,>=1.7.0 in /usr/local/lib/python3.11/dist-packages (from openai<2.0.0,>=1.86.0->langchain-openai) (1.9.0)\n",
            "Requirement already satisfied: httpx<1,>=0.23.0 in /usr/local/lib/python3.11/dist-packages (from openai<2.0.0,>=1.86.0->langchain-openai) (0.28.1)\n",
            "Requirement already satisfied: jiter<1,>=0.4.0 in /usr/local/lib/python3.11/dist-packages (from openai<2.0.0,>=1.86.0->langchain-openai) (0.10.0)\n",
            "Requirement already satisfied: sniffio in /usr/local/lib/python3.11/dist-packages (from openai<2.0.0,>=1.86.0->langchain-openai) (1.3.1)\n",
            "Requirement already satisfied: tqdm>4 in /usr/local/lib/python3.11/dist-packages (from openai<2.0.0,>=1.86.0->langchain-openai) (4.67.1)\n",
            "Requirement already satisfied: regex>=2022.1.18 in /usr/local/lib/python3.11/dist-packages (from tiktoken<1,>=0.7->langchain-openai) (2024.11.6)\n",
            "Requirement already satisfied: requests>=2.26.0 in /usr/local/lib/python3.11/dist-packages (from tiktoken<1,>=0.7->langchain-openai) (2.32.3)\n",
            "Requirement already satisfied: idna>=2.8 in /usr/local/lib/python3.11/dist-packages (from anyio<5,>=3.5.0->openai<2.0.0,>=1.86.0->langchain-openai) (3.10)\n",
            "Requirement already satisfied: certifi in /usr/local/lib/python3.11/dist-packages (from httpx<1,>=0.23.0->openai<2.0.0,>=1.86.0->langchain-openai) (2025.7.14)\n",
            "Requirement already satisfied: httpcore==1.* in /usr/local/lib/python3.11/dist-packages (from httpx<1,>=0.23.0->openai<2.0.0,>=1.86.0->langchain-openai) (1.0.9)\n",
            "Requirement already satisfied: h11>=0.16 in /usr/local/lib/python3.11/dist-packages (from httpcore==1.*->httpx<1,>=0.23.0->openai<2.0.0,>=1.86.0->langchain-openai) (0.16.0)\n",
            "Requirement already satisfied: jsonpointer>=1.9 in /usr/local/lib/python3.11/dist-packages (from jsonpatch<2.0,>=1.33->langchain-core<1.0.0,>=0.3.68->langchain-openai) (3.0.0)\n",
            "Requirement already satisfied: orjson<4.0.0,>=3.9.14 in /usr/local/lib/python3.11/dist-packages (from langsmith>=0.3.45->langchain-core<1.0.0,>=0.3.68->langchain-openai) (3.11.0)\n",
            "Requirement already satisfied: requests-toolbelt<2.0.0,>=1.0.0 in /usr/local/lib/python3.11/dist-packages (from langsmith>=0.3.45->langchain-core<1.0.0,>=0.3.68->langchain-openai) (1.0.0)\n",
            "Requirement already satisfied: zstandard<0.24.0,>=0.23.0 in /usr/local/lib/python3.11/dist-packages (from langsmith>=0.3.45->langchain-core<1.0.0,>=0.3.68->langchain-openai) (0.23.0)\n",
            "Requirement already satisfied: annotated-types>=0.6.0 in /usr/local/lib/python3.11/dist-packages (from pydantic>=2.7.4->langchain-core<1.0.0,>=0.3.68->langchain-openai) (0.7.0)\n",
            "Requirement already satisfied: pydantic-core==2.33.2 in /usr/local/lib/python3.11/dist-packages (from pydantic>=2.7.4->langchain-core<1.0.0,>=0.3.68->langchain-openai) (2.33.2)\n",
            "Requirement already satisfied: typing-inspection>=0.4.0 in /usr/local/lib/python3.11/dist-packages (from pydantic>=2.7.4->langchain-core<1.0.0,>=0.3.68->langchain-openai) (0.4.1)\n",
            "Requirement already satisfied: charset-normalizer<4,>=2 in /usr/local/lib/python3.11/dist-packages (from requests>=2.26.0->tiktoken<1,>=0.7->langchain-openai) (3.4.2)\n",
            "Requirement already satisfied: urllib3<3,>=1.21.1 in /usr/local/lib/python3.11/dist-packages (from requests>=2.26.0->tiktoken<1,>=0.7->langchain-openai) (2.4.0)\n"
          ]
        }
      ]
    },
    {
      "cell_type": "code",
      "source": [
        "pip show langchain-openai"
      ],
      "metadata": {
        "colab": {
          "base_uri": "https://localhost:8080/"
        },
        "id": "HHcxo5Yl4Hll",
        "outputId": "d77b71a7-2d8a-4de7-8b7b-1f19208fd4dc"
      },
      "execution_count": 34,
      "outputs": [
        {
          "output_type": "stream",
          "name": "stdout",
          "text": [
            "Name: langchain-openai\n",
            "Version: 0.3.28\n",
            "Summary: An integration package connecting OpenAI and LangChain\n",
            "Home-page: \n",
            "Author: \n",
            "Author-email: \n",
            "License: MIT\n",
            "Location: /usr/local/lib/python3.11/dist-packages\n",
            "Requires: langchain-core, openai, tiktoken\n",
            "Required-by: \n"
          ]
        }
      ]
    },
    {
      "cell_type": "code",
      "source": [
        "# FOR ChatModel\n",
        "from langchain_openai import ChatOpenAI\n",
        "from google.colab import userdata\n",
        "import os\n",
        "\n",
        "# Get the OpenAI API key from Colab Secrets\n",
        "os.environ[\"OPENAI_API_KEY\"] = userdata.get(\"OPENAI_API_KEY\")\n",
        "\n",
        "llm = ChatOpenAI(model=\"gpt-4o-mini\")"
      ],
      "metadata": {
        "id": "MOP3KYT92yPJ"
      },
      "execution_count": 35,
      "outputs": []
    },
    {
      "cell_type": "code",
      "source": [
        "# FOR EMBEDDINGS\n",
        "from langchain_openai import OpenAIEmbeddings\n",
        "\n",
        "embeddings = OpenAIEmbeddings()"
      ],
      "metadata": {
        "id": "8YNrPhux7qqo"
      },
      "execution_count": 36,
      "outputs": []
    },
    {
      "cell_type": "code",
      "source": [
        "# FOR VECTORSTORE\n",
        "from langchain_core.vectorstores import InMemoryVectorStore\n",
        "\n",
        "vector_store = InMemoryVectorStore(embeddings)"
      ],
      "metadata": {
        "id": "lYuCBwSzAQui"
      },
      "execution_count": 37,
      "outputs": []
    },
    {
      "cell_type": "code",
      "source": [
        "# import os\n",
        "# os.environ[\"USER_AGENT\"] = \"my-langchain-app/0.1\"\n",
        "# Place this before importing or calling any LangChain or langchain_openai modules.\n",
        "\n"
      ],
      "metadata": {
        "id": "ku7y9ovRHKzO"
      },
      "execution_count": null,
      "outputs": []
    },
    {
      "cell_type": "code",
      "metadata": {
        "id": "dd636d8f"
      },
      "source": [
        "%pip install --quiet --upgrade langchain-community"
      ],
      "execution_count": 38,
      "outputs": []
    },
    {
      "cell_type": "code",
      "source": [
        "pip install --quiet --upgrade langgraph"
      ],
      "metadata": {
        "id": "Er9m446cBp9a"
      },
      "execution_count": 39,
      "outputs": []
    },
    {
      "cell_type": "code",
      "source": [
        "# Importing necessary libraries\n",
        "import bs4\n",
        "from langchain import hub\n",
        "from langchain_community.document_loaders import WebBaseLoader\n",
        "from langchain_core.documents import Document\n",
        "from langchain_text_splitters import RecursiveCharacterTextSplitter\n",
        "from langgraph.graph import START, StateGraph\n",
        "from typing_extensions import List, TypedDict"
      ],
      "metadata": {
        "id": "alT_HuPfBd_a"
      },
      "execution_count": 40,
      "outputs": []
    },
    {
      "cell_type": "markdown",
      "source": [
        "# Indexing"
      ],
      "metadata": {
        "id": "_04ExXN9TbAH"
      }
    },
    {
      "cell_type": "markdown",
      "source": [
        "For our topic of interest, I’ve utilized the **WebBaseLoader**, which enables loading text content from HTML web pages into a document-friendly format. Internally, it uses urllib to fetch the HTML and '**BeautifulSoup**' to extract the text. The HTML-to-text parsing can be customized by passing arguments to the BeautifulSoup parser using the **'bs_kwargs'** parameter. **bs4.SoupStrainer** is a class within the Beautiful Soup 4 (bs4) library, a Python library used for parsing HTML and XML documents. Its primary purpose is to selectively parse portions of a document, rather than parsing the entire document. In our case, only elements with the classes **\"post-content\"**, **\"post-title\"**, or **\"post-header\"** are relevant—so we’ll filter out all other tags.\n",
        "\n",
        "Next, **DocumentLoader** helps load data from a source as list of Documents.Each DocumentLoader has its own specific parameters, but they can all be invoked in the same way with the **.load** method"
      ],
      "metadata": {
        "id": "Ri7v7dj3CE4z"
      }
    },
    {
      "cell_type": "code",
      "source": [
        "import bs4\n",
        "from langchain_community.document_loaders import WebBaseLoader\n",
        "\n",
        "# Only keep post title, headers, and content from the full HTML.\n",
        "bs4_strainer = bs4.SoupStrainer(class_=(\"post-title\", \"post-header\", \"post-content\"))\n",
        "loader = WebBaseLoader(\n",
        "    web_paths=(\"https://lilianweng.github.io/posts/2023-06-23-agent/\",),\n",
        "    bs_kwargs={\"parse_only\": bs4_strainer},\n",
        ")\n",
        "docs = loader.load()\n",
        "\n",
        "assert len(docs) == 1\n",
        "print(f\"Total characters: {len(docs[0].page_content)}\")"
      ],
      "metadata": {
        "colab": {
          "base_uri": "https://localhost:8080/"
        },
        "id": "8qQKQdjIFFMG",
        "outputId": "25cbc72d-48fb-4899-8c10-5e4caacb6cab"
      },
      "execution_count": 56,
      "outputs": [
        {
          "output_type": "stream",
          "name": "stdout",
          "text": [
            "Total characters: 43047\n"
          ]
        }
      ]
    },
    {
      "cell_type": "code",
      "source": [
        "print(docs[0].page_content[:250])"
      ],
      "metadata": {
        "colab": {
          "base_uri": "https://localhost:8080/"
        },
        "id": "sBzCYtR9PhPv",
        "outputId": "afda8d42-ce87-411d-fbea-47ea3a8249bd"
      },
      "execution_count": 58,
      "outputs": [
        {
          "output_type": "stream",
          "name": "stdout",
          "text": [
            "\n",
            "\n",
            "      LLM Powered Autonomous Agents\n",
            "    \n",
            "Date: June 23, 2023  |  Estimated Reading Time: 31 min  |  Author: Lilian Weng\n",
            "\n",
            "\n",
            "Building agents with LLM (large language model) as its core controller is a cool concept. Several proof-of-concepts demos, suc\n"
          ]
        }
      ]
    },
    {
      "cell_type": "markdown",
      "source": [
        "The loaded document may contain more text than many models can handle within their context window. Even if a model can fit the entire post, it may still struggle to extract relevant information from such lengthy input.\n",
        "\n",
        "To address this, we'll divide the document into smaller chunks with some overlap to maintain contextual continuity. These chunks will then be used to generate embeddings and populate a vector store, enabling us to retrieve only the most relevant sections of the blog post at runtime.\n",
        "\n",
        "For this task, we're using **RecursiveCharacterTextSplitter**, which intelligently splits the document by recursively applying common delimiters (like new lines) until each chunk meets the desired size constraints."
      ],
      "metadata": {
        "id": "_Q3usp6ZNwZw"
      }
    },
    {
      "cell_type": "code",
      "source": [
        "from langchain_text_splitters import RecursiveCharacterTextSplitter\n",
        "\n",
        "text_splitter = RecursiveCharacterTextSplitter(\n",
        "    chunk_size=800,  # chunk size (characters)\n",
        "    chunk_overlap=150,  # chunk overlap (characters)\n",
        "    add_start_index=True,  # track index in original document\n",
        ")\n",
        "all_splits = text_splitter.split_documents(docs)\n",
        "\n",
        "print(f\"Split blog post into {len(all_splits)} sub-documents.\")"
      ],
      "metadata": {
        "colab": {
          "base_uri": "https://localhost:8080/"
        },
        "id": "mbfDRIA0ODYn",
        "outputId": "4a49efe2-0838-46dd-d0be-9bf3b615a1ec"
      },
      "execution_count": 57,
      "outputs": [
        {
          "output_type": "stream",
          "name": "stdout",
          "text": [
            "Split blog post into 82 sub-documents.\n"
          ]
        }
      ]
    },
    {
      "cell_type": "markdown",
      "source": [
        "Now, it's to embed and store all of our document splits using the vector store and embeddings model we selected at the start of the tutorial i.e., Langchain's InMemoryVectorStore. Note that The base Embeddings class in LangChain provides two methods: one for\n",
        "1. embedding documents\n",
        "2. one for embedding a query.\n",
        "\n",
        "The former, **.embed_documents**, takes as input multiple texts, while the latter, **.embed_query**, takes a single text. `.embed_query` will return a list of floats, whereas `.embed_documents` returns a list of lists of floats."
      ],
      "metadata": {
        "id": "OUHodSRORS7x"
      }
    },
    {
      "cell_type": "code",
      "source": [
        "document_ids = vector_store.add_documents(documents=all_splits)\n",
        "\n",
        "print(document_ids[:7])"
      ],
      "metadata": {
        "colab": {
          "base_uri": "https://localhost:8080/"
        },
        "id": "920122PpQ0dL",
        "outputId": "2199ca21-7ae3-4700-d366-86ecfd57686b"
      },
      "execution_count": 59,
      "outputs": [
        {
          "output_type": "stream",
          "name": "stdout",
          "text": [
            "['1f9a3051-afc4-45c7-8853-54d790c0ca65', '103d6737-0885-44da-9c8f-0dfb12990cb5', 'fb3cccae-daa8-45bc-8683-8a4ec6f9f6d3', '8206348f-3a71-42f3-b832-46983d9601c7', '484457af-3924-4a45-abc3-59d23ef74626', '4080004e-024c-4688-bb43-cca55c10df89', 'e050d959-eb9f-4876-8769-e633d6bb6c09']\n"
          ]
        }
      ]
    },
    {
      "cell_type": "markdown",
      "source": [
        "# Retrieval & Generation\n",
        "We’re implementing a workflow that takes a user’s question, retrieves documents relevant to it, feeds both the question and the retrieved content into a model as a **'PROMPT'**, and returns a generated answer.The prompt acts as the glue that combines the retriever's output with the generator's input, ensuring the model is responding based on actual content, not hallucination. Also, for generation, we will use the chat model selected earlier"
      ],
      "metadata": {
        "id": "T7Y53raGTjMr"
      }
    },
    {
      "cell_type": "code",
      "source": [
        "#\n",
        "from langchain import hub\n",
        "\n",
        "prompt = hub.pull(\"rlm/rag-prompt\")\n",
        "\n",
        "example_messages = prompt.invoke(\n",
        "    {\"context\": \"(context goes here)\", \"question\": \"(question goes here)\"}\n",
        ").to_messages()\n",
        "\n",
        "assert len(example_messages) == 1\n",
        "print(example_messages[0].content)"
      ],
      "metadata": {
        "colab": {
          "base_uri": "https://localhost:8080/"
        },
        "id": "QyQOaCf9YAmJ",
        "outputId": "37947198-d83b-4c0f-8b08-7101c4951c27"
      },
      "execution_count": 72,
      "outputs": [
        {
          "output_type": "stream",
          "name": "stdout",
          "text": [
            "You are an assistant for question-answering tasks. Use the following pieces of retrieved context to answer the question. If you don't know the answer, just say that you don't know. Use three sentences maximum and keep the answer concise.\n",
            "Question: (question goes here) \n",
            "Context: (context goes here) \n",
            "Answer:\n"
          ]
        }
      ]
    },
    {
      "cell_type": "markdown",
      "source": [
        "Now, we'll use **LangGraph** to tie together the **retrieval** and **generation** steps into a single application. However, to use LangGraph, we need to define three things:\n",
        "\n",
        "**The state of our application**(controls what data is input to the application, transferred between steps, and output by the application. It is It is typically a TypedDict. TypedDict allows you to create dictionaries with a fixed set of keys, where each key is associated with a specific type hint. This helps us define what keys are expected in the state dictionary and what type of data should be associated with each key)\n",
        "\n",
        "**Nodes of our application**(i.e., application steps);\n",
        "\n",
        "**Control Flow of our application** (e.g., the ordering of the steps).\n",
        "\n",
        "\n",
        "\n"
      ],
      "metadata": {
        "id": "10CK4H--cHbZ"
      }
    },
    {
      "cell_type": "code",
      "source": [
        "# FOR STATE\n",
        "\n",
        "from langchain_core.documents import Document\n",
        "from typing_extensions import List, TypedDict\n",
        "\n",
        "\n",
        "class State(TypedDict):\n",
        "    question: str\n",
        "    context: List[Document]\n",
        "    answer: str"
      ],
      "metadata": {
        "id": "BxN9SeS5eJu1"
      },
      "execution_count": 73,
      "outputs": []
    },
    {
      "cell_type": "code",
      "source": [
        "# FOR NODES (In our case, it's a simple sequence of two steps namely, retrieval and generation)\n",
        "def retrieve(state: State):\n",
        "    retrieved_docs = vector_store.similarity_search(state[\"question\"])\n",
        "    return {\"context\": retrieved_docs}\n",
        "\n",
        "\n",
        "def generate(state: State):\n",
        "    docs_content = \"\\n\\n\".join(doc.page_content for doc in state[\"context\"])\n",
        "    messages = prompt.invoke({\"question\": state[\"question\"], \"context\": docs_content})\n",
        "    response = llm.invoke(messages)\n",
        "    return {\"answer\": response.content}"
      ],
      "metadata": {
        "id": "SSS9B1Zme47O"
      },
      "execution_count": 74,
      "outputs": []
    },
    {
      "cell_type": "markdown",
      "source": [
        "The retrieval step will perform a similarity search based on the input question, while the generation step will construct a prompt by combining the retrieved context with the original question for the chat model."
      ],
      "metadata": {
        "id": "yCG-DJM3fcu-"
      }
    },
    {
      "cell_type": "code",
      "source": [
        "# FOR CONTROL FLOW Control flow\n",
        "# Finally, we compile our application into a single 'graph' object by connecting the retrieval and generation steps into a single sequence.\n",
        "from langgraph.graph import START, StateGraph\n",
        "\n",
        "graph_builder = StateGraph(State).add_sequence([retrieve, generate])\n",
        "graph_builder.add_edge(START, \"retrieve\")\n",
        "graph = graph_builder.compile()"
      ],
      "metadata": {
        "id": "hLtimZLlfi1S"
      },
      "execution_count": 75,
      "outputs": []
    },
    {
      "cell_type": "code",
      "source": [
        "from IPython.display import Image, display\n",
        "\n",
        "display(Image(graph.get_graph().draw_mermaid_png()))"
      ],
      "metadata": {
        "colab": {
          "base_uri": "https://localhost:8080/",
          "height": 350
        },
        "id": "F5gPoItygG7F",
        "outputId": "24efd93d-5fc9-4136-d6cd-d4f15fe06ecd"
      },
      "execution_count": 76,
      "outputs": [
        {
          "output_type": "display_data",
          "data": {
            "image/png": "[encoded data removed]",
            "text/plain": [
              "<IPython.core.display.Image object>"
            ]
          },
          "metadata": {}
        }
      ]
    },
    {
      "cell_type": "code",
      "source": [
        "result = graph.invoke({\"question\": \"What crucial role Self-Reflection plays in real-world tasks?\"})\n",
        "\n",
        "print(f\"Context: {result['context']}\\n\\n\")\n",
        "print(f\"Answer: {result['answer']}\")"
      ],
      "metadata": {
        "colab": {
          "base_uri": "https://localhost:8080/"
        },
        "id": "tMZwn1o1hxAR",
        "outputId": "4c3e9ffb-4cae-48c2-85a8-4363c7d09a76"
      },
      "execution_count": 77,
      "outputs": [
        {
          "output_type": "stream",
          "name": "stdout",
          "text": [
            "Context: [Document(id='e050d959-eb9f-4876-8769-e633d6bb6c09', metadata={'source': 'https://lilianweng.github.io/posts/2023-06-23-agent/', 'start_index': 3549}, page_content='Self-Reflection#\\nSelf-reflection is a vital aspect that allows autonomous agents to improve iteratively by refining past action decisions and correcting previous mistakes. It plays a crucial role in real-world tasks where trial and error are inevitable.\\nReAct (Yao et al. 2023) integrates reasoning and acting within LLM by extending the action space to be a combination of task-specific discrete actions and the language space. The former enables LLM to interact with the environment (e.g. use Wikipedia search API), while the latter prompting LLM to generate reasoning traces in natural language.\\nThe ReAct prompt template incorporates explicit steps for LLM to think, roughly formatted as:\\nThought: ...\\nAction: ...\\nObservation: ...\\n... (Repeated many times)'), Document(id='fc061dc1-1bc9-4727-be12-7064534a9997', metadata={'source': 'https://lilianweng.github.io/posts/2023-06-23-agent/', 'start_index': 4490}, page_content='In both experiments on knowledge-intensive tasks and decision-making tasks, ReAct works better than the Act-only baseline where Thought: … step is removed.\\nReflexion (Shinn & Labash 2023) is a framework to equip agents with dynamic memory and self-reflection capabilities to improve reasoning skills. Reflexion has a standard RL setup, in which the reward model provides a simple binary reward and the action space follows the setup in ReAct where the task-specific action space is augmented with language to enable complex reasoning steps. After each action $a_t$, the agent computes a heuristic $h_t$ and optionally may decide to reset the environment to start a new trial depending on the self-reflection results.\\n\\n\\nIllustration of the Reflexion framework. (Image source: Shinn & Labash, 2023)'), Document(id='fef45191-eb32-4f9a-860d-10256848b396', metadata={'source': 'https://lilianweng.github.io/posts/2023-06-23-agent/', 'start_index': 25719}, page_content='Reflection mechanism: synthesizes memories into higher level inferences over time and guides the agent’s future behavior. They are higher-level summaries of past events (<- note that this is a bit different from self-reflection above)\\n\\nPrompt LM with 100 most recent observations and to generate 3 most salient high-level questions given a set of observations/statements. Then ask LM to answer those questions.\\n\\n\\nPlanning & Reacting: translate the reflections and the environment information into actions'), Document(id='b9944730-32e9-4b26-98c7-2edb1c208d97', metadata={'source': 'https://lilianweng.github.io/posts/2023-06-23-agent/', 'start_index': 29546}, page_content='Resources:\\n1. Internet access for searches and information gathering.\\n2. Long Term memory management.\\n3. GPT-3.5 powered Agents for delegation of simple tasks.\\n4. File output.\\n\\nPerformance Evaluation:\\n1. Continuously review and analyze your actions to ensure you are performing to the best of your abilities.\\n2. Constructively self-criticize your big-picture behavior constantly.\\n3. Reflect on past decisions and strategies to refine your approach.\\n4. Every command has a cost, so be smart and efficient. Aim to complete tasks in the least number of steps.')]\n",
            "\n",
            "\n",
            "Answer: Self-reflection plays a crucial role in real-world tasks by allowing autonomous agents to refine their decision-making through learning from past mistakes. It enhances the capacity for improvement via trial and error, contributing to more effective problem-solving. This iterative process helps agents adjust their strategies and actions, ultimately leading to better performance over time.\n"
          ]
        }
      ]
    },
    {
      "cell_type": "code",
      "source": [
        "for message, metadata in graph.stream(\n",
        "    {\"question\": \"What crucial role Self-Reflection plays in real-world tasks??\"}, stream_mode=\"messages\"\n",
        "):\n",
        "    print(message.content, end=\"|\")"
      ],
      "metadata": {
        "colab": {
          "base_uri": "https://localhost:8080/"
        },
        "id": "4ftgooi3h7yu",
        "outputId": "b45c9394-5a9e-42fc-cca7-5c67864d70e9"
      },
      "execution_count": 78,
      "outputs": [
        {
          "output_type": "stream",
          "name": "stdout",
          "text": [
            "|Self|-ref|lection| is| crucial| in| real|-world| tasks| as| it| allows| agents| to| iter|atively| improve| by| analyzing| past| decisions| and| correcting| errors|.| This| process| is| essential| for| navigating| trial| and| error| scenarios|,| ultimately| enhancing| future| performance|.| By| synthes|izing| experiences| and| guiding| future| actions|,| self|-ref|lection| helps| optimize| decision|-making|.||"
          ]
        }
      ]
    }
  ]
}