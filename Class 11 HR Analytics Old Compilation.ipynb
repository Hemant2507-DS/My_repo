{
 "cells": [
  {
   "cell_type": "code",
   "execution_count": 1,
   "id": "a7bfbe84",
   "metadata": {},
   "outputs": [],
   "source": [
    "import numpy as np\n",
    "import pandas as pd\n",
    "import matplotlib.pyplot as plt\n",
    "import seaborn as sns"
   ]
  },
  {
   "cell_type": "code",
   "execution_count": 2,
   "id": "318b183f",
   "metadata": {},
   "outputs": [
    {
     "data": {
      "text/html": [
       "<div>\n",
       "<style scoped>\n",
       "    .dataframe tbody tr th:only-of-type {\n",
       "        vertical-align: middle;\n",
       "    }\n",
       "\n",
       "    .dataframe tbody tr th {\n",
       "        vertical-align: top;\n",
       "    }\n",
       "\n",
       "    .dataframe thead th {\n",
       "        text-align: right;\n",
       "    }\n",
       "</style>\n",
       "<table border=\"1\" class=\"dataframe\">\n",
       "  <thead>\n",
       "    <tr style=\"text-align: right;\">\n",
       "      <th></th>\n",
       "      <th>satisfactoryLevel</th>\n",
       "      <th>lastEvaluation</th>\n",
       "      <th>numberOfProjects</th>\n",
       "      <th>avgMonthlyHours</th>\n",
       "      <th>timeSpent.company</th>\n",
       "      <th>workAccident</th>\n",
       "      <th>left</th>\n",
       "      <th>promotionInLast5years</th>\n",
       "      <th>dept</th>\n",
       "      <th>salary</th>\n",
       "    </tr>\n",
       "  </thead>\n",
       "  <tbody>\n",
       "    <tr>\n",
       "      <th>0</th>\n",
       "      <td>0.38</td>\n",
       "      <td>0.53</td>\n",
       "      <td>2</td>\n",
       "      <td>157</td>\n",
       "      <td>3</td>\n",
       "      <td>0</td>\n",
       "      <td>1</td>\n",
       "      <td>0</td>\n",
       "      <td>sales</td>\n",
       "      <td>low</td>\n",
       "    </tr>\n",
       "    <tr>\n",
       "      <th>1</th>\n",
       "      <td>0.80</td>\n",
       "      <td>0.86</td>\n",
       "      <td>5</td>\n",
       "      <td>262</td>\n",
       "      <td>6</td>\n",
       "      <td>0</td>\n",
       "      <td>1</td>\n",
       "      <td>0</td>\n",
       "      <td>sales</td>\n",
       "      <td>medium</td>\n",
       "    </tr>\n",
       "    <tr>\n",
       "      <th>2</th>\n",
       "      <td>0.11</td>\n",
       "      <td>0.88</td>\n",
       "      <td>7</td>\n",
       "      <td>272</td>\n",
       "      <td>4</td>\n",
       "      <td>0</td>\n",
       "      <td>1</td>\n",
       "      <td>0</td>\n",
       "      <td>sales</td>\n",
       "      <td>medium</td>\n",
       "    </tr>\n",
       "    <tr>\n",
       "      <th>3</th>\n",
       "      <td>0.37</td>\n",
       "      <td>0.52</td>\n",
       "      <td>2</td>\n",
       "      <td>159</td>\n",
       "      <td>3</td>\n",
       "      <td>0</td>\n",
       "      <td>1</td>\n",
       "      <td>0</td>\n",
       "      <td>sales</td>\n",
       "      <td>low</td>\n",
       "    </tr>\n",
       "    <tr>\n",
       "      <th>4</th>\n",
       "      <td>0.41</td>\n",
       "      <td>0.50</td>\n",
       "      <td>2</td>\n",
       "      <td>153</td>\n",
       "      <td>3</td>\n",
       "      <td>0</td>\n",
       "      <td>1</td>\n",
       "      <td>0</td>\n",
       "      <td>sales</td>\n",
       "      <td>low</td>\n",
       "    </tr>\n",
       "    <tr>\n",
       "      <th>...</th>\n",
       "      <td>...</td>\n",
       "      <td>...</td>\n",
       "      <td>...</td>\n",
       "      <td>...</td>\n",
       "      <td>...</td>\n",
       "      <td>...</td>\n",
       "      <td>...</td>\n",
       "      <td>...</td>\n",
       "      <td>...</td>\n",
       "      <td>...</td>\n",
       "    </tr>\n",
       "    <tr>\n",
       "      <th>14994</th>\n",
       "      <td>0.11</td>\n",
       "      <td>0.85</td>\n",
       "      <td>7</td>\n",
       "      <td>275</td>\n",
       "      <td>4</td>\n",
       "      <td>0</td>\n",
       "      <td>1</td>\n",
       "      <td>0</td>\n",
       "      <td>support</td>\n",
       "      <td>medium</td>\n",
       "    </tr>\n",
       "    <tr>\n",
       "      <th>14995</th>\n",
       "      <td>0.99</td>\n",
       "      <td>0.83</td>\n",
       "      <td>4</td>\n",
       "      <td>274</td>\n",
       "      <td>2</td>\n",
       "      <td>0</td>\n",
       "      <td>0</td>\n",
       "      <td>0</td>\n",
       "      <td>sales</td>\n",
       "      <td>low</td>\n",
       "    </tr>\n",
       "    <tr>\n",
       "      <th>14996</th>\n",
       "      <td>0.72</td>\n",
       "      <td>0.72</td>\n",
       "      <td>4</td>\n",
       "      <td>175</td>\n",
       "      <td>4</td>\n",
       "      <td>0</td>\n",
       "      <td>0</td>\n",
       "      <td>0</td>\n",
       "      <td>technical</td>\n",
       "      <td>low</td>\n",
       "    </tr>\n",
       "    <tr>\n",
       "      <th>14997</th>\n",
       "      <td>0.24</td>\n",
       "      <td>0.91</td>\n",
       "      <td>5</td>\n",
       "      <td>177</td>\n",
       "      <td>5</td>\n",
       "      <td>0</td>\n",
       "      <td>0</td>\n",
       "      <td>0</td>\n",
       "      <td>sales</td>\n",
       "      <td>low</td>\n",
       "    </tr>\n",
       "    <tr>\n",
       "      <th>14998</th>\n",
       "      <td>0.77</td>\n",
       "      <td>0.83</td>\n",
       "      <td>6</td>\n",
       "      <td>271</td>\n",
       "      <td>3</td>\n",
       "      <td>0</td>\n",
       "      <td>0</td>\n",
       "      <td>0</td>\n",
       "      <td>support</td>\n",
       "      <td>low</td>\n",
       "    </tr>\n",
       "  </tbody>\n",
       "</table>\n",
       "<p>14999 rows × 10 columns</p>\n",
       "</div>"
      ],
      "text/plain": [
       "       satisfactoryLevel  lastEvaluation  numberOfProjects  avgMonthlyHours  \\\n",
       "0                   0.38            0.53                 2              157   \n",
       "1                   0.80            0.86                 5              262   \n",
       "2                   0.11            0.88                 7              272   \n",
       "3                   0.37            0.52                 2              159   \n",
       "4                   0.41            0.50                 2              153   \n",
       "...                  ...             ...               ...              ...   \n",
       "14994               0.11            0.85                 7              275   \n",
       "14995               0.99            0.83                 4              274   \n",
       "14996               0.72            0.72                 4              175   \n",
       "14997               0.24            0.91                 5              177   \n",
       "14998               0.77            0.83                 6              271   \n",
       "\n",
       "       timeSpent.company  workAccident  left  promotionInLast5years  \\\n",
       "0                      3             0     1                      0   \n",
       "1                      6             0     1                      0   \n",
       "2                      4             0     1                      0   \n",
       "3                      3             0     1                      0   \n",
       "4                      3             0     1                      0   \n",
       "...                  ...           ...   ...                    ...   \n",
       "14994                  4             0     1                      0   \n",
       "14995                  2             0     0                      0   \n",
       "14996                  4             0     0                      0   \n",
       "14997                  5             0     0                      0   \n",
       "14998                  3             0     0                      0   \n",
       "\n",
       "            dept  salary  \n",
       "0          sales     low  \n",
       "1          sales  medium  \n",
       "2          sales  medium  \n",
       "3          sales     low  \n",
       "4          sales     low  \n",
       "...          ...     ...  \n",
       "14994    support  medium  \n",
       "14995      sales     low  \n",
       "14996  technical     low  \n",
       "14997      sales     low  \n",
       "14998    support     low  \n",
       "\n",
       "[14999 rows x 10 columns]"
      ]
     },
     "execution_count": 2,
     "metadata": {},
     "output_type": "execute_result"
    }
   ],
   "source": [
    "df = pd.read_csv('people.csv')\n",
    "df"
   ]
  },
  {
   "cell_type": "code",
   "execution_count": 4,
   "id": "5650b89e",
   "metadata": {},
   "outputs": [
    {
     "data": {
      "text/html": [
       "<div>\n",
       "<style scoped>\n",
       "    .dataframe tbody tr th:only-of-type {\n",
       "        vertical-align: middle;\n",
       "    }\n",
       "\n",
       "    .dataframe tbody tr th {\n",
       "        vertical-align: top;\n",
       "    }\n",
       "\n",
       "    .dataframe thead th {\n",
       "        text-align: right;\n",
       "    }\n",
       "</style>\n",
       "<table border=\"1\" class=\"dataframe\">\n",
       "  <thead>\n",
       "    <tr style=\"text-align: right;\">\n",
       "      <th></th>\n",
       "      <th>satisfactoryLevel</th>\n",
       "      <th>lastEvaluation</th>\n",
       "      <th>numberOfProjects</th>\n",
       "      <th>avgMonthlyHours</th>\n",
       "      <th>timeSpent.company</th>\n",
       "      <th>workAccident</th>\n",
       "      <th>left</th>\n",
       "      <th>promotionInLast5years</th>\n",
       "    </tr>\n",
       "  </thead>\n",
       "  <tbody>\n",
       "    <tr>\n",
       "      <th>count</th>\n",
       "      <td>14999.000000</td>\n",
       "      <td>14999.000000</td>\n",
       "      <td>14999.000000</td>\n",
       "      <td>14999.000000</td>\n",
       "      <td>14999.000000</td>\n",
       "      <td>14999.000000</td>\n",
       "      <td>14999.000000</td>\n",
       "      <td>14999.000000</td>\n",
       "    </tr>\n",
       "    <tr>\n",
       "      <th>mean</th>\n",
       "      <td>0.612834</td>\n",
       "      <td>0.716102</td>\n",
       "      <td>3.803054</td>\n",
       "      <td>201.050337</td>\n",
       "      <td>3.498233</td>\n",
       "      <td>0.144610</td>\n",
       "      <td>0.238083</td>\n",
       "      <td>0.021268</td>\n",
       "    </tr>\n",
       "    <tr>\n",
       "      <th>std</th>\n",
       "      <td>0.248631</td>\n",
       "      <td>0.171169</td>\n",
       "      <td>1.232592</td>\n",
       "      <td>49.943099</td>\n",
       "      <td>1.460136</td>\n",
       "      <td>0.351719</td>\n",
       "      <td>0.425924</td>\n",
       "      <td>0.144281</td>\n",
       "    </tr>\n",
       "    <tr>\n",
       "      <th>min</th>\n",
       "      <td>0.090000</td>\n",
       "      <td>0.360000</td>\n",
       "      <td>2.000000</td>\n",
       "      <td>96.000000</td>\n",
       "      <td>2.000000</td>\n",
       "      <td>0.000000</td>\n",
       "      <td>0.000000</td>\n",
       "      <td>0.000000</td>\n",
       "    </tr>\n",
       "    <tr>\n",
       "      <th>25%</th>\n",
       "      <td>0.440000</td>\n",
       "      <td>0.560000</td>\n",
       "      <td>3.000000</td>\n",
       "      <td>156.000000</td>\n",
       "      <td>3.000000</td>\n",
       "      <td>0.000000</td>\n",
       "      <td>0.000000</td>\n",
       "      <td>0.000000</td>\n",
       "    </tr>\n",
       "    <tr>\n",
       "      <th>50%</th>\n",
       "      <td>0.640000</td>\n",
       "      <td>0.720000</td>\n",
       "      <td>4.000000</td>\n",
       "      <td>200.000000</td>\n",
       "      <td>3.000000</td>\n",
       "      <td>0.000000</td>\n",
       "      <td>0.000000</td>\n",
       "      <td>0.000000</td>\n",
       "    </tr>\n",
       "    <tr>\n",
       "      <th>75%</th>\n",
       "      <td>0.820000</td>\n",
       "      <td>0.870000</td>\n",
       "      <td>5.000000</td>\n",
       "      <td>245.000000</td>\n",
       "      <td>4.000000</td>\n",
       "      <td>0.000000</td>\n",
       "      <td>0.000000</td>\n",
       "      <td>0.000000</td>\n",
       "    </tr>\n",
       "    <tr>\n",
       "      <th>max</th>\n",
       "      <td>1.000000</td>\n",
       "      <td>1.000000</td>\n",
       "      <td>7.000000</td>\n",
       "      <td>310.000000</td>\n",
       "      <td>10.000000</td>\n",
       "      <td>1.000000</td>\n",
       "      <td>1.000000</td>\n",
       "      <td>1.000000</td>\n",
       "    </tr>\n",
       "  </tbody>\n",
       "</table>\n",
       "</div>"
      ],
      "text/plain": [
       "       satisfactoryLevel  lastEvaluation  numberOfProjects  avgMonthlyHours  \\\n",
       "count       14999.000000    14999.000000      14999.000000     14999.000000   \n",
       "mean            0.612834        0.716102          3.803054       201.050337   \n",
       "std             0.248631        0.171169          1.232592        49.943099   \n",
       "min             0.090000        0.360000          2.000000        96.000000   \n",
       "25%             0.440000        0.560000          3.000000       156.000000   \n",
       "50%             0.640000        0.720000          4.000000       200.000000   \n",
       "75%             0.820000        0.870000          5.000000       245.000000   \n",
       "max             1.000000        1.000000          7.000000       310.000000   \n",
       "\n",
       "       timeSpent.company  workAccident          left  promotionInLast5years  \n",
       "count       14999.000000  14999.000000  14999.000000           14999.000000  \n",
       "mean            3.498233      0.144610      0.238083               0.021268  \n",
       "std             1.460136      0.351719      0.425924               0.144281  \n",
       "min             2.000000      0.000000      0.000000               0.000000  \n",
       "25%             3.000000      0.000000      0.000000               0.000000  \n",
       "50%             3.000000      0.000000      0.000000               0.000000  \n",
       "75%             4.000000      0.000000      0.000000               0.000000  \n",
       "max            10.000000      1.000000      1.000000               1.000000  "
      ]
     },
     "execution_count": 4,
     "metadata": {},
     "output_type": "execute_result"
    }
   ],
   "source": [
    "df.describe()\n",
    "# #generating descriptive statistics about your DataFrame (DF) or a quick overview. \n",
    "# It provides a summary of the central tendency, dispersion, and shape of the distribution of your numerical data.\n",
    "\n",
    "# Here's a breakdown:\n",
    "\n",
    "# Central Tendency: It calculates measures like the mean, median (50% percentile), and sometimes mode (most frequent value) \n",
    "# to give you an idea of the \"center\" of your data.\n",
    "\n",
    "# Dispersion: It calculates measures like standard deviation and quartiles (25%, 50%, 75% percentiles) \n",
    "# to tell you how spread out your data is.\n",
    "\n",
    "# Shape: It can give you an idea of the distribution's skewness (asymmetry) and kurtosis (tailedness)."
   ]
  },
  {
   "cell_type": "code",
   "execution_count": 7,
   "id": "1afda3b0",
   "metadata": {},
   "outputs": [
    {
     "data": {
      "text/html": [
       "<div>\n",
       "<style scoped>\n",
       "    .dataframe tbody tr th:only-of-type {\n",
       "        vertical-align: middle;\n",
       "    }\n",
       "\n",
       "    .dataframe tbody tr th {\n",
       "        vertical-align: top;\n",
       "    }\n",
       "\n",
       "    .dataframe thead th {\n",
       "        text-align: right;\n",
       "    }\n",
       "</style>\n",
       "<table border=\"1\" class=\"dataframe\">\n",
       "  <thead>\n",
       "    <tr style=\"text-align: right;\">\n",
       "      <th></th>\n",
       "      <th>dept</th>\n",
       "      <th>salary</th>\n",
       "    </tr>\n",
       "  </thead>\n",
       "  <tbody>\n",
       "    <tr>\n",
       "      <th>count</th>\n",
       "      <td>14999</td>\n",
       "      <td>14999</td>\n",
       "    </tr>\n",
       "    <tr>\n",
       "      <th>unique</th>\n",
       "      <td>10</td>\n",
       "      <td>3</td>\n",
       "    </tr>\n",
       "    <tr>\n",
       "      <th>top</th>\n",
       "      <td>sales</td>\n",
       "      <td>low</td>\n",
       "    </tr>\n",
       "    <tr>\n",
       "      <th>freq</th>\n",
       "      <td>4140</td>\n",
       "      <td>7316</td>\n",
       "    </tr>\n",
       "  </tbody>\n",
       "</table>\n",
       "</div>"
      ],
      "text/plain": [
       "         dept salary\n",
       "count   14999  14999\n",
       "unique     10      3\n",
       "top     sales    low\n",
       "freq     4140   7316"
      ]
     },
     "execution_count": 7,
     "metadata": {},
     "output_type": "execute_result"
    }
   ],
   "source": [
    "# To check how many columns are there in the data that have their datatype as 'Object'\n",
    "# use\n",
    "df.describe(include = 'O')\n",
    "# Alternatively, you can also use df.info"
   ]
  },
  {
   "cell_type": "code",
   "execution_count": 8,
   "id": "38c93953",
   "metadata": {},
   "outputs": [
    {
     "data": {
      "text/html": [
       "<div>\n",
       "<style scoped>\n",
       "    .dataframe tbody tr th:only-of-type {\n",
       "        vertical-align: middle;\n",
       "    }\n",
       "\n",
       "    .dataframe tbody tr th {\n",
       "        vertical-align: top;\n",
       "    }\n",
       "\n",
       "    .dataframe thead th {\n",
       "        text-align: right;\n",
       "    }\n",
       "</style>\n",
       "<table border=\"1\" class=\"dataframe\">\n",
       "  <thead>\n",
       "    <tr style=\"text-align: right;\">\n",
       "      <th></th>\n",
       "      <th>dept</th>\n",
       "      <th>salary</th>\n",
       "    </tr>\n",
       "  </thead>\n",
       "  <tbody>\n",
       "    <tr>\n",
       "      <th>0</th>\n",
       "      <td>sales</td>\n",
       "      <td>low</td>\n",
       "    </tr>\n",
       "    <tr>\n",
       "      <th>1</th>\n",
       "      <td>sales</td>\n",
       "      <td>medium</td>\n",
       "    </tr>\n",
       "    <tr>\n",
       "      <th>2</th>\n",
       "      <td>sales</td>\n",
       "      <td>medium</td>\n",
       "    </tr>\n",
       "    <tr>\n",
       "      <th>3</th>\n",
       "      <td>sales</td>\n",
       "      <td>low</td>\n",
       "    </tr>\n",
       "    <tr>\n",
       "      <th>4</th>\n",
       "      <td>sales</td>\n",
       "      <td>low</td>\n",
       "    </tr>\n",
       "    <tr>\n",
       "      <th>...</th>\n",
       "      <td>...</td>\n",
       "      <td>...</td>\n",
       "    </tr>\n",
       "    <tr>\n",
       "      <th>14994</th>\n",
       "      <td>support</td>\n",
       "      <td>medium</td>\n",
       "    </tr>\n",
       "    <tr>\n",
       "      <th>14995</th>\n",
       "      <td>sales</td>\n",
       "      <td>low</td>\n",
       "    </tr>\n",
       "    <tr>\n",
       "      <th>14996</th>\n",
       "      <td>technical</td>\n",
       "      <td>low</td>\n",
       "    </tr>\n",
       "    <tr>\n",
       "      <th>14997</th>\n",
       "      <td>sales</td>\n",
       "      <td>low</td>\n",
       "    </tr>\n",
       "    <tr>\n",
       "      <th>14998</th>\n",
       "      <td>support</td>\n",
       "      <td>low</td>\n",
       "    </tr>\n",
       "  </tbody>\n",
       "</table>\n",
       "<p>14999 rows × 2 columns</p>\n",
       "</div>"
      ],
      "text/plain": [
       "            dept  salary\n",
       "0          sales     low\n",
       "1          sales  medium\n",
       "2          sales  medium\n",
       "3          sales     low\n",
       "4          sales     low\n",
       "...          ...     ...\n",
       "14994    support  medium\n",
       "14995      sales     low\n",
       "14996  technical     low\n",
       "14997      sales     low\n",
       "14998    support     low\n",
       "\n",
       "[14999 rows x 2 columns]"
      ]
     },
     "execution_count": 8,
     "metadata": {},
     "output_type": "execute_result"
    }
   ],
   "source": [
    "df.select_dtypes(include = 'object')\n",
    "# This function is mainly used to plot a correlation map as correlation map can be plotted for columns that have their datatype\n",
    "# as 'float' or 'int'. df.select_types(include = ['int', 'float'])"
   ]
  },
  {
   "cell_type": "code",
   "execution_count": null,
   "id": "a70696a6",
   "metadata": {},
   "outputs": [],
   "source": [
    "# To check how many different values are present in a given column, you can use the 'Unique' function.\n",
    "# example if in a Department there are different groups like 'Admin', 'Sales','Finance' you can get them using the Unique fun.\n",
    "# 'Count' and 'Sum' perform the same function as 'Unique'."
   ]
  },
  {
   "cell_type": "code",
   "execution_count": 9,
   "id": "28718c5f",
   "metadata": {},
   "outputs": [
    {
     "data": {
      "text/plain": [
       "satisfactoryLevel        0\n",
       "lastEvaluation           0\n",
       "numberOfProjects         0\n",
       "avgMonthlyHours          0\n",
       "timeSpent.company        0\n",
       "workAccident             0\n",
       "left                     0\n",
       "promotionInLast5years    0\n",
       "dept                     0\n",
       "salary                   0\n",
       "dtype: int64"
      ]
     },
     "execution_count": 9,
     "metadata": {},
     "output_type": "execute_result"
    }
   ],
   "source": [
    "df.isnull().sum()"
   ]
  },
  {
   "cell_type": "code",
   "execution_count": null,
   "id": "7934cd32",
   "metadata": {},
   "outputs": [],
   "source": [
    "# Filling Null Values:\n",
    "# Use 'Mode' for 'Object' datatype (mode = max repetiting value, eg -> Sales)\n",
    "# Use 'Mean' or 'Median' for 'float' or 'Int' datatype\n",
    "\n",
    "# df['dept'].fillna('abc', inplace=True)\n",
    "# df['dept'] = df['dept' ]. fillna('abc')\n",
    "# Whenever a function is performed on a table or a DataFrame, SQL and Pandas create a 'Table' and 'View'\n",
    "# 'View' does not make changes to the original DataFrame. To do so, we use 'inplace = True'\n",
    "\n",
    "# Numerical Column\n",
    "# df['satisfactoryLevel'] = df[satisfactoryLevel].fillna(df[satisfactoryLevel].mean())\n",
    " # df[satisfactoryLevel].fillna(df[satisfactoryLevel].mean(), inplace = true)\n",
    "\n",
    "#Object Column\n",
    "# df['dept'] = df['dept'].fillna(df['dept'].mode()[0])\n",
    "# df['dept'].fillna(df['dept'].mode()[0], inplace = True)\n"
   ]
  },
  {
   "cell_type": "code",
   "execution_count": 12,
   "id": "ebc02d86",
   "metadata": {},
   "outputs": [
    {
     "data": {
      "text/plain": [
       "3008"
      ]
     },
     "execution_count": 12,
     "metadata": {},
     "output_type": "execute_result"
    }
   ],
   "source": [
    "df.duplicated().sum()\n"
   ]
  },
  {
   "cell_type": "code",
   "execution_count": 15,
   "id": "62fbedb7",
   "metadata": {},
   "outputs": [],
   "source": [
    "# Dropping the duplicates\n",
    "df.drop_duplicates(inplace = True)"
   ]
  },
  {
   "cell_type": "code",
   "execution_count": 17,
   "id": "46c4540e",
   "metadata": {},
   "outputs": [
    {
     "data": {
      "text/plain": [
       "0"
      ]
     },
     "execution_count": 17,
     "metadata": {},
     "output_type": "execute_result"
    }
   ],
   "source": [
    "df.duplicated().sum()"
   ]
  },
  {
   "cell_type": "markdown",
   "id": "8e2e022c",
   "metadata": {},
   "source": [
    "### Determine the threshold number of projects for each employee at which they consider leaving the company."
   ]
  },
  {
   "cell_type": "code",
   "execution_count": null,
   "id": "2e9d7a4e",
   "metadata": {},
   "outputs": [],
   "source": [
    "# Note: Whenever you have to determine the threshold count you can use the 'Count plot' in SNS."
   ]
  },
  {
   "cell_type": "code",
   "execution_count": 19,
   "id": "a7d08889",
   "metadata": {},
   "outputs": [
    {
     "data": {
      "image/png": "[encoded data removed]",
      "text/plain": [
       "<Figure size 640x480 with 1 Axes>"
      ]
     },
     "metadata": {},
     "output_type": "display_data"
    }
   ],
   "source": [
    "sns.countplot(x = 'numberOfProjects', data = df, hue = 'left')\n",
    "plt.show()"
   ]
  },
  {
   "cell_type": "markdown",
   "id": "27574274",
   "metadata": {},
   "source": [
    "### Q2. Identify the time period after which employees express a desire to leave the company."
   ]
  },
  {
   "cell_type": "code",
   "execution_count": 24,
   "id": "41b488c7",
   "metadata": {},
   "outputs": [
    {
     "data": {
      "image/png": "[encoded data removed]",
      "text/plain": [
       "<Figure size 640x480 with 1 Axes>"
      ]
     },
     "metadata": {},
     "output_type": "display_data"
    }
   ],
   "source": [
    "# ideally, a graph can cover 2 factors 'x' and 'y'. So to include a thiird category, we can use the 'hue' parameter.\n",
    "sns.set_theme(style = 'dark')\n",
    "sns.countplot(x = 'timeSpent.company', hue = 'left', data = df)\n",
    "plt.show()"
   ]
  },
  {
   "cell_type": "code",
   "execution_count": 28,
   "id": "f2dbbc47",
   "metadata": {},
   "outputs": [
    {
     "data": {
      "image/png": "[encoded data removed]",
      "text/plain": [
       "<Figure size 640x480 with 1 Axes>"
      ]
     },
     "metadata": {},
     "output_type": "display_data"
    }
   ],
   "source": [
    "# Checking the salary range (High, Medium, Low) employees are getting, considering the time spent in the company\n",
    "sns.set_theme(style = 'dark')\n",
    "sns.countplot(x = 'timeSpent.company', data = df, hue = 'salary')\n",
    "plt.show()"
   ]
  },
  {
   "cell_type": "markdown",
   "id": "ba0f5da5",
   "metadata": {},
   "source": [
    "### Q3. Identify the salary range after which employees express a desire to leave the company."
   ]
  },
  {
   "cell_type": "code",
   "execution_count": 25,
   "id": "7ce65041",
   "metadata": {},
   "outputs": [
    {
     "data": {
      "image/png": "[encoded data removed]",
      "text/plain": [
       "<Figure size 640x480 with 1 Axes>"
      ]
     },
     "metadata": {},
     "output_type": "display_data"
    }
   ],
   "source": [
    "sns.set_theme(style = 'dark')\n",
    "sns.countplot(x = 'salary', data = df, hue = 'left')\n",
    "plt.show()"
   ]
  },
  {
   "cell_type": "markdown",
   "id": "6d8c3eff",
   "metadata": {},
   "source": [
    "### Q4. Investigate whether work-related accidents influence employees' decisions to leave the company."
   ]
  },
  {
   "cell_type": "code",
   "execution_count": 29,
   "id": "0c81ee17",
   "metadata": {},
   "outputs": [
    {
     "data": {
      "image/png": "[encoded data removed]",
      "text/plain": [
       "<Figure size 640x480 with 1 Axes>"
      ]
     },
     "metadata": {},
     "output_type": "display_data"
    }
   ],
   "source": [
    "sns.set_theme()\n",
    "sns.countplot(x = 'workAccident', data = df, hue = 'left')\n",
    "plt.show()\n",
    "\n",
    "# 0 means the company is not covering 'work-accident', still the number of employees leaving is less in comparison to the \n",
    "# situation where company is covering work-accident. Then, the number of people not-leaving is less."
   ]
  },
  {
   "cell_type": "code",
   "execution_count": 45,
   "id": "880e2319",
   "metadata": {},
   "outputs": [
    {
     "data": {
      "text/html": [
       "<div>\n",
       "<style scoped>\n",
       "    .dataframe tbody tr th:only-of-type {\n",
       "        vertical-align: middle;\n",
       "    }\n",
       "\n",
       "    .dataframe tbody tr th {\n",
       "        vertical-align: top;\n",
       "    }\n",
       "\n",
       "    .dataframe thead th {\n",
       "        text-align: right;\n",
       "    }\n",
       "</style>\n",
       "<table border=\"1\" class=\"dataframe\">\n",
       "  <thead>\n",
       "    <tr style=\"text-align: right;\">\n",
       "      <th></th>\n",
       "      <th>workAccident</th>\n",
       "      <th>count</th>\n",
       "    </tr>\n",
       "  </thead>\n",
       "  <tbody>\n",
       "    <tr>\n",
       "      <th>0</th>\n",
       "      <td>0</td>\n",
       "      <td>10141</td>\n",
       "    </tr>\n",
       "    <tr>\n",
       "      <th>1</th>\n",
       "      <td>1</td>\n",
       "      <td>1850</td>\n",
       "    </tr>\n",
       "  </tbody>\n",
       "</table>\n",
       "</div>"
      ],
      "text/plain": [
       "   workAccident  count\n",
       "0             0  10141\n",
       "1             1   1850"
      ]
     },
     "execution_count": 45,
     "metadata": {},
     "output_type": "execute_result"
    }
   ],
   "source": [
    "# Plotting the same graph using a barplot\n",
    "\n",
    "df.groupby('workAccident').size().reset_index(name = 'count')\n",
    "# When you use 'Groupby' function and pass a columnname under it, the function will try to find all the unique values inside it.\n",
    "# The 'Work Accident' column has only 2 unique values as shown below:\n",
    "# 0--> 'coverage not provided count', \n",
    "# 1--> 'coverage provided count'\n",
    "# When the above operation is performed, the DataFrame will treat 'Unique Values' of '0' and '1' as index. This needs to be reset."
   ]
  },
  {
   "cell_type": "code",
   "execution_count": 46,
   "id": "62fe9352",
   "metadata": {},
   "outputs": [
    {
     "data": {
      "text/html": [
       "<div>\n",
       "<style scoped>\n",
       "    .dataframe tbody tr th:only-of-type {\n",
       "        vertical-align: middle;\n",
       "    }\n",
       "\n",
       "    .dataframe tbody tr th {\n",
       "        vertical-align: top;\n",
       "    }\n",
       "\n",
       "    .dataframe thead th {\n",
       "        text-align: right;\n",
       "    }\n",
       "</style>\n",
       "<table border=\"1\" class=\"dataframe\">\n",
       "  <thead>\n",
       "    <tr style=\"text-align: right;\">\n",
       "      <th></th>\n",
       "      <th>workAccident</th>\n",
       "      <th>count</th>\n",
       "    </tr>\n",
       "  </thead>\n",
       "  <tbody>\n",
       "    <tr>\n",
       "      <th>0</th>\n",
       "      <td>0</td>\n",
       "      <td>10141</td>\n",
       "    </tr>\n",
       "    <tr>\n",
       "      <th>1</th>\n",
       "      <td>1</td>\n",
       "      <td>1850</td>\n",
       "    </tr>\n",
       "  </tbody>\n",
       "</table>\n",
       "</div>"
      ],
      "text/plain": [
       "   workAccident  count\n",
       "0             0  10141\n",
       "1             1   1850"
      ]
     },
     "execution_count": 46,
     "metadata": {},
     "output_type": "execute_result"
    }
   ],
   "source": [
    "# Create a new DataFrame to store the values and plot a bar plot\n",
    "df_new = df.groupby('workAccident').size().reset_index(name = 'count')\n",
    "df_new\n"
   ]
  },
  {
   "cell_type": "code",
   "execution_count": 56,
   "id": "4ec84469",
   "metadata": {},
   "outputs": [
    {
     "data": {
      "image/png": "[encoded data removed]",
      "text/plain": [
       "<Figure size 600x400 with 1 Axes>"
      ]
     },
     "metadata": {},
     "output_type": "display_data"
    }
   ],
   "source": [
    "# Plotting the barplot\n",
    "plt.figure(figsize = (6,4))\n",
    "plt.bar,(df_new['workAccident'], df_new['count'])\n",
    "plt.xlabel('Work_Accident')\n",
    "plt.ylabel('Count')\n",
    "plt.title('AttritionRate for WorkAccident')\n",
    "plt.show()"
   ]
  },
  {
   "cell_type": "markdown",
   "id": "2595a4f7",
   "metadata": {},
   "source": [
    "### Q5. 5. Assess the number of employees who receive promotions within five years and subsequently leave the company.\n"
   ]
  },
  {
   "cell_type": "code",
   "execution_count": 57,
   "id": "51811cea",
   "metadata": {},
   "outputs": [
    {
     "data": {
      "image/png": "[encoded data removed]",
      "text/plain": [
       "<Figure size 640x480 with 1 Axes>"
      ]
     },
     "metadata": {},
     "output_type": "display_data"
    }
   ],
   "source": [
    "sns.set_theme(style = 'dark')\n",
    "sns.countplot(x = 'promotionInLast5years', data = df, hue = 'left')\n",
    "plt.show()"
   ]
  },
  {
   "cell_type": "code",
   "execution_count": null,
   "id": "4d618a52",
   "metadata": {},
   "outputs": [],
   "source": [
    "# Employees that have been promoted in last 5 years are less likely to leave than employees who haven't got promotion."
   ]
  },
  {
   "cell_type": "markdown",
   "id": "5d178ef0",
   "metadata": {},
   "source": [
    "### Q6. Analyze the departments from which employees are departing.\n"
   ]
  },
  {
   "cell_type": "code",
   "execution_count": 40,
   "id": "245e616a",
   "metadata": {},
   "outputs": [
    {
     "data": {
      "image/png": "[encoded data removed]",
      "text/plain": [
       "<Figure size 1000x600 with 1 Axes>"
      ]
     },
     "metadata": {},
     "output_type": "display_data"
    }
   ],
   "source": [
    "plt.figure(figsize = (10,6))\n",
    "sns.set_theme(style = 'dark')\n",
    "sns.countplot(x = 'dept', data = df, hue='left')\n",
    "plt.xticks(rotation = 45)\n",
    "plt.show()"
   ]
  },
  {
   "cell_type": "code",
   "execution_count": null,
   "id": "47ec500c",
   "metadata": {},
   "outputs": [],
   "source": [
    "# Sales is the department from which most emplouyees are departing"
   ]
  },
  {
   "cell_type": "markdown",
   "id": "9ec8fb7e",
   "metadata": {},
   "source": [
    "### Q7. Examine the correlation between salary levels and employee attrition."
   ]
  },
  {
   "cell_type": "code",
   "execution_count": 43,
   "id": "878d2011",
   "metadata": {},
   "outputs": [],
   "source": [
    "# df.select_dtypes(include=['float', 'int'])"
   ]
  },
  {
   "cell_type": "code",
   "execution_count": 44,
   "id": "55d7b6c2",
   "metadata": {},
   "outputs": [
    {
     "data": {
      "image/png": "[encoded data removed]",
      "text/plain": [
       "<Figure size 640x480 with 1 Axes>"
      ]
     },
     "metadata": {},
     "output_type": "display_data"
    }
   ],
   "source": [
    "sns.set_theme(style = 'dark')\n",
    "sns.countplot(x = 'salary', data = df, hue = 'left')\n",
    "plt.show()"
   ]
  },
  {
   "cell_type": "code",
   "execution_count": null,
   "id": "5df4ea8e",
   "metadata": {},
   "outputs": [],
   "source": []
  }
 ],
 "metadata": {
  "kernelspec": {
   "display_name": "Python 3 (ipykernel)",
   "language": "python",
   "name": "python3"
  },
  "language_info": {
   "codemirror_mode": {
    "name": "ipython",
    "version": 3
   },
   "file_extension": ".py",
   "mimetype": "text/x-python",
   "name": "python",
   "nbconvert_exporter": "python",
   "pygments_lexer": "ipython3",
   "version": "3.11.5"
  }
 },
 "nbformat": 4,
 "nbformat_minor": 5
}
