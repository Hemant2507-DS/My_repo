{
 "cells": [
  {
   "cell_type": "code",
   "execution_count": 1,
   "id": "ce38b5c1-2544-4639-82da-9a97f7361010",
   "metadata": {},
   "outputs": [],
   "source": [
    "import numpy as np\n",
    "import pandas as pd\n",
    "import matplotlib.pyplot as plt\n",
    "import seaborn as sns"
   ]
  },
  {
   "cell_type": "code",
   "execution_count": 2,
   "id": "216cd6a9-8e02-477b-9fc7-6f588b67a43a",
   "metadata": {},
   "outputs": [],
   "source": [
    "from tensorflow.keras.datasets.mnist import load_data"
   ]
  },
  {
   "cell_type": "code",
   "execution_count": 3,
   "id": "5e724313-aa6f-4fc9-a54d-5368492ed8c4",
   "metadata": {},
   "outputs": [],
   "source": [
    "(x_train, y_train), (x_test, y_test) = load_data()"
   ]
  },
  {
   "cell_type": "code",
   "execution_count": 4,
   "id": "74973964-24b5-4fbd-bcc1-4febe5e3b983",
   "metadata": {},
   "outputs": [
    {
     "name": "stdout",
     "output_type": "stream",
     "text": [
      "(60000, 28, 28)\n",
      "(10000, 28, 28)\n",
      "(60000,)\n",
      "(10000,)\n"
     ]
    }
   ],
   "source": [
    "print(x_train.shape)\n",
    "print(x_test.shape)\n",
    "print(y_train.shape)\n",
    "print(y_test.shape)"
   ]
  },
  {
   "cell_type": "code",
   "execution_count": 5,
   "id": "8542f2fd-b681-4f1a-9c3f-719602a9eb0b",
   "metadata": {},
   "outputs": [
    {
     "data": {
      "image/png": "[encoded data removed]",
      "text/plain": [
       "<Figure size 640x480 with 1 Axes>"
      ]
     },
     "metadata": {},
     "output_type": "display_data"
    },
    {
     "data": {
      "image/png": "[encoded data removed]",
      "text/plain": [
       "<Figure size 640x480 with 1 Axes>"
      ]
     },
     "metadata": {},
     "output_type": "display_data"
    },
    {
     "data": {
      "image/png": "[encoded data removed]",
      "text/plain": [
       "<Figure size 640x480 with 1 Axes>"
      ]
     },
     "metadata": {},
     "output_type": "display_data"
    }
   ],
   "source": [
    "for i in range(3):                        # loops over the first 3 images in the dataset.\n",
    "    plt.imshow(x_train[i], cmap = 'gray') # the image at index i in the training set.\n",
    "    plt.title(y_train[i])                 # Sets the title corresponding to the image.\n",
    "    plt.show()"
   ]
  },
  {
   "cell_type": "markdown",
   "id": "0a6afcc3-6590-48a1-9baf-99d3db91e43a",
   "metadata": {},
   "source": [
    "The train dataset is present in (60000, 28, 28) shape. This has to be converted into unidirection format to pass it into a Neural \n",
    "Network"
   ]
  },
  {
   "cell_type": "code",
   "execution_count": 6,
   "id": "eb148d73-eab8-4561-8395-2d7ed2a37a26",
   "metadata": {},
   "outputs": [
    {
     "data": {
      "text/plain": [
       "(60000, 28, 28)"
      ]
     },
     "execution_count": 6,
     "metadata": {},
     "output_type": "execute_result"
    }
   ],
   "source": [
    "x_train.shape"
   ]
  },
  {
   "cell_type": "code",
   "execution_count": 7,
   "id": "9b5302bd-cbc1-4bca-becb-4dd167e0400a",
   "metadata": {},
   "outputs": [],
   "source": [
    "x_train = x_train.reshape(-1,784) # basic feedforward neural networks (Dense layers in Keras/TensorFlow) require \n",
    "                                  # input as flat vectors, not matrices."
   ]
  },
  {
   "cell_type": "code",
   "execution_count": 8,
   "id": "f35d0a7e-d964-4f35-a691-df142a716db1",
   "metadata": {
    "scrolled": true
   },
   "outputs": [
    {
     "data": {
      "text/plain": [
       "array([[0, 0, 0, ..., 0, 0, 0],\n",
       "       [0, 0, 0, ..., 0, 0, 0],\n",
       "       [0, 0, 0, ..., 0, 0, 0],\n",
       "       ...,\n",
       "       [0, 0, 0, ..., 0, 0, 0],\n",
       "       [0, 0, 0, ..., 0, 0, 0],\n",
       "       [0, 0, 0, ..., 0, 0, 0]], dtype=uint8)"
      ]
     },
     "execution_count": 8,
     "metadata": {},
     "output_type": "execute_result"
    }
   ],
   "source": [
    "x_train"
   ]
  },
  {
   "cell_type": "code",
   "execution_count": 9,
   "id": "2b2205e1-2262-4fbf-8e97-40d39830c031",
   "metadata": {},
   "outputs": [],
   "source": [
    "x_test = x_test.reshape(-1,784)"
   ]
  },
  {
   "cell_type": "code",
   "execution_count": 10,
   "id": "332cd3da-e692-4378-96d7-288175439f07",
   "metadata": {},
   "outputs": [
    {
     "data": {
      "text/plain": [
       "array([[0, 0, 0, ..., 0, 0, 0],\n",
       "       [0, 0, 0, ..., 0, 0, 0],\n",
       "       [0, 0, 0, ..., 0, 0, 0],\n",
       "       ...,\n",
       "       [0, 0, 0, ..., 0, 0, 0],\n",
       "       [0, 0, 0, ..., 0, 0, 0],\n",
       "       [0, 0, 0, ..., 0, 0, 0]], dtype=uint8)"
      ]
     },
     "execution_count": 10,
     "metadata": {},
     "output_type": "execute_result"
    }
   ],
   "source": [
    "x_test"
   ]
  },
  {
   "cell_type": "code",
   "execution_count": 11,
   "id": "45ba2b2c-90f7-4052-a661-b78130a87516",
   "metadata": {},
   "outputs": [
    {
     "name": "stdout",
     "output_type": "stream",
     "text": [
      "(60000, 784)\n",
      "(10000, 784)\n",
      "(60000,)\n",
      "(10000,)\n"
     ]
    }
   ],
   "source": [
    "print(x_train.shape)\n",
    "print(x_test.shape)\n",
    "print(y_train.shape)\n",
    "print(y_test.shape)"
   ]
  },
  {
   "cell_type": "code",
   "execution_count": 12,
   "id": "8144c320-1ebc-4a14-be53-c76b5f457894",
   "metadata": {},
   "outputs": [],
   "source": [
    "from tensorflow.keras.utils import to_categorical # performs one-hot encoding for the categorical values"
   ]
  },
  {
   "cell_type": "code",
   "execution_count": 13,
   "id": "70d0e886-a1d4-4e97-b561-7c85bdb98501",
   "metadata": {},
   "outputs": [
    {
     "data": {
      "text/plain": [
       "array([[0., 0., 0., ..., 0., 0., 0.],\n",
       "       [1., 0., 0., ..., 0., 0., 0.],\n",
       "       [0., 0., 0., ..., 0., 0., 0.],\n",
       "       ...,\n",
       "       [0., 0., 0., ..., 0., 0., 0.],\n",
       "       [0., 0., 0., ..., 0., 0., 0.],\n",
       "       [0., 0., 0., ..., 0., 1., 0.]], dtype=float32)"
      ]
     },
     "execution_count": 13,
     "metadata": {},
     "output_type": "execute_result"
    }
   ],
   "source": [
    "to_categorical(y_train)"
   ]
  },
  {
   "cell_type": "code",
   "execution_count": 14,
   "id": "d5722b4c-f2d0-4693-9374-b631c7b34e41",
   "metadata": {},
   "outputs": [
    {
     "data": {
      "text/plain": [
       "(60000, 10)"
      ]
     },
     "execution_count": 14,
     "metadata": {},
     "output_type": "execute_result"
    }
   ],
   "source": [
    "to_categorical(y_train).shape"
   ]
  },
  {
   "cell_type": "code",
   "execution_count": 15,
   "id": "9256e12e-bc9b-463a-ad7b-fae7c97bcef5",
   "metadata": {},
   "outputs": [],
   "source": [
    "x_train = x_train.reshape(-1,784) # divide by 255 to scale it\n",
    "x_test = x_test.reshape(-1,784)  # # divide by 255 to scale it\n",
    "y_train_ohe = to_categorical(y_train) # Not changing since it is ohe representation\n",
    "y_test_ohe = to_categorical(y_test)"
   ]
  },
  {
   "cell_type": "code",
   "execution_count": 17,
   "id": "d028d16c-ec9d-492b-a445-251bbbd738fd",
   "metadata": {},
   "outputs": [],
   "source": [
    "from tensorflow.keras.models import Sequential\n",
    "from tensorflow.keras.layers import Input\n",
    "from tensorflow.keras.layers import Dense\n",
    "from tensorflow.keras.optimizers import Adam, Adagrad\n",
    "from tensorflow.keras.layers import Dropout\n",
    "from tensorflow.keras.regularizers import L1L2\n",
    "from tensorflow.keras.layers import BatchNormalization"
   ]
  },
  {
   "cell_type": "code",
   "execution_count": 18,
   "id": "6390e4a1-ea73-47fe-acc1-f94ad42de4d8",
   "metadata": {},
   "outputs": [],
   "source": [
    "model = Sequential()\n",
    "model.add(Input(shape=(784,)))\n",
    "# model.add(Dropout(0.1))\n",
    "# model.add((Dense(units = 20, activation = 'relu')) use this for scaled values of x without regularizers\n",
    "# model.add(BatchNormalization())\n",
    "model.add(Dense(units = 20, activation = 'relu', kernel_regularizer = L1L2(l1 = 0, l2 = 0.1)))\n",
    "model.add(Dense(units = 10, activation = 'Softmax'))"
   ]
  },
  {
   "cell_type": "code",
   "execution_count": 19,
   "id": "d6258068-8d59-4fa7-8d58-c00df639bba2",
   "metadata": {},
   "outputs": [],
   "source": [
    "model.compile(optimizer = Adam(), loss = 'categorical_crossentropy', metrics = ['Accuracy'])"
   ]
  },
  {
   "cell_type": "code",
   "execution_count": 20,
   "id": "70c5d5fc-0db4-4f18-8fc5-ec2d8d3889a7",
   "metadata": {
    "scrolled": true
   },
   "outputs": [
    {
     "name": "stdout",
     "output_type": "stream",
     "text": [
      "Epoch 1/100\n",
      "60/60 [==============================] - 1s 9ms/step - loss: 20.8037 - Accuracy: 0.2492 - val_loss: 4.8328 - val_Accuracy: 0.2420\n",
      "Epoch 2/100\n",
      "60/60 [==============================] - 0s 7ms/step - loss: 4.4387 - Accuracy: 0.2787 - val_loss: 4.1506 - val_Accuracy: 0.3024\n",
      "Epoch 3/100\n",
      "60/60 [==============================] - 0s 7ms/step - loss: 3.9149 - Accuracy: 0.3255 - val_loss: 3.7540 - val_Accuracy: 0.3395\n",
      "Epoch 4/100\n",
      "60/60 [==============================] - 0s 7ms/step - loss: 3.5342 - Accuracy: 0.3597 - val_loss: 3.3857 - val_Accuracy: 0.4126\n",
      "Epoch 5/100\n",
      "60/60 [==============================] - 0s 6ms/step - loss: 3.1444 - Accuracy: 0.4884 - val_loss: 3.0287 - val_Accuracy: 0.5280\n",
      "Epoch 6/100\n",
      "60/60 [==============================] - 0s 7ms/step - loss: 2.8170 - Accuracy: 0.5513 - val_loss: 2.7247 - val_Accuracy: 0.5959\n",
      "Epoch 7/100\n",
      "60/60 [==============================] - 0s 7ms/step - loss: 2.5452 - Accuracy: 0.6000 - val_loss: 2.4584 - val_Accuracy: 0.6349\n",
      "Epoch 8/100\n",
      "60/60 [==============================] - 0s 6ms/step - loss: 2.3094 - Accuracy: 0.6441 - val_loss: 2.2482 - val_Accuracy: 0.6658\n",
      "Epoch 9/100\n",
      "60/60 [==============================] - 0s 6ms/step - loss: 2.1076 - Accuracy: 0.6777 - val_loss: 2.0476 - val_Accuracy: 0.7000\n",
      "Epoch 10/100\n",
      "60/60 [==============================] - 0s 6ms/step - loss: 1.9173 - Accuracy: 0.7119 - val_loss: 1.8745 - val_Accuracy: 0.7330\n",
      "Epoch 11/100\n",
      "60/60 [==============================] - 0s 8ms/step - loss: 1.7569 - Accuracy: 0.7347 - val_loss: 1.7233 - val_Accuracy: 0.7491\n",
      "Epoch 12/100\n",
      "60/60 [==============================] - 0s 6ms/step - loss: 1.6185 - Accuracy: 0.7490 - val_loss: 1.6033 - val_Accuracy: 0.7533\n",
      "Epoch 13/100\n",
      "60/60 [==============================] - 0s 6ms/step - loss: 1.5010 - Accuracy: 0.7615 - val_loss: 1.4780 - val_Accuracy: 0.7703\n",
      "Epoch 14/100\n",
      "60/60 [==============================] - 0s 6ms/step - loss: 1.4000 - Accuracy: 0.7721 - val_loss: 1.3910 - val_Accuracy: 0.7786\n",
      "Epoch 15/100\n",
      "60/60 [==============================] - 0s 6ms/step - loss: 1.3122 - Accuracy: 0.7785 - val_loss: 1.3328 - val_Accuracy: 0.7827\n",
      "Epoch 16/100\n",
      "60/60 [==============================] - 0s 6ms/step - loss: 1.2346 - Accuracy: 0.7851 - val_loss: 1.2257 - val_Accuracy: 0.7914\n",
      "Epoch 17/100\n",
      "60/60 [==============================] - 0s 7ms/step - loss: 1.1547 - Accuracy: 0.7936 - val_loss: 1.1689 - val_Accuracy: 0.7993\n",
      "Epoch 18/100\n",
      "60/60 [==============================] - 0s 8ms/step - loss: 1.0929 - Accuracy: 0.7985 - val_loss: 1.1286 - val_Accuracy: 0.7866\n",
      "Epoch 19/100\n",
      "60/60 [==============================] - 1s 11ms/step - loss: 1.0290 - Accuracy: 0.8046 - val_loss: 1.0324 - val_Accuracy: 0.8040\n",
      "Epoch 20/100\n",
      "60/60 [==============================] - 1s 13ms/step - loss: 0.9742 - Accuracy: 0.8088 - val_loss: 0.9832 - val_Accuracy: 0.8099\n",
      "Epoch 21/100\n",
      "60/60 [==============================] - 0s 6ms/step - loss: 0.9236 - Accuracy: 0.8120 - val_loss: 0.9419 - val_Accuracy: 0.8096\n",
      "Epoch 22/100\n",
      "60/60 [==============================] - 0s 6ms/step - loss: 0.8790 - Accuracy: 0.8157 - val_loss: 0.9188 - val_Accuracy: 0.8107\n",
      "Epoch 23/100\n",
      "60/60 [==============================] - 0s 6ms/step - loss: 0.8055 - Accuracy: 0.8296 - val_loss: 0.7979 - val_Accuracy: 0.8804\n",
      "Epoch 24/100\n",
      "60/60 [==============================] - 0s 8ms/step - loss: 0.7407 - Accuracy: 0.8894 - val_loss: 0.7501 - val_Accuracy: 0.8943\n",
      "Epoch 25/100\n",
      "60/60 [==============================] - 1s 11ms/step - loss: 0.7065 - Accuracy: 0.8936 - val_loss: 0.7273 - val_Accuracy: 0.8964\n",
      "Epoch 26/100\n",
      "60/60 [==============================] - 1s 11ms/step - loss: 0.6638 - Accuracy: 0.8998 - val_loss: 0.6832 - val_Accuracy: 0.9036\n",
      "Epoch 27/100\n",
      "60/60 [==============================] - 0s 7ms/step - loss: 0.6052 - Accuracy: 0.9039 - val_loss: 0.5831 - val_Accuracy: 0.9023\n",
      "Epoch 28/100\n",
      "60/60 [==============================] - 0s 7ms/step - loss: 0.5401 - Accuracy: 0.9084 - val_loss: 0.5494 - val_Accuracy: 0.9113\n",
      "Epoch 29/100\n",
      "60/60 [==============================] - 0s 6ms/step - loss: 0.5030 - Accuracy: 0.9152 - val_loss: 0.5218 - val_Accuracy: 0.9122\n",
      "Epoch 30/100\n",
      "60/60 [==============================] - 0s 7ms/step - loss: 0.4771 - Accuracy: 0.9175 - val_loss: 0.5105 - val_Accuracy: 0.9149\n",
      "Epoch 31/100\n",
      "60/60 [==============================] - 1s 12ms/step - loss: 0.4609 - Accuracy: 0.9185 - val_loss: 0.4948 - val_Accuracy: 0.9097\n",
      "Epoch 32/100\n",
      "60/60 [==============================] - 1s 11ms/step - loss: 0.4422 - Accuracy: 0.9228 - val_loss: 0.4608 - val_Accuracy: 0.9204\n",
      "Epoch 33/100\n",
      "60/60 [==============================] - 0s 7ms/step - loss: 0.4238 - Accuracy: 0.9239 - val_loss: 0.4581 - val_Accuracy: 0.9237\n",
      "Epoch 34/100\n",
      "60/60 [==============================] - 0s 6ms/step - loss: 0.4041 - Accuracy: 0.9262 - val_loss: 0.4296 - val_Accuracy: 0.9216\n",
      "Epoch 35/100\n",
      "60/60 [==============================] - 0s 7ms/step - loss: 0.3949 - Accuracy: 0.9267 - val_loss: 0.4165 - val_Accuracy: 0.9258\n",
      "Epoch 36/100\n",
      "60/60 [==============================] - 1s 10ms/step - loss: 0.3775 - Accuracy: 0.9284 - val_loss: 0.4047 - val_Accuracy: 0.9223\n",
      "Epoch 37/100\n",
      "60/60 [==============================] - 1s 11ms/step - loss: 0.3628 - Accuracy: 0.9294 - val_loss: 0.3966 - val_Accuracy: 0.9277\n",
      "Epoch 38/100\n",
      "60/60 [==============================] - 1s 10ms/step - loss: 0.3523 - Accuracy: 0.9315 - val_loss: 0.3719 - val_Accuracy: 0.9306\n",
      "Epoch 39/100\n",
      "60/60 [==============================] - 0s 7ms/step - loss: 0.3368 - Accuracy: 0.9336 - val_loss: 0.3669 - val_Accuracy: 0.9298\n",
      "Epoch 40/100\n",
      "60/60 [==============================] - 0s 7ms/step - loss: 0.3337 - Accuracy: 0.9326 - val_loss: 0.3674 - val_Accuracy: 0.9317\n",
      "Epoch 41/100\n",
      "60/60 [==============================] - 0s 6ms/step - loss: 0.3345 - Accuracy: 0.9313 - val_loss: 0.3421 - val_Accuracy: 0.9346\n",
      "Epoch 42/100\n",
      "60/60 [==============================] - 1s 12ms/step - loss: 0.3092 - Accuracy: 0.9362 - val_loss: 0.3602 - val_Accuracy: 0.9309\n",
      "Epoch 43/100\n",
      "60/60 [==============================] - 1s 12ms/step - loss: 0.3023 - Accuracy: 0.9370 - val_loss: 0.3306 - val_Accuracy: 0.9309\n",
      "Epoch 44/100\n",
      "60/60 [==============================] - 0s 8ms/step - loss: 0.2989 - Accuracy: 0.9362 - val_loss: 0.3369 - val_Accuracy: 0.9290\n",
      "Epoch 45/100\n",
      "60/60 [==============================] - 0s 6ms/step - loss: 0.2997 - Accuracy: 0.9352 - val_loss: 0.3417 - val_Accuracy: 0.9285\n",
      "Epoch 46/100\n",
      "60/60 [==============================] - 0s 7ms/step - loss: 0.2867 - Accuracy: 0.9384 - val_loss: 0.3431 - val_Accuracy: 0.9270\n",
      "Epoch 47/100\n",
      "60/60 [==============================] - 0s 7ms/step - loss: 0.2813 - Accuracy: 0.9385 - val_loss: 0.3042 - val_Accuracy: 0.9359\n",
      "Epoch 48/100\n",
      "60/60 [==============================] - 0s 6ms/step - loss: 0.2865 - Accuracy: 0.9363 - val_loss: 0.3048 - val_Accuracy: 0.9383\n",
      "Epoch 49/100\n",
      "60/60 [==============================] - 0s 7ms/step - loss: 0.2734 - Accuracy: 0.9394 - val_loss: 0.2983 - val_Accuracy: 0.9351\n",
      "Epoch 50/100\n",
      "60/60 [==============================] - 0s 7ms/step - loss: 0.2664 - Accuracy: 0.9397 - val_loss: 0.3027 - val_Accuracy: 0.9353\n",
      "Epoch 51/100\n",
      "60/60 [==============================] - 0s 8ms/step - loss: 0.2706 - Accuracy: 0.9376 - val_loss: 0.2974 - val_Accuracy: 0.9330\n",
      "Epoch 52/100\n",
      "60/60 [==============================] - 0s 6ms/step - loss: 0.2683 - Accuracy: 0.9385 - val_loss: 0.3122 - val_Accuracy: 0.9336\n",
      "Epoch 53/100\n",
      "60/60 [==============================] - 0s 6ms/step - loss: 0.2639 - Accuracy: 0.9388 - val_loss: 0.3075 - val_Accuracy: 0.9304\n",
      "Epoch 54/100\n",
      "60/60 [==============================] - 0s 6ms/step - loss: 0.2565 - Accuracy: 0.9404 - val_loss: 0.2700 - val_Accuracy: 0.9404\n",
      "Epoch 55/100\n",
      "60/60 [==============================] - 0s 8ms/step - loss: 0.2426 - Accuracy: 0.9436 - val_loss: 0.2799 - val_Accuracy: 0.9423\n",
      "Epoch 56/100\n",
      "60/60 [==============================] - 1s 11ms/step - loss: 0.2449 - Accuracy: 0.9427 - val_loss: 0.2716 - val_Accuracy: 0.9401\n",
      "Epoch 57/100\n",
      "60/60 [==============================] - 1s 17ms/step - loss: 0.2472 - Accuracy: 0.9417 - val_loss: 0.2702 - val_Accuracy: 0.9391\n",
      "Epoch 58/100\n",
      "60/60 [==============================] - 1s 13ms/step - loss: 0.2670 - Accuracy: 0.9396 - val_loss: 0.2882 - val_Accuracy: 0.9405\n",
      "Epoch 59/100\n",
      "60/60 [==============================] - 1s 11ms/step - loss: 0.2769 - Accuracy: 0.9419 - val_loss: 0.2970 - val_Accuracy: 0.9437\n",
      "Epoch 60/100\n",
      "60/60 [==============================] - 1s 11ms/step - loss: 0.2611 - Accuracy: 0.9429 - val_loss: 0.2759 - val_Accuracy: 0.9418\n",
      "Epoch 61/100\n",
      "60/60 [==============================] - 1s 11ms/step - loss: 0.2552 - Accuracy: 0.9440 - val_loss: 0.2860 - val_Accuracy: 0.9440\n",
      "Epoch 62/100\n",
      "60/60 [==============================] - 0s 6ms/step - loss: 0.2626 - Accuracy: 0.9422 - val_loss: 0.3197 - val_Accuracy: 0.9360\n",
      "Epoch 63/100\n",
      "60/60 [==============================] - 0s 8ms/step - loss: 0.2599 - Accuracy: 0.9425 - val_loss: 0.2694 - val_Accuracy: 0.9437\n",
      "Epoch 64/100\n",
      "60/60 [==============================] - 0s 8ms/step - loss: 0.2407 - Accuracy: 0.9461 - val_loss: 0.2588 - val_Accuracy: 0.9430\n",
      "Epoch 65/100\n",
      "60/60 [==============================] - 1s 13ms/step - loss: 0.2428 - Accuracy: 0.9442 - val_loss: 0.2622 - val_Accuracy: 0.9454\n",
      "Epoch 66/100\n",
      "60/60 [==============================] - 1s 13ms/step - loss: 0.2362 - Accuracy: 0.9466 - val_loss: 0.2592 - val_Accuracy: 0.9450\n",
      "Epoch 67/100\n",
      "60/60 [==============================] - 1s 12ms/step - loss: 0.2316 - Accuracy: 0.9470 - val_loss: 0.2507 - val_Accuracy: 0.9431\n",
      "Epoch 68/100\n",
      "60/60 [==============================] - 1s 15ms/step - loss: 0.2265 - Accuracy: 0.9477 - val_loss: 0.2472 - val_Accuracy: 0.9457\n",
      "Epoch 69/100\n",
      "60/60 [==============================] - 1s 12ms/step - loss: 0.2313 - Accuracy: 0.9464 - val_loss: 0.2536 - val_Accuracy: 0.9413\n",
      "Epoch 70/100\n",
      "60/60 [==============================] - 1s 11ms/step - loss: 0.2298 - Accuracy: 0.9463 - val_loss: 0.2462 - val_Accuracy: 0.9468\n",
      "Epoch 71/100\n",
      "60/60 [==============================] - 0s 8ms/step - loss: 0.2334 - Accuracy: 0.9458 - val_loss: 0.2592 - val_Accuracy: 0.9419\n",
      "Epoch 72/100\n",
      "60/60 [==============================] - 0s 6ms/step - loss: 0.2312 - Accuracy: 0.9459 - val_loss: 0.2428 - val_Accuracy: 0.9456\n",
      "Epoch 73/100\n",
      "60/60 [==============================] - 0s 6ms/step - loss: 0.2391 - Accuracy: 0.9452 - val_loss: 0.2777 - val_Accuracy: 0.9408\n",
      "Epoch 74/100\n",
      "60/60 [==============================] - 0s 7ms/step - loss: 0.2452 - Accuracy: 0.9481 - val_loss: 0.2592 - val_Accuracy: 0.9476\n",
      "Epoch 75/100\n",
      "60/60 [==============================] - 1s 11ms/step - loss: 0.2399 - Accuracy: 0.9469 - val_loss: 0.2594 - val_Accuracy: 0.9413\n",
      "Epoch 76/100\n",
      "60/60 [==============================] - 1s 10ms/step - loss: 0.2348 - Accuracy: 0.9480 - val_loss: 0.2647 - val_Accuracy: 0.9418\n",
      "Epoch 77/100\n",
      "60/60 [==============================] - 1s 11ms/step - loss: 0.2340 - Accuracy: 0.9468 - val_loss: 0.2478 - val_Accuracy: 0.9481\n",
      "Epoch 78/100\n",
      "60/60 [==============================] - 1s 11ms/step - loss: 0.2361 - Accuracy: 0.9448 - val_loss: 0.2585 - val_Accuracy: 0.9431\n",
      "Epoch 79/100\n",
      "60/60 [==============================] - 1s 10ms/step - loss: 0.2273 - Accuracy: 0.9479 - val_loss: 0.2357 - val_Accuracy: 0.9501\n",
      "Epoch 80/100\n",
      "60/60 [==============================] - 1s 12ms/step - loss: 0.2278 - Accuracy: 0.9482 - val_loss: 0.2514 - val_Accuracy: 0.9437\n",
      "Epoch 81/100\n",
      "60/60 [==============================] - 1s 10ms/step - loss: 0.2214 - Accuracy: 0.9481 - val_loss: 0.2577 - val_Accuracy: 0.9426\n",
      "Epoch 82/100\n",
      "60/60 [==============================] - 0s 7ms/step - loss: 0.2246 - Accuracy: 0.9472 - val_loss: 0.2447 - val_Accuracy: 0.9457\n",
      "Epoch 83/100\n",
      "60/60 [==============================] - 0s 6ms/step - loss: 0.2157 - Accuracy: 0.9495 - val_loss: 0.2639 - val_Accuracy: 0.9424\n",
      "Epoch 84/100\n",
      "60/60 [==============================] - 0s 6ms/step - loss: 0.2170 - Accuracy: 0.9486 - val_loss: 0.2281 - val_Accuracy: 0.9474\n",
      "Epoch 85/100\n",
      "60/60 [==============================] - 1s 9ms/step - loss: 0.2131 - Accuracy: 0.9500 - val_loss: 0.2342 - val_Accuracy: 0.9482\n",
      "Epoch 86/100\n",
      "60/60 [==============================] - 1s 10ms/step - loss: 0.2127 - Accuracy: 0.9496 - val_loss: 0.2290 - val_Accuracy: 0.9471\n",
      "Epoch 87/100\n",
      "60/60 [==============================] - 1s 11ms/step - loss: 0.2191 - Accuracy: 0.9475 - val_loss: 0.2722 - val_Accuracy: 0.9348\n",
      "Epoch 88/100\n",
      "60/60 [==============================] - 1s 11ms/step - loss: 0.2222 - Accuracy: 0.9482 - val_loss: 0.2553 - val_Accuracy: 0.9446\n",
      "Epoch 89/100\n",
      "60/60 [==============================] - 1s 10ms/step - loss: 0.2125 - Accuracy: 0.9517 - val_loss: 0.2401 - val_Accuracy: 0.9451\n",
      "Epoch 90/100\n",
      "60/60 [==============================] - 1s 9ms/step - loss: 0.2142 - Accuracy: 0.9496 - val_loss: 0.2432 - val_Accuracy: 0.9432\n",
      "Epoch 91/100\n",
      "60/60 [==============================] - 0s 6ms/step - loss: 0.2274 - Accuracy: 0.9458 - val_loss: 0.2440 - val_Accuracy: 0.9480\n",
      "Epoch 92/100\n",
      "60/60 [==============================] - 0s 6ms/step - loss: 0.2568 - Accuracy: 0.9474 - val_loss: 0.2619 - val_Accuracy: 0.9490\n",
      "Epoch 93/100\n",
      "60/60 [==============================] - 0s 8ms/step - loss: 0.2408 - Accuracy: 0.9495 - val_loss: 0.2807 - val_Accuracy: 0.9437\n",
      "Epoch 94/100\n",
      "60/60 [==============================] - 1s 10ms/step - loss: 0.2330 - Accuracy: 0.9509 - val_loss: 0.2484 - val_Accuracy: 0.9489\n",
      "Epoch 95/100\n",
      "60/60 [==============================] - 1s 10ms/step - loss: 0.2260 - Accuracy: 0.9508 - val_loss: 0.2640 - val_Accuracy: 0.9442\n",
      "Epoch 96/100\n",
      "60/60 [==============================] - 1s 10ms/step - loss: 0.2267 - Accuracy: 0.9505 - val_loss: 0.2469 - val_Accuracy: 0.9474\n",
      "Epoch 97/100\n",
      "60/60 [==============================] - 1s 10ms/step - loss: 0.2222 - Accuracy: 0.9514 - val_loss: 0.2337 - val_Accuracy: 0.9491\n",
      "Epoch 98/100\n",
      "60/60 [==============================] - 1s 11ms/step - loss: 0.2215 - Accuracy: 0.9500 - val_loss: 0.2401 - val_Accuracy: 0.9477\n",
      "Epoch 99/100\n",
      "60/60 [==============================] - 1s 10ms/step - loss: 0.2155 - Accuracy: 0.9518 - val_loss: 0.2457 - val_Accuracy: 0.9447\n",
      "Epoch 100/100\n",
      "60/60 [==============================] - 1s 13ms/step - loss: 0.2188 - Accuracy: 0.9505 - val_loss: 0.2403 - val_Accuracy: 0.9458\n"
     ]
    },
    {
     "data": {
      "text/plain": [
       "<keras.src.callbacks.History at 0x1e8ece4d150>"
      ]
     },
     "execution_count": 20,
     "metadata": {},
     "output_type": "execute_result"
    }
   ],
   "source": [
    "model.fit(x_train, y_train_ohe, epochs = 100, validation_data=(x_test, y_test_ohe), batch_size=1000)"
   ]
  },
  {
   "cell_type": "code",
   "execution_count": 21,
   "id": "b503d3ab-ecf3-4cec-a82a-649cd94603f2",
   "metadata": {},
   "outputs": [
    {
     "data": {
      "text/plain": [
       "dict_keys(['loss', 'Accuracy', 'val_loss', 'val_Accuracy'])"
      ]
     },
     "execution_count": 21,
     "metadata": {},
     "output_type": "execute_result"
    }
   ],
   "source": [
    "model.history.history.keys()"
   ]
  },
  {
   "cell_type": "code",
   "execution_count": 22,
   "id": "869ab709-7202-4776-89ff-97088a7885c8",
   "metadata": {},
   "outputs": [
    {
     "data": {
      "image/png": "[encoded data removed]",
      "text/plain": [
       "<Figure size 640x480 with 1 Axes>"
      ]
     },
     "metadata": {},
     "output_type": "display_data"
    },
    {
     "data": {
      "image/png": "[encoded data removed]",
      "text/plain": [
       "<Figure size 640x480 with 1 Axes>"
      ]
     },
     "metadata": {},
     "output_type": "display_data"
    }
   ],
   "source": [
    "train_loss = model.history.history['loss']\n",
    "validation_loss = model.history.history['val_loss']\n",
    "train_accuracy = model.history.history['Accuracy']\n",
    "validation_accuracy = model.history.history['val_Accuracy']\n",
    "\n",
    "plt.plot(train_loss, label = 'Train Loss')\n",
    "plt.plot(validation_loss, label = 'Validation Loss')\n",
    "plt.xlabel('train_loss')\n",
    "plt.ylabel('validation loss')\n",
    "plt.legend()\n",
    "plt.title('Loss Curve')\n",
    "plt.show()\n",
    "\n",
    "plt.plot(train_accuracy, label = 'Train Accuracy')\n",
    "plt.plot(validation_accuracy, label = 'Validation Accuracy')\n",
    "plt.xlabel('Train Accuracy')\n",
    "plt.ylabel('Validation Accuracy')\n",
    "plt.legend()\n",
    "plt.title('Accuracy Curve')\n",
    "plt.show()"
   ]
  },
  {
   "cell_type": "code",
   "execution_count": 23,
   "id": "ebfe819e-0a5e-4c79-91cc-0933fab9a672",
   "metadata": {},
   "outputs": [
    {
     "name": "stdout",
     "output_type": "stream",
     "text": [
      "313/313 [==============================] - 1s 1ms/step\n"
     ]
    }
   ],
   "source": [
    "prediction = model.predict(x_test)"
   ]
  },
  {
   "cell_type": "code",
   "execution_count": 24,
   "id": "ca9c7791-fdbe-4684-af2a-e9de771ce420",
   "metadata": {},
   "outputs": [
    {
     "data": {
      "text/plain": [
       "(10000, 10)"
      ]
     },
     "execution_count": 24,
     "metadata": {},
     "output_type": "execute_result"
    }
   ],
   "source": [
    "prediction.shape"
   ]
  },
  {
   "cell_type": "code",
   "execution_count": 25,
   "id": "3965f1cc-b714-432a-b733-68a725c06c48",
   "metadata": {},
   "outputs": [
    {
     "data": {
      "image/png": "[encoded data removed]",
      "text/plain": [
       "<Figure size 640x480 with 1 Axes>"
      ]
     },
     "metadata": {},
     "output_type": "display_data"
    }
   ],
   "source": [
    "plt.imshow(x_test.reshape(-1,28,28)[0],cmap = 'gray')\n",
    "plt.show()\n"
   ]
  },
  {
   "cell_type": "code",
   "execution_count": 26,
   "id": "dedf1f1d-97b0-49b0-acf9-7a015351d511",
   "metadata": {},
   "outputs": [
    {
     "data": {
      "image/png": "[encoded data removed]",
      "text/plain": [
       "<Figure size 640x480 with 1 Axes>"
      ]
     },
     "metadata": {},
     "output_type": "display_data"
    }
   ],
   "source": [
    "plt.imshow(x_test.reshape(-1,28,28)[4], cmap = 'gray')\n",
    "plt.show()"
   ]
  },
  {
   "cell_type": "code",
   "execution_count": 27,
   "id": "dbd53a0f-9b39-4a45-a02b-b6d3f4346963",
   "metadata": {},
   "outputs": [
    {
     "data": {
      "text/plain": [
       "7"
      ]
     },
     "execution_count": 27,
     "metadata": {},
     "output_type": "execute_result"
    }
   ],
   "source": [
    "np.argmax(prediction[0])"
   ]
  },
  {
   "cell_type": "code",
   "execution_count": 28,
   "id": "5e9c7e04-dc51-4c6c-ba98-b2fb16284b29",
   "metadata": {},
   "outputs": [],
   "source": [
    "prediction_class = np.argmax(prediction, axis = 1) # For multi-class classification"
   ]
  },
  {
   "cell_type": "code",
   "execution_count": 29,
   "id": "2a877c86-f88c-47fa-989f-12b86830acd0",
   "metadata": {},
   "outputs": [
    {
     "data": {
      "text/plain": [
       "array([7, 2, 1, ..., 4, 5, 6], dtype=int64)"
      ]
     },
     "execution_count": 29,
     "metadata": {},
     "output_type": "execute_result"
    }
   ],
   "source": [
    "prediction_class"
   ]
  },
  {
   "cell_type": "code",
   "execution_count": 30,
   "id": "77188569-efe4-4978-96a5-512e2d126556",
   "metadata": {},
   "outputs": [
    {
     "data": {
      "text/plain": [
       "array([1, 1, 1, 0, 0, 1, 1, 1, 0, 0, 1, 0, 0, 1, 1, 1, 1, 1, 1, 0, 1, 0,\n",
       "       1, 1, 0, 1, 1, 0, 1, 1, 0, 0, 0, 0, 0, 0, 0, 0, 0, 1, 0, 1, 0, 0,\n",
       "       0, 1, 0, 0, 0, 1, 0, 0, 1, 0, 1, 1, 1, 1, 1, 0, 0, 1, 0, 0, 1, 1,\n",
       "       1, 1, 1, 1, 0, 0, 1, 0, 1, 0, 1, 0, 1, 0, 1, 0, 1, 1, 1, 1, 0, 1,\n",
       "       1, 1, 0, 1, 1, 0, 1, 1, 1, 0, 0, 1])"
      ]
     },
     "execution_count": 30,
     "metadata": {},
     "output_type": "execute_result"
    }
   ],
   "source": [
    "pred = np.random.uniform(0,1,100)\n",
    "np.where(pred>0.5,1,0) # Converting probability distribution into 2 separate categories using threshold\n",
    "# For binary class classification"
   ]
  },
  {
   "cell_type": "code",
   "execution_count": 31,
   "id": "ea89579d-e0a8-4624-a147-0b90a699ea79",
   "metadata": {},
   "outputs": [],
   "source": [
    "from sklearn.metrics import *"
   ]
  },
  {
   "cell_type": "code",
   "execution_count": 32,
   "id": "12fdda8f-feb6-4776-8414-f822ee1de713",
   "metadata": {},
   "outputs": [
    {
     "data": {
      "text/plain": [
       "array([[ 965,    0,    0,    3,    1,    2,    6,    1,    1,    1],\n",
       "       [   0, 1120,    3,    2,    1,    1,    4,    1,    3,    0],\n",
       "       [   6,    4,  959,   27,   10,    0,    5,   13,    8,    0],\n",
       "       [   3,    6,   19,  946,    2,   21,    1,    4,    5,    3],\n",
       "       [   2,    0,    3,    0,  942,    0,    6,    3,    2,   24],\n",
       "       [   2,    1,    2,   21,    2,  829,   24,    1,    6,    4],\n",
       "       [   8,    3,    0,    0,    9,    9,  927,    0,    2,    0],\n",
       "       [   1,   14,   10,    9,    5,    2,    1,  955,    1,   30],\n",
       "       [  12,    4,    7,   30,    9,   13,   12,    3,  867,   17],\n",
       "       [   5,    4,    0,   18,   21,    5,    0,    7,    1,  948]],\n",
       "      dtype=int64)"
      ]
     },
     "execution_count": 32,
     "metadata": {},
     "output_type": "execute_result"
    }
   ],
   "source": [
    "cf = confusion_matrix(y_test, prediction_class)\n",
    "cf"
   ]
  },
  {
   "cell_type": "code",
   "execution_count": 33,
   "id": "7787139c-087a-4cad-af08-90107c1ff732",
   "metadata": {},
   "outputs": [
    {
     "data": {
      "text/html": [
       "<div>\n",
       "<style scoped>\n",
       "    .dataframe tbody tr th:only-of-type {\n",
       "        vertical-align: middle;\n",
       "    }\n",
       "\n",
       "    .dataframe tbody tr th {\n",
       "        vertical-align: top;\n",
       "    }\n",
       "\n",
       "    .dataframe thead th {\n",
       "        text-align: right;\n",
       "    }\n",
       "</style>\n",
       "<table border=\"1\" class=\"dataframe\">\n",
       "  <thead>\n",
       "    <tr style=\"text-align: right;\">\n",
       "      <th></th>\n",
       "      <th>Actuals</th>\n",
       "      <th>Predicted</th>\n",
       "    </tr>\n",
       "  </thead>\n",
       "  <tbody>\n",
       "    <tr>\n",
       "      <th>0</th>\n",
       "      <td>7</td>\n",
       "      <td>7</td>\n",
       "    </tr>\n",
       "    <tr>\n",
       "      <th>1</th>\n",
       "      <td>2</td>\n",
       "      <td>2</td>\n",
       "    </tr>\n",
       "    <tr>\n",
       "      <th>2</th>\n",
       "      <td>1</td>\n",
       "      <td>1</td>\n",
       "    </tr>\n",
       "    <tr>\n",
       "      <th>3</th>\n",
       "      <td>0</td>\n",
       "      <td>0</td>\n",
       "    </tr>\n",
       "    <tr>\n",
       "      <th>4</th>\n",
       "      <td>4</td>\n",
       "      <td>4</td>\n",
       "    </tr>\n",
       "    <tr>\n",
       "      <th>...</th>\n",
       "      <td>...</td>\n",
       "      <td>...</td>\n",
       "    </tr>\n",
       "    <tr>\n",
       "      <th>9995</th>\n",
       "      <td>2</td>\n",
       "      <td>2</td>\n",
       "    </tr>\n",
       "    <tr>\n",
       "      <th>9996</th>\n",
       "      <td>3</td>\n",
       "      <td>3</td>\n",
       "    </tr>\n",
       "    <tr>\n",
       "      <th>9997</th>\n",
       "      <td>4</td>\n",
       "      <td>4</td>\n",
       "    </tr>\n",
       "    <tr>\n",
       "      <th>9998</th>\n",
       "      <td>5</td>\n",
       "      <td>5</td>\n",
       "    </tr>\n",
       "    <tr>\n",
       "      <th>9999</th>\n",
       "      <td>6</td>\n",
       "      <td>6</td>\n",
       "    </tr>\n",
       "  </tbody>\n",
       "</table>\n",
       "<p>10000 rows × 2 columns</p>\n",
       "</div>"
      ],
      "text/plain": [
       "      Actuals  Predicted\n",
       "0           7          7\n",
       "1           2          2\n",
       "2           1          1\n",
       "3           0          0\n",
       "4           4          4\n",
       "...       ...        ...\n",
       "9995        2          2\n",
       "9996        3          3\n",
       "9997        4          4\n",
       "9998        5          5\n",
       "9999        6          6\n",
       "\n",
       "[10000 rows x 2 columns]"
      ]
     },
     "execution_count": 33,
     "metadata": {},
     "output_type": "execute_result"
    }
   ],
   "source": [
    "pd.DataFrame({'Actuals':y_test, 'Predicted':prediction_class})"
   ]
  },
  {
   "cell_type": "code",
   "execution_count": 34,
   "id": "a2272583-ae96-4c98-8038-1a5d113f8d2d",
   "metadata": {},
   "outputs": [
    {
     "name": "stdout",
     "output_type": "stream",
     "text": [
      "Model: \"sequential\"\n",
      "_________________________________________________________________\n",
      " Layer (type)                Output Shape              Param #   \n",
      "=================================================================\n",
      " dense (Dense)               (None, 20)                15700     \n",
      "                                                                 \n",
      " dense_1 (Dense)             (None, 10)                210       \n",
      "                                                                 \n",
      "=================================================================\n",
      "Total params: 15910 (62.15 KB)\n",
      "Trainable params: 15910 (62.15 KB)\n",
      "Non-trainable params: 0 (0.00 Byte)\n",
      "_________________________________________________________________\n"
     ]
    }
   ],
   "source": [
    "model.summary()"
   ]
  }
 ],
 "metadata": {
  "kernelspec": {
   "display_name": "Python 3 (ipykernel)",
   "language": "python",
   "name": "python3"
  },
  "language_info": {
   "codemirror_mode": {
    "name": "ipython",
    "version": 3
   },
   "file_extension": ".py",
   "mimetype": "text/x-python",
   "name": "python",
   "nbconvert_exporter": "python",
   "pygments_lexer": "ipython3",
   "version": "3.11.11"
  }
 },
 "nbformat": 4,
 "nbformat_minor": 5
}
