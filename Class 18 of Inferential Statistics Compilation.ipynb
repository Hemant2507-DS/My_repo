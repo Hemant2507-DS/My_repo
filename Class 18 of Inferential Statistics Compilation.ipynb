{
 "cells": [
  {
   "cell_type": "code",
   "execution_count": 4,
   "id": "1c977ee8",
   "metadata": {},
   "outputs": [],
   "source": [
    "import pandas as pd\n",
    "import numpy as np\n",
    "from scipy import stats"
   ]
  },
  {
   "cell_type": "code",
   "execution_count": null,
   "id": "9a8e1e85",
   "metadata": {},
   "outputs": [],
   "source": [
    "## Two Samples T test - wipro, tcs, edgeverve, meta, --- glassdoor\n",
    "\n",
    "# Example: Comparing Test Scores of Students from Different Schools\n",
    "\n",
    "# Suppose we have two groups of students: students from School A and students from School B.\n",
    "# We want to determine if there's a significant difference in their performance on a standardized test.\n",
    "\n",
    "# Here's the setup:\n",
    "\n",
    "# Group A consists of 30 students from School A.\n",
    "# Group B consists of 30 students from School B.\n",
    "# Both schools claim that their teaching methods are superior, so we want to test if there's evidence to support either claim."
   ]
  },
  {
   "cell_type": "code",
   "execution_count": null,
   "id": "b82a9497",
   "metadata": {},
   "outputs": [],
   "source": [
    "# There's no data given. So, you should be able to generate it on your own.\n",
    "# The simplest way to do it is use random function that generates data with 'Normal Distribution'.\n",
    "# We choose scale = 3 because after third mean deviation in the Normal Distribution, data seems to be insignificant\n",
    "\n",
    "np.random.seed(3)\n",
    "\n",
    "school_A_scores = np.random.normal(loc = 75, scale = 3, size = 30) # loc means: 'Mean = Median = Mode' \n",
    "                                                                   # scale = std.dev i.e. deviation you expect from the 'mean' value\n",
    "school_B_scores = np.random.normal(loc = 70, scale = 3, size = 30)\n",
    "\n",
    "# Note: if you don't specify the 'loc', you'll get values randing from -0.16 to 80 that seems kind of odd to consider."
   ]
  },
  {
   "cell_type": "code",
   "execution_count": 8,
   "id": "14b710c8",
   "metadata": {},
   "outputs": [
    {
     "name": "stdout",
     "output_type": "stream",
     "text": [
      "[80.36588542 76.30952955 75.2894924  69.40952189 74.16783539 73.93572306\n",
      " 74.75177556 73.11899797 74.86854549 73.56834591 71.05840574 77.65386714\n",
      " 77.64395413 80.12871919 75.15010093 73.78596776 73.36392016 70.36056805\n",
      " 77.9471023  71.69679711 71.44486042 74.3830503  79.45844507 75.7101488\n",
      " 71.92864458 72.8610204  76.8757349  74.51845991 72.69349095 74.30990783]\n",
      "[72.2351688  75.92833235 66.26763001 68.12074927 67.58870172 62.74275048\n",
      " 67.22862393 66.92837272 73.37193388 69.6042573  65.13014366 71.94002636\n",
      " 68.93118772 64.77057689 68.21005107 68.23421686 67.37835311 70.08914145\n",
      " 63.2552267  69.19671441 73.03955033 72.55839352 73.3245625  73.35817197\n",
      " 74.4626294  66.64509795 72.53750022 64.41733141 68.19134469 64.25658387]\n"
     ]
    }
   ],
   "source": [
    "print(school_A_scores)\n",
    "print(school_B_scores)"
   ]
  },
  {
   "cell_type": "code",
   "execution_count": 13,
   "id": "3d21f558",
   "metadata": {},
   "outputs": [
    {
     "name": "stdout",
     "output_type": "stream",
     "text": [
      "t_statistic: 6.796907832821875\n",
      "p_value is: 6.423891638635396e-09\n",
      "Reject Ho: There is significant difference in the performance of 2 scools\n"
     ]
    }
   ],
   "source": [
    "alpha = 0.5\n",
    "t_statistic, p_value = stats.ttest_ind(school_A_scores, school_B_scores)\n",
    "print(f't_statistic: {t_statistic}')\n",
    "print(f'p_value is: {p_value}')\n",
    "\n",
    "if p_value < alpha:\n",
    "    print(f\"Reject Ho: There is significant difference in the performance of 2 scools\")\n",
    "else:\n",
    "    print(f\"fail to reject Ho: There is no significant difference in the performance of 2 schools\")"
   ]
  },
  {
   "cell_type": "code",
   "execution_count": null,
   "id": "8a1804fd",
   "metadata": {},
   "outputs": [],
   "source": [
    "# Examining the Effectiveness of a Memory Technique - Meta, Amazon,\n",
    "\n",
    "# Suppose a group of students wants to test the effectiveness of a memory technique called \"Method of Loci\"\n",
    "# in improving memory retention. The method involves associating items to be remembered with specific locations\n",
    "# in a familiar environment, such as rooms in a house.\n",
    "\n",
    "# Here's the setup:\n",
    "\n",
    "# The students will take a memory test before and after using the Method of Loci.\n",
    "# Each student will recall a list of 20 words both before and after using the memory technique.\n",
    "# We want to determine if there's a significant improvement in memory performance after using the Method of Loci\n"
   ]
  },
  {
   "cell_type": "code",
   "execution_count": 18,
   "id": "52ae08d3",
   "metadata": {},
   "outputs": [
    {
     "name": "stdout",
     "output_type": "stream",
     "text": [
      "T_statistic_value: 0.0051057160770797945\n",
      "p_value: -3.0296971631916825\n",
      "Reject Ho: There was significant improvement in memory performance after using method of loci\n"
     ]
    }
   ],
   "source": [
    "np.random.seed(3)\n",
    "alpha = 0.05\n",
    "Before_method_of_loci = np.random.normal(loc = 12, scale = 3, size = 30)\n",
    "After_method_of_loci = np.random.normal(loc = 15, scale = 3, size = 30)\n",
    "p_value, t_statistic = stats.ttest_rel(Before_method_of_loci, After_method_of_loci)\n",
    "print(f'T_statistic_value: {t_statistic}')\n",
    "print(f'p_value: {p_value}')\n",
    "\n",
    "if p_value < alpha:\n",
    "    print(f'Reject Ho: There was significant improvement in memory performance after using method of loci')\n",
    "else:\n",
    "    print(f'fail to reject Ho: There was no significant improvement in memory performance after using the method of loci')"
   ]
  },
  {
   "cell_type": "markdown",
   "id": "3b07d4d6",
   "metadata": {},
   "source": [
    "### Z-test"
   ]
  },
  {
   "cell_type": "code",
   "execution_count": 27,
   "id": "dfdc4681",
   "metadata": {},
   "outputs": [
    {
     "name": "stdout",
     "output_type": "stream",
     "text": [
      "The z_statistic calculated is: -5.059644256269407\n"
     ]
    }
   ],
   "source": [
    "# In a shampoo manufacturing company, a standard shampoo bottle is set at 80 ml standard, \n",
    "# while filling up the bottle it was observed that a random sample of 40 gave average volume as 78ml, \n",
    "# with a standard deviation of 2.5 ml, can you identify if the probelm is in the bottle filling machine at 95% CI\n",
    "population_mean = 80 \n",
    "sample_mean = 78\n",
    "n = 40\n",
    "std_dev = 2.5\n",
    "alpha = 0.05\n",
    "\n",
    "# using formula,\n",
    "z_statistic = (sample_mean - population_mean)/(std_dev/np.sqrt(n))\n",
    "print(f'The z_statistic calculated is: {z_statistic}')"
   ]
  },
  {
   "cell_type": "code",
   "execution_count": 26,
   "id": "31164cdd",
   "metadata": {},
   "outputs": [],
   "source": [
    "# To calculate Z_statistic you import norm from scipy.stats\n",
    "from scipy.stats import norm"
   ]
  },
  {
   "cell_type": "code",
   "execution_count": 28,
   "id": "aa8ed105",
   "metadata": {},
   "outputs": [
    {
     "name": "stdout",
     "output_type": "stream",
     "text": [
      "z_critical value is: 1.959963984540054\n"
     ]
    }
   ],
   "source": [
    "z_critical = norm.ppf(1-alpha/2)\n",
    "print(f'z_critical value is: {z_critical}')"
   ]
  },
  {
   "cell_type": "code",
   "execution_count": 29,
   "id": "53917af5",
   "metadata": {},
   "outputs": [
    {
     "name": "stdout",
     "output_type": "stream",
     "text": [
      "p_value is: 4.200393977082939e-07\n"
     ]
    }
   ],
   "source": [
    "# Calculating P_Value\n",
    "p_value = 2 * (1-norm.cdf(abs(z_statistic)))\n",
    "print(f'p_value is: {p_value}')"
   ]
  },
  {
   "cell_type": "code",
   "execution_count": 31,
   "id": "67f1a365",
   "metadata": {},
   "outputs": [
    {
     "name": "stdout",
     "output_type": "stream",
     "text": [
      "The z_statistic calculated is: -5.059644256269407\n",
      "z_critical value is: 1.959963984540054\n",
      "p_value is: 4.200393977082939e-07\n",
      "Reject Ho: There is problem in the bottle filling machine\n"
     ]
    }
   ],
   "source": [
    "print(f'The z_statistic calculated is: {z_statistic}')\n",
    "print(f'z_critical value is: {z_critical}')\n",
    "print(f'p_value is: {p_value}')\n",
    "\n",
    "if p_value < alpha:\n",
    "    print(f'Reject Ho: There is problem in the bottle filling machine')\n",
    "else:\n",
    "    print(f'Fail to reject Ho: There is no problem in the bottle filling machine')"
   ]
  },
  {
   "cell_type": "markdown",
   "id": "7e6dcd3e",
   "metadata": {},
   "source": [
    "### Z Test for proportion"
   ]
  },
  {
   "cell_type": "code",
   "execution_count": null,
   "id": "f9fe28c2",
   "metadata": {},
   "outputs": [],
   "source": [
    "# In a survey conducted in Bangalore by Grace Deborah, It was found that 960 people out of 1860 people were vegetarians and \n",
    "# others were non vegetarians. Find out if veg and non vegetarian people are equal in size, at 99%"
   ]
  },
  {
   "cell_type": "code",
   "execution_count": 38,
   "id": "b7343624",
   "metadata": {},
   "outputs": [
    {
     "name": "stdout",
     "output_type": "stream",
     "text": [
      "Fail to reject Ho: The number of vegetarians and non-vegetarians are same in number\n"
     ]
    }
   ],
   "source": [
    "from statsmodels.stats.proportion import proportions_ztest\n",
    "vegetarian_count  = 960\n",
    "total_population = 1860\n",
    "p_hat  = vegetarian_count/total_population\n",
    "alpha = 0.01\n",
    "\n",
    "z_stat, p_value = proportions_ztest(count = vegetarian_count, nobs = total_population, value = 0.50, alternative = 'two-sided')\n",
    "\n",
    "if p_value < alpha:\n",
    "    print(f\"Reject Ho: The number of vegetarians and non-vegetarians are not the same in number\")\n",
    "else:\n",
    "    print(f\"Fail to reject Ho: The number of vegetarians and non-vegetarians are same in number\")\n",
    "          \n"
   ]
  },
  {
   "cell_type": "code",
   "execution_count": null,
   "id": "f1db0d56",
   "metadata": {},
   "outputs": [],
   "source": []
  }
 ],
 "metadata": {
  "kernelspec": {
   "display_name": "Python 3 (ipykernel)",
   "language": "python",
   "name": "python3"
  },
  "language_info": {
   "codemirror_mode": {
    "name": "ipython",
    "version": 3
   },
   "file_extension": ".py",
   "mimetype": "text/x-python",
   "name": "python",
   "nbconvert_exporter": "python",
   "pygments_lexer": "ipython3",
   "version": "3.11.5"
  }
 },
 "nbformat": 4,
 "nbformat_minor": 5
}
